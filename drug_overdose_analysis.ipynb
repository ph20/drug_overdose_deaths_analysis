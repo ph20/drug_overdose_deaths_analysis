{
 "cells": [
  {
   "cell_type": "markdown",
   "source": [
    "# Data Analysis of Drug-Related Mortality in the United States"
   ],
   "metadata": {
    "collapsed": false
   }
  },
  {
   "cell_type": "markdown",
   "source": [
    "Data source: https://www.kaggle.com/ruchi798/drug-overdose-deaths\n",
    "\n",
    "The dataset contains information on drug overdose deaths in Connecticut between 2012 and 2018. It includes demographic information such as age, sex, and race, as well as information about the type and amount of drugs involved in the deaths. The goal of the dataset is to provide insight into the factors contributing to drug overdose deaths in Connecticut and to help inform public health policy and interventions."
   ],
   "metadata": {
    "collapsed": false
   }
  },
  {
   "cell_type": "markdown",
   "source": [],
   "metadata": {
    "collapsed": false
   }
  },
  {
   "cell_type": "code",
   "execution_count": 41,
   "outputs": [],
   "source": [
    "import matplotlib.pyplot as plt\n",
    "import pandas as pd\n",
    "import numpy as np\n",
    "from sklearn.model_selection import train_test_split\n",
    "from sklearn.linear_model import LogisticRegression\n",
    "from sklearn.ensemble import RandomForestClassifier\n",
    "from sklearn.neighbors import KNeighborsClassifier\n",
    "from sklearn.metrics import accuracy_score\n",
    "from sklearn.feature_selection import RFECV\n",
    "from sklearn.model_selection import StratifiedKFold\n",
    "from sklearn.model_selection import GridSearchCV\n",
    "\n",
    "import warnings\n",
    "from sklearn.exceptions import ConvergenceWarning\n",
    "warnings.filterwarnings('ignore')\n",
    "\n",
    "# Suppress warnings\n",
    "import os\n",
    "os.environ['PYTHONWARNINGS'] = 'ignore::UserWarning,ignore::ConvergenceWarning'"
   ],
   "metadata": {
    "collapsed": false,
    "ExecuteTime": {
     "start_time": "2023-04-13T23:25:36.485420Z",
     "end_time": "2023-04-13T23:25:36.611233Z"
    }
   }
  },
  {
   "cell_type": "markdown",
   "source": [
    "# Data Exploration"
   ],
   "metadata": {
    "collapsed": false
   }
  },
  {
   "cell_type": "code",
   "execution_count": 42,
   "outputs": [
    {
     "name": "stdout",
     "output_type": "stream",
     "text": [
      "DF Shape: 5105 Rows, 42 Columns\n"
     ]
    },
    {
     "data": {
      "text/plain": "    Unnamed: 0       ID                    Date  DateType   Age     Sex  \\\n0            0  14-0273  06/28/2014 12:00:00 AM       1.0   NaN     NaN   \n1            1  13-0102  03/21/2013 12:00:00 AM       0.0  48.0    Male   \n2            2  16-0165  03/13/2016 12:00:00 AM       0.0  30.0  Female   \n3            3  16-0208  03/31/2016 12:00:00 AM       0.0  23.0    Male   \n4            4  13-0052  02/13/2013 12:00:00 AM       0.0  22.0    Male   \n5            5  14-0277  06/29/2014 12:00:00 AM       0.0  23.0    Male   \n6            6  12-0205  08/12/2012 12:00:00 AM       0.0  21.0  Female   \n7            7  13-0404  11/10/2013 12:00:00 AM       0.0  40.0  Female   \n8            8  12-0107  04/25/2012 12:00:00 AM       0.0  40.0    Male   \n9            9  13-0161  05/15/2013 12:00:00 AM       0.0  50.0    Male   \n10          10  12-0218  08/23/2012 12:00:00 AM       0.0  26.0  Female   \n11          11  15-0334  07/05/2015 12:00:00 AM       1.0  49.0  Female   \n12          12  15-0728                     NaN       NaN   NaN     NaN   \n13          13  15-0232  05/14/2015 12:00:00 AM       1.0  50.0    Male   \n14          14  16-0028  01/13/2016 12:00:00 AM       0.0  29.0    Male   \n15          15  13-0279  08/19/2013 12:00:00 AM       0.0  45.0    Male   \n16          16  14-0042  01/29/2014 12:00:00 AM       0.0  29.0  Female   \n17          17  12-1960  03/02/2012 12:00:00 AM       0.0  42.0    Male   \n18          18  16-0065  01/30/2016 12:00:00 AM       0.0  54.0    Male   \n19          19  16-0889  12/20/2016 12:00:00 AM       0.0  32.0    Male   \n\n               Race  ResidenceCity ResidenceCounty ResidenceState  ... Tramad  \\\n0               NaN            NaN             NaN            NaN  ...      0   \n1             Black        NORWALK             NaN            NaN  ...      0   \n2             White     SANDY HOOK       FAIRFIELD             CT  ...      0   \n3             White            RYE     WESTCHESTER             NY  ...      0   \n4      Asian, Other       FLUSHING          QUEENS            NaN  ...      0   \n5             White        BRISTOL             NaN            NaN  ...      0   \n6             White  WEST HARTFORD        HARTFORD            NaN  ...      0   \n7             White         HAMDEN       NEW HAVEN            NaN  ...      0   \n8             White  EAST HARTFORD        HARTFORD            NaN  ...      0   \n9             White      MONTVILLE      NEW LONDON            NaN  ...      0   \n10  Hispanic, White            NaN             NaN            NaN  ...      0   \n11            White            NaN             NaN            NaN  ...      0   \n12              NaN            NaN             NaN            NaN  ...      0   \n13            White        DANBURY       FAIRFIELD             CT  ...      0   \n14            Black      NEW HAVEN       NEW HAVEN             CT  ...      0   \n15            White       HARTFORD        HARTFORD            NaN  ...      0   \n16            White     CANTERBURY             NaN            NaN  ...      0   \n17            White    WALLINGFORD       NEW HAVEN            NaN  ...      0   \n18            White     MIDDLETOWN       MIDDLESEX             CT  ...      0   \n19            White        WINDHAM         WINDHAM             CT  ...      0   \n\n   Morphine_NotHeroin Hydromorphone Other OpiateNOS AnyOpioid MannerofDeath  \\\n0                   0             0   NaN         0         0      Accident   \n1                   0             0   NaN         0         0      Accident   \n2                   0             0   NaN         0         1      Accident   \n3                   0             0   NaN         0         1      Accident   \n4                   0             0   NaN         0         0      Accident   \n5                   0             0   NaN         0         0      Accident   \n6                   0             0   NaN         0         0      Accident   \n7                   0             0   NaN         0         0      Accident   \n8                   0             0   NaN         0         0      Accident   \n9                   0             0   NaN         0         0      Accident   \n10                  0             0   NaN         0         0      Accident   \n11                  0             0   NaN         0         1      Accident   \n12                  0             0   NaN         0         0      Accident   \n13                  0             0   NaN         0         1      Accident   \n14                  0             0   NaN         0         1      Accident   \n15                  0             0   NaN         0         0      Accident   \n16                  0             0   NaN         0         0      Accident   \n17                  0             0   NaN         0         0      Accident   \n18                  0             0   NaN         0         1      Accident   \n19                  0             0   NaN         0         1      Accident   \n\n                                  DeathCityGeo  \\\n0                  CT\\n(41.575155, -72.738288)   \n1          Norwalk, CT\\n(41.11805, -73.412906)   \n2         Danbury, CT\\n(41.393666, -73.451539)   \n3       Greenwich, CT\\n(41.026526, -73.628549)   \n4       Greenwich, CT\\n(41.026526, -73.628549)   \n5         BRISTOL, CT\\n(41.673037, -72.945791)   \n6   WEST HARTFORD, CT\\n(41.762008, -72.741807)   \n7       New Haven, CT\\n(41.308252, -72.924161)   \n8   EAST HARTFORD, CT\\n(41.769319, -72.643785)   \n9        MONTVILLE, CT\\n(41.45303, -72.136336)   \n10      STRATFORD, CT\\n(41.200888, -73.131323)   \n11      New Haven, CT\\n(41.308252, -72.924161)   \n12                 CT\\n(41.575155, -72.738288)   \n13        DANBURY, CT\\n(41.393666, -73.451539)   \n14      NEW HAVEN, CT\\n(41.308252, -72.924161)   \n15       HARTFORD, CT\\n(41.765775, -72.673356)   \n16       Hartford, CT\\n(41.765775, -72.673356)   \n17    WALLINGFORD, CT\\n(41.454408, -72.818414)   \n18     MIDDLETOWN, CT\\n(41.544654, -72.651713)   \n19        Windham, CT\\n(41.699744, -72.157703)   \n\n                              ResidenceCityGeo  \\\n0                  CT\\n(41.575155, -72.738288)   \n1          NORWALK, CT\\n(41.11805, -73.412906)   \n2      SANDY HOOK, CT\\n(41.419998, -73.282501)   \n3                                          NaN   \n4                                          NaN   \n5         BRISTOL, CT\\n(41.673037, -72.945791)   \n6   WEST HARTFORD, CT\\n(41.762008, -72.741807)   \n7          HAMDEN, CT\\n(41.382918, -72.907743)   \n8   EAST HARTFORD, CT\\n(41.769319, -72.643785)   \n9        MONTVILLE, CT\\n(41.45303, -72.136336)   \n10                 CT\\n(41.575155, -72.738288)   \n11                 CT\\n(41.575155, -72.738288)   \n12                 CT\\n(41.575155, -72.738288)   \n13        DANBURY, CT\\n(41.393666, -73.451539)   \n14      NEW HAVEN, CT\\n(41.308252, -72.924161)   \n15       HARTFORD, CT\\n(41.765775, -72.673356)   \n16     CANTERBURY, CT\\n(41.698351, -71.971118)   \n17    WALLINGFORD, CT\\n(41.454408, -72.818414)   \n18     MIDDLETOWN, CT\\n(41.544654, -72.651713)   \n19        WINDHAM, CT\\n(41.699744, -72.157703)   \n\n                              InjuryCityGeo  \n0               CT\\n(41.575155, -72.738288)  \n1               CT\\n(41.575155, -72.738288)  \n2                                       NaN  \n3                                       NaN  \n4               CT\\n(41.575155, -72.738288)  \n5               CT\\n(41.575155, -72.738288)  \n6               CT\\n(41.575155, -72.738288)  \n7               CT\\n(41.575155, -72.738288)  \n8               CT\\n(41.575155, -72.738288)  \n9               CT\\n(41.575155, -72.738288)  \n10              CT\\n(41.575155, -72.738288)  \n11              CT\\n(41.575155, -72.738288)  \n12              CT\\n(41.575155, -72.738288)  \n13              CT\\n(41.575155, -72.738288)  \n14   NEW HAVEN, CT\\n(41.308252, -72.924161)  \n15              CT\\n(41.575155, -72.738288)  \n16              CT\\n(41.575155, -72.738288)  \n17              CT\\n(41.575155, -72.738288)  \n18  MIDDLETOWN, CT\\n(41.544654, -72.651713)  \n19     WINDHAM, CT\\n(41.699744, -72.157703)  \n\n[20 rows x 42 columns]",
      "text/html": "<div>\n<style scoped>\n    .dataframe tbody tr th:only-of-type {\n        vertical-align: middle;\n    }\n\n    .dataframe tbody tr th {\n        vertical-align: top;\n    }\n\n    .dataframe thead th {\n        text-align: right;\n    }\n</style>\n<table border=\"1\" class=\"dataframe\">\n  <thead>\n    <tr style=\"text-align: right;\">\n      <th></th>\n      <th>Unnamed: 0</th>\n      <th>ID</th>\n      <th>Date</th>\n      <th>DateType</th>\n      <th>Age</th>\n      <th>Sex</th>\n      <th>Race</th>\n      <th>ResidenceCity</th>\n      <th>ResidenceCounty</th>\n      <th>ResidenceState</th>\n      <th>...</th>\n      <th>Tramad</th>\n      <th>Morphine_NotHeroin</th>\n      <th>Hydromorphone</th>\n      <th>Other</th>\n      <th>OpiateNOS</th>\n      <th>AnyOpioid</th>\n      <th>MannerofDeath</th>\n      <th>DeathCityGeo</th>\n      <th>ResidenceCityGeo</th>\n      <th>InjuryCityGeo</th>\n    </tr>\n  </thead>\n  <tbody>\n    <tr>\n      <th>0</th>\n      <td>0</td>\n      <td>14-0273</td>\n      <td>06/28/2014 12:00:00 AM</td>\n      <td>1.0</td>\n      <td>NaN</td>\n      <td>NaN</td>\n      <td>NaN</td>\n      <td>NaN</td>\n      <td>NaN</td>\n      <td>NaN</td>\n      <td>...</td>\n      <td>0</td>\n      <td>0</td>\n      <td>0</td>\n      <td>NaN</td>\n      <td>0</td>\n      <td>0</td>\n      <td>Accident</td>\n      <td>CT\\n(41.575155, -72.738288)</td>\n      <td>CT\\n(41.575155, -72.738288)</td>\n      <td>CT\\n(41.575155, -72.738288)</td>\n    </tr>\n    <tr>\n      <th>1</th>\n      <td>1</td>\n      <td>13-0102</td>\n      <td>03/21/2013 12:00:00 AM</td>\n      <td>0.0</td>\n      <td>48.0</td>\n      <td>Male</td>\n      <td>Black</td>\n      <td>NORWALK</td>\n      <td>NaN</td>\n      <td>NaN</td>\n      <td>...</td>\n      <td>0</td>\n      <td>0</td>\n      <td>0</td>\n      <td>NaN</td>\n      <td>0</td>\n      <td>0</td>\n      <td>Accident</td>\n      <td>Norwalk, CT\\n(41.11805, -73.412906)</td>\n      <td>NORWALK, CT\\n(41.11805, -73.412906)</td>\n      <td>CT\\n(41.575155, -72.738288)</td>\n    </tr>\n    <tr>\n      <th>2</th>\n      <td>2</td>\n      <td>16-0165</td>\n      <td>03/13/2016 12:00:00 AM</td>\n      <td>0.0</td>\n      <td>30.0</td>\n      <td>Female</td>\n      <td>White</td>\n      <td>SANDY HOOK</td>\n      <td>FAIRFIELD</td>\n      <td>CT</td>\n      <td>...</td>\n      <td>0</td>\n      <td>0</td>\n      <td>0</td>\n      <td>NaN</td>\n      <td>0</td>\n      <td>1</td>\n      <td>Accident</td>\n      <td>Danbury, CT\\n(41.393666, -73.451539)</td>\n      <td>SANDY HOOK, CT\\n(41.419998, -73.282501)</td>\n      <td>NaN</td>\n    </tr>\n    <tr>\n      <th>3</th>\n      <td>3</td>\n      <td>16-0208</td>\n      <td>03/31/2016 12:00:00 AM</td>\n      <td>0.0</td>\n      <td>23.0</td>\n      <td>Male</td>\n      <td>White</td>\n      <td>RYE</td>\n      <td>WESTCHESTER</td>\n      <td>NY</td>\n      <td>...</td>\n      <td>0</td>\n      <td>0</td>\n      <td>0</td>\n      <td>NaN</td>\n      <td>0</td>\n      <td>1</td>\n      <td>Accident</td>\n      <td>Greenwich, CT\\n(41.026526, -73.628549)</td>\n      <td>NaN</td>\n      <td>NaN</td>\n    </tr>\n    <tr>\n      <th>4</th>\n      <td>4</td>\n      <td>13-0052</td>\n      <td>02/13/2013 12:00:00 AM</td>\n      <td>0.0</td>\n      <td>22.0</td>\n      <td>Male</td>\n      <td>Asian, Other</td>\n      <td>FLUSHING</td>\n      <td>QUEENS</td>\n      <td>NaN</td>\n      <td>...</td>\n      <td>0</td>\n      <td>0</td>\n      <td>0</td>\n      <td>NaN</td>\n      <td>0</td>\n      <td>0</td>\n      <td>Accident</td>\n      <td>Greenwich, CT\\n(41.026526, -73.628549)</td>\n      <td>NaN</td>\n      <td>CT\\n(41.575155, -72.738288)</td>\n    </tr>\n    <tr>\n      <th>5</th>\n      <td>5</td>\n      <td>14-0277</td>\n      <td>06/29/2014 12:00:00 AM</td>\n      <td>0.0</td>\n      <td>23.0</td>\n      <td>Male</td>\n      <td>White</td>\n      <td>BRISTOL</td>\n      <td>NaN</td>\n      <td>NaN</td>\n      <td>...</td>\n      <td>0</td>\n      <td>0</td>\n      <td>0</td>\n      <td>NaN</td>\n      <td>0</td>\n      <td>0</td>\n      <td>Accident</td>\n      <td>BRISTOL, CT\\n(41.673037, -72.945791)</td>\n      <td>BRISTOL, CT\\n(41.673037, -72.945791)</td>\n      <td>CT\\n(41.575155, -72.738288)</td>\n    </tr>\n    <tr>\n      <th>6</th>\n      <td>6</td>\n      <td>12-0205</td>\n      <td>08/12/2012 12:00:00 AM</td>\n      <td>0.0</td>\n      <td>21.0</td>\n      <td>Female</td>\n      <td>White</td>\n      <td>WEST HARTFORD</td>\n      <td>HARTFORD</td>\n      <td>NaN</td>\n      <td>...</td>\n      <td>0</td>\n      <td>0</td>\n      <td>0</td>\n      <td>NaN</td>\n      <td>0</td>\n      <td>0</td>\n      <td>Accident</td>\n      <td>WEST HARTFORD, CT\\n(41.762008, -72.741807)</td>\n      <td>WEST HARTFORD, CT\\n(41.762008, -72.741807)</td>\n      <td>CT\\n(41.575155, -72.738288)</td>\n    </tr>\n    <tr>\n      <th>7</th>\n      <td>7</td>\n      <td>13-0404</td>\n      <td>11/10/2013 12:00:00 AM</td>\n      <td>0.0</td>\n      <td>40.0</td>\n      <td>Female</td>\n      <td>White</td>\n      <td>HAMDEN</td>\n      <td>NEW HAVEN</td>\n      <td>NaN</td>\n      <td>...</td>\n      <td>0</td>\n      <td>0</td>\n      <td>0</td>\n      <td>NaN</td>\n      <td>0</td>\n      <td>0</td>\n      <td>Accident</td>\n      <td>New Haven, CT\\n(41.308252, -72.924161)</td>\n      <td>HAMDEN, CT\\n(41.382918, -72.907743)</td>\n      <td>CT\\n(41.575155, -72.738288)</td>\n    </tr>\n    <tr>\n      <th>8</th>\n      <td>8</td>\n      <td>12-0107</td>\n      <td>04/25/2012 12:00:00 AM</td>\n      <td>0.0</td>\n      <td>40.0</td>\n      <td>Male</td>\n      <td>White</td>\n      <td>EAST HARTFORD</td>\n      <td>HARTFORD</td>\n      <td>NaN</td>\n      <td>...</td>\n      <td>0</td>\n      <td>0</td>\n      <td>0</td>\n      <td>NaN</td>\n      <td>0</td>\n      <td>0</td>\n      <td>Accident</td>\n      <td>EAST HARTFORD, CT\\n(41.769319, -72.643785)</td>\n      <td>EAST HARTFORD, CT\\n(41.769319, -72.643785)</td>\n      <td>CT\\n(41.575155, -72.738288)</td>\n    </tr>\n    <tr>\n      <th>9</th>\n      <td>9</td>\n      <td>13-0161</td>\n      <td>05/15/2013 12:00:00 AM</td>\n      <td>0.0</td>\n      <td>50.0</td>\n      <td>Male</td>\n      <td>White</td>\n      <td>MONTVILLE</td>\n      <td>NEW LONDON</td>\n      <td>NaN</td>\n      <td>...</td>\n      <td>0</td>\n      <td>0</td>\n      <td>0</td>\n      <td>NaN</td>\n      <td>0</td>\n      <td>0</td>\n      <td>Accident</td>\n      <td>MONTVILLE, CT\\n(41.45303, -72.136336)</td>\n      <td>MONTVILLE, CT\\n(41.45303, -72.136336)</td>\n      <td>CT\\n(41.575155, -72.738288)</td>\n    </tr>\n    <tr>\n      <th>10</th>\n      <td>10</td>\n      <td>12-0218</td>\n      <td>08/23/2012 12:00:00 AM</td>\n      <td>0.0</td>\n      <td>26.0</td>\n      <td>Female</td>\n      <td>Hispanic, White</td>\n      <td>NaN</td>\n      <td>NaN</td>\n      <td>NaN</td>\n      <td>...</td>\n      <td>0</td>\n      <td>0</td>\n      <td>0</td>\n      <td>NaN</td>\n      <td>0</td>\n      <td>0</td>\n      <td>Accident</td>\n      <td>STRATFORD, CT\\n(41.200888, -73.131323)</td>\n      <td>CT\\n(41.575155, -72.738288)</td>\n      <td>CT\\n(41.575155, -72.738288)</td>\n    </tr>\n    <tr>\n      <th>11</th>\n      <td>11</td>\n      <td>15-0334</td>\n      <td>07/05/2015 12:00:00 AM</td>\n      <td>1.0</td>\n      <td>49.0</td>\n      <td>Female</td>\n      <td>White</td>\n      <td>NaN</td>\n      <td>NaN</td>\n      <td>NaN</td>\n      <td>...</td>\n      <td>0</td>\n      <td>0</td>\n      <td>0</td>\n      <td>NaN</td>\n      <td>0</td>\n      <td>1</td>\n      <td>Accident</td>\n      <td>New Haven, CT\\n(41.308252, -72.924161)</td>\n      <td>CT\\n(41.575155, -72.738288)</td>\n      <td>CT\\n(41.575155, -72.738288)</td>\n    </tr>\n    <tr>\n      <th>12</th>\n      <td>12</td>\n      <td>15-0728</td>\n      <td>NaN</td>\n      <td>NaN</td>\n      <td>NaN</td>\n      <td>NaN</td>\n      <td>NaN</td>\n      <td>NaN</td>\n      <td>NaN</td>\n      <td>NaN</td>\n      <td>...</td>\n      <td>0</td>\n      <td>0</td>\n      <td>0</td>\n      <td>NaN</td>\n      <td>0</td>\n      <td>0</td>\n      <td>Accident</td>\n      <td>CT\\n(41.575155, -72.738288)</td>\n      <td>CT\\n(41.575155, -72.738288)</td>\n      <td>CT\\n(41.575155, -72.738288)</td>\n    </tr>\n    <tr>\n      <th>13</th>\n      <td>13</td>\n      <td>15-0232</td>\n      <td>05/14/2015 12:00:00 AM</td>\n      <td>1.0</td>\n      <td>50.0</td>\n      <td>Male</td>\n      <td>White</td>\n      <td>DANBURY</td>\n      <td>FAIRFIELD</td>\n      <td>CT</td>\n      <td>...</td>\n      <td>0</td>\n      <td>0</td>\n      <td>0</td>\n      <td>NaN</td>\n      <td>0</td>\n      <td>1</td>\n      <td>Accident</td>\n      <td>DANBURY, CT\\n(41.393666, -73.451539)</td>\n      <td>DANBURY, CT\\n(41.393666, -73.451539)</td>\n      <td>CT\\n(41.575155, -72.738288)</td>\n    </tr>\n    <tr>\n      <th>14</th>\n      <td>14</td>\n      <td>16-0028</td>\n      <td>01/13/2016 12:00:00 AM</td>\n      <td>0.0</td>\n      <td>29.0</td>\n      <td>Male</td>\n      <td>Black</td>\n      <td>NEW HAVEN</td>\n      <td>NEW HAVEN</td>\n      <td>CT</td>\n      <td>...</td>\n      <td>0</td>\n      <td>0</td>\n      <td>0</td>\n      <td>NaN</td>\n      <td>0</td>\n      <td>1</td>\n      <td>Accident</td>\n      <td>NEW HAVEN, CT\\n(41.308252, -72.924161)</td>\n      <td>NEW HAVEN, CT\\n(41.308252, -72.924161)</td>\n      <td>NEW HAVEN, CT\\n(41.308252, -72.924161)</td>\n    </tr>\n    <tr>\n      <th>15</th>\n      <td>15</td>\n      <td>13-0279</td>\n      <td>08/19/2013 12:00:00 AM</td>\n      <td>0.0</td>\n      <td>45.0</td>\n      <td>Male</td>\n      <td>White</td>\n      <td>HARTFORD</td>\n      <td>HARTFORD</td>\n      <td>NaN</td>\n      <td>...</td>\n      <td>0</td>\n      <td>0</td>\n      <td>0</td>\n      <td>NaN</td>\n      <td>0</td>\n      <td>0</td>\n      <td>Accident</td>\n      <td>HARTFORD, CT\\n(41.765775, -72.673356)</td>\n      <td>HARTFORD, CT\\n(41.765775, -72.673356)</td>\n      <td>CT\\n(41.575155, -72.738288)</td>\n    </tr>\n    <tr>\n      <th>16</th>\n      <td>16</td>\n      <td>14-0042</td>\n      <td>01/29/2014 12:00:00 AM</td>\n      <td>0.0</td>\n      <td>29.0</td>\n      <td>Female</td>\n      <td>White</td>\n      <td>CANTERBURY</td>\n      <td>NaN</td>\n      <td>NaN</td>\n      <td>...</td>\n      <td>0</td>\n      <td>0</td>\n      <td>0</td>\n      <td>NaN</td>\n      <td>0</td>\n      <td>0</td>\n      <td>Accident</td>\n      <td>Hartford, CT\\n(41.765775, -72.673356)</td>\n      <td>CANTERBURY, CT\\n(41.698351, -71.971118)</td>\n      <td>CT\\n(41.575155, -72.738288)</td>\n    </tr>\n    <tr>\n      <th>17</th>\n      <td>17</td>\n      <td>12-1960</td>\n      <td>03/02/2012 12:00:00 AM</td>\n      <td>0.0</td>\n      <td>42.0</td>\n      <td>Male</td>\n      <td>White</td>\n      <td>WALLINGFORD</td>\n      <td>NEW HAVEN</td>\n      <td>NaN</td>\n      <td>...</td>\n      <td>0</td>\n      <td>0</td>\n      <td>0</td>\n      <td>NaN</td>\n      <td>0</td>\n      <td>0</td>\n      <td>Accident</td>\n      <td>WALLINGFORD, CT\\n(41.454408, -72.818414)</td>\n      <td>WALLINGFORD, CT\\n(41.454408, -72.818414)</td>\n      <td>CT\\n(41.575155, -72.738288)</td>\n    </tr>\n    <tr>\n      <th>18</th>\n      <td>18</td>\n      <td>16-0065</td>\n      <td>01/30/2016 12:00:00 AM</td>\n      <td>0.0</td>\n      <td>54.0</td>\n      <td>Male</td>\n      <td>White</td>\n      <td>MIDDLETOWN</td>\n      <td>MIDDLESEX</td>\n      <td>CT</td>\n      <td>...</td>\n      <td>0</td>\n      <td>0</td>\n      <td>0</td>\n      <td>NaN</td>\n      <td>0</td>\n      <td>1</td>\n      <td>Accident</td>\n      <td>MIDDLETOWN, CT\\n(41.544654, -72.651713)</td>\n      <td>MIDDLETOWN, CT\\n(41.544654, -72.651713)</td>\n      <td>MIDDLETOWN, CT\\n(41.544654, -72.651713)</td>\n    </tr>\n    <tr>\n      <th>19</th>\n      <td>19</td>\n      <td>16-0889</td>\n      <td>12/20/2016 12:00:00 AM</td>\n      <td>0.0</td>\n      <td>32.0</td>\n      <td>Male</td>\n      <td>White</td>\n      <td>WINDHAM</td>\n      <td>WINDHAM</td>\n      <td>CT</td>\n      <td>...</td>\n      <td>0</td>\n      <td>0</td>\n      <td>0</td>\n      <td>NaN</td>\n      <td>0</td>\n      <td>1</td>\n      <td>Accident</td>\n      <td>Windham, CT\\n(41.699744, -72.157703)</td>\n      <td>WINDHAM, CT\\n(41.699744, -72.157703)</td>\n      <td>WINDHAM, CT\\n(41.699744, -72.157703)</td>\n    </tr>\n  </tbody>\n</table>\n<p>20 rows × 42 columns</p>\n</div>"
     },
     "execution_count": 42,
     "metadata": {},
     "output_type": "execute_result"
    }
   ],
   "source": [
    "df = pd.read_csv('data/drug_deaths.csv')\n",
    "print(\"DF Shape: {} Rows, {} Columns\".format(*df.shape))\n",
    "df.head(20)"
   ],
   "metadata": {
    "collapsed": false,
    "ExecuteTime": {
     "start_time": "2023-04-13T23:25:36.499427Z",
     "end_time": "2023-04-13T23:25:36.661973Z"
    }
   }
  },
  {
   "cell_type": "markdown",
   "source": [
    "| Column Number | Column Name        | Description (English)                                                   | Description (Ukrainian)                                                      |\n",
    "|---------------|--------------------|-------------------------------------------------------------------------|------------------------------------------------------------------------------|\n",
    "| 0             | ID                 | Identification number                                                   | Ідентифікаційний номер                                                       |\n",
    "| 1             | Date               | Date when the event occurred                                            | Дата коли стався випадок                                                     |\n",
    "| 2             | DateType           | Type of the date                                                        | Тип дати                                                                     |\n",
    "| 3             | Age                | Age of the individual                                                    | Вік особи                                                                    |\n",
    "| 4             | Sex                | Sex of the individual                                                    | Стать особи                                                                  |\n",
    "| 5             | Race               | Race of the individual                                                   | Раса особи                                                                   |\n",
    "| 6             | ResidenceCity      | City where the individual resided                                       | Місто проживання особи                                                       |\n",
    "| 7             | ResidenceCounty    | County where the individual resided                                     | Округ проживання особи                                                       |\n",
    "| 8             | ResidenceState     | State where the individual resided                                      | Штат проживання особи                                                        |\n",
    "| 9             | DeathCity          | City where the individual died                                          | Місто смерті особи                                                           |\n",
    "| 10            | DeathCounty        | County where the individual died                                        | Округ смерті особи                                                           |\n",
    "| 11            | Location           | Location where the individual died                                      | Місце смерті особи                                                           |\n",
    "| 12            | LocationifOther    | Additional information about the location where the individual died     | Додаткова інформація про місце смерті особи                                 |\n",
    "| 13            | DescriptionofInjury| Description of the injury                                               | Опис травми                                                                  |\n",
    "| 14            | InjuryPlace        | Place where the injury occurred                                         | Місце травми                                                                 |\n",
    "| 15            | InjuryCity         | City where the injury occurred                                          | Місто травми                                                                 |\n",
    "| 16            | InjuryCounty       | County where the injury occurred                                        | Округ травми                                                                 |\n",
    "| 17            | InjuryState        | State where the injury occurred                                         | Штат травми                                                                  |\n",
    "| 18            | COD                | Cause of death                                                           | Причина смерті                                                               |\n",
    "| 19            | OtherSignifican    | Other significant conditions                                            | Інші значні стани                                                            |\n",
    "| 20            | Heroin             | Presence of heroin                                                      | Наявність героїну                                                            |\n",
    "| 21            | Cocaine            | Presence of cocaine                                                     | Наявність кокаїну                                                            |\n",
    "| 22            | Fentanyl           | Presence of fentanyl                                                    | Наяв\n",
    "| 23            | Fentanyl_Analogue  | Presence of fentanyl analogues                                          | Наявність аналогів фентанілу                                                 |\n",
    "| 24            | Oxycodone          | Presence of oxycodone                                                   | Наявність оксикодону                                                         |\n",
    "| 25            | Oxymorphone        | Presence of oxymorphone                                                 | Наявність оксиморфону                                                        |\n",
    "| 26            | Ethanol            | Presence of ethanol                                                     | Наявність етанолу                                                            |\n",
    "| 27            | Hydrocodone        | Presence of hydrocodone                                                 | Наявність гідрокодону                                                        |\n",
    "| 28            | Benzodiazepine     | Presence of benzodiazepine                                              | Наявність бензодіазепінів                                                    |\n",
    "| 29            | Methadone          | Presence of methadone                                                   | Наявність метадону                                                           |\n",
    "| 30            | Amphet             | Presence of amphetamines                                                | Наявність амфетамінів                                                        |\n"
   ],
   "metadata": {
    "collapsed": false
   }
  },
  {
   "cell_type": "code",
   "execution_count": 43,
   "outputs": [
    {
     "name": "stdout",
     "output_type": "stream",
     "text": [
      "Column names:\n",
      "<class 'pandas.core.frame.DataFrame'>\n",
      "RangeIndex: 5105 entries, 0 to 5104\n",
      "Data columns (total 42 columns):\n",
      " #   Column               Non-Null Count  Dtype  \n",
      "---  ------               --------------  -----  \n",
      " 0   Unnamed: 0           5105 non-null   int64  \n",
      " 1   ID                   5105 non-null   object \n",
      " 2   Date                 5103 non-null   object \n",
      " 3   DateType             5103 non-null   float64\n",
      " 4   Age                  5102 non-null   float64\n",
      " 5   Sex                  5099 non-null   object \n",
      " 6   Race                 5092 non-null   object \n",
      " 7   ResidenceCity        4932 non-null   object \n",
      " 8   ResidenceCounty      4308 non-null   object \n",
      " 9   ResidenceState       3556 non-null   object \n",
      " 10  DeathCity            5100 non-null   object \n",
      " 11  DeathCounty          4005 non-null   object \n",
      " 12  Location             5081 non-null   object \n",
      " 13  LocationifOther      590 non-null    object \n",
      " 14  DescriptionofInjury  4325 non-null   object \n",
      " 15  InjuryPlace          5039 non-null   object \n",
      " 16  InjuryCity           3349 non-null   object \n",
      " 17  InjuryCounty         2364 non-null   object \n",
      " 18  InjuryState          1424 non-null   object \n",
      " 19  COD                  5105 non-null   object \n",
      " 20  OtherSignifican      169 non-null    object \n",
      " 21  Heroin               5105 non-null   int64  \n",
      " 22  Cocaine              5105 non-null   int64  \n",
      " 23  Fentanyl             5105 non-null   object \n",
      " 24  Fentanyl_Analogue    5105 non-null   float64\n",
      " 25  Oxycodone            5105 non-null   int64  \n",
      " 26  Oxymorphone          5105 non-null   int64  \n",
      " 27  Ethanol              5105 non-null   int64  \n",
      " 28  Hydrocodone          5105 non-null   int64  \n",
      " 29  Benzodiazepine       5105 non-null   int64  \n",
      " 30  Methadone            5105 non-null   int64  \n",
      " 31  Amphet               5105 non-null   int64  \n",
      " 32  Tramad               5105 non-null   int64  \n",
      " 33  Morphine_NotHeroin   5105 non-null   object \n",
      " 34  Hydromorphone        5105 non-null   int64  \n",
      " 35  Other                435 non-null    object \n",
      " 36  OpiateNOS            5105 non-null   int64  \n",
      " 37  AnyOpioid            5105 non-null   object \n",
      " 38  MannerofDeath        5095 non-null   object \n",
      " 39  DeathCityGeo         5105 non-null   object \n",
      " 40  ResidenceCityGeo     5012 non-null   object \n",
      " 41  InjuryCityGeo        5027 non-null   object \n",
      "dtypes: float64(3), int64(13), object(26)\n",
      "memory usage: 1.6+ MB\n"
     ]
    }
   ],
   "source": [
    "print(\"Column names:\")\n",
    "df.info()"
   ],
   "metadata": {
    "collapsed": false,
    "ExecuteTime": {
     "start_time": "2023-04-13T23:25:36.521001Z",
     "end_time": "2023-04-13T23:25:36.663303Z"
    }
   }
  },
  {
   "cell_type": "code",
   "execution_count": 44,
   "outputs": [
    {
     "name": "stdout",
     "output_type": "stream",
     "text": [
      "Number of missing values for each column:\n"
     ]
    },
    {
     "data": {
      "text/plain": "                     Number of missing values\nOtherSignifican                          4936\nOther                                    4670\nLocationifOther                          4515\nInjuryState                              3681\nInjuryCounty                             2741\nInjuryCity                               1756\nResidenceState                           1549\nDeathCounty                              1100\nResidenceCounty                           797\nDescriptionofInjury                       780\nResidenceCity                             173\nResidenceCityGeo                           93\nInjuryCityGeo                              78\nInjuryPlace                                66\nLocation                                   24\nRace                                       13\nMannerofDeath                              10\nSex                                         6\nDeathCity                                   5\nAge                                         3\nDateType                                    2\nDate                                        2\nMethadone                                   0\nDeathCityGeo                                0\nAnyOpioid                                   0\nOpiateNOS                                   0\nHydromorphone                               0\nMorphine_NotHeroin                          0\nTramad                                      0\nAmphet                                      0\nUnnamed: 0                                  0\nBenzodiazepine                              0\nHydrocodone                                 0\nEthanol                                     0\nOxymorphone                                 0\nOxycodone                                   0\nFentanyl_Analogue                           0\nFentanyl                                    0\nCocaine                                     0\nID                                          0\nCOD                                         0\nHeroin                                      0",
      "text/html": "<div>\n<style scoped>\n    .dataframe tbody tr th:only-of-type {\n        vertical-align: middle;\n    }\n\n    .dataframe tbody tr th {\n        vertical-align: top;\n    }\n\n    .dataframe thead th {\n        text-align: right;\n    }\n</style>\n<table border=\"1\" class=\"dataframe\">\n  <thead>\n    <tr style=\"text-align: right;\">\n      <th></th>\n      <th>Number of missing values</th>\n    </tr>\n  </thead>\n  <tbody>\n    <tr>\n      <th>OtherSignifican</th>\n      <td>4936</td>\n    </tr>\n    <tr>\n      <th>Other</th>\n      <td>4670</td>\n    </tr>\n    <tr>\n      <th>LocationifOther</th>\n      <td>4515</td>\n    </tr>\n    <tr>\n      <th>InjuryState</th>\n      <td>3681</td>\n    </tr>\n    <tr>\n      <th>InjuryCounty</th>\n      <td>2741</td>\n    </tr>\n    <tr>\n      <th>InjuryCity</th>\n      <td>1756</td>\n    </tr>\n    <tr>\n      <th>ResidenceState</th>\n      <td>1549</td>\n    </tr>\n    <tr>\n      <th>DeathCounty</th>\n      <td>1100</td>\n    </tr>\n    <tr>\n      <th>ResidenceCounty</th>\n      <td>797</td>\n    </tr>\n    <tr>\n      <th>DescriptionofInjury</th>\n      <td>780</td>\n    </tr>\n    <tr>\n      <th>ResidenceCity</th>\n      <td>173</td>\n    </tr>\n    <tr>\n      <th>ResidenceCityGeo</th>\n      <td>93</td>\n    </tr>\n    <tr>\n      <th>InjuryCityGeo</th>\n      <td>78</td>\n    </tr>\n    <tr>\n      <th>InjuryPlace</th>\n      <td>66</td>\n    </tr>\n    <tr>\n      <th>Location</th>\n      <td>24</td>\n    </tr>\n    <tr>\n      <th>Race</th>\n      <td>13</td>\n    </tr>\n    <tr>\n      <th>MannerofDeath</th>\n      <td>10</td>\n    </tr>\n    <tr>\n      <th>Sex</th>\n      <td>6</td>\n    </tr>\n    <tr>\n      <th>DeathCity</th>\n      <td>5</td>\n    </tr>\n    <tr>\n      <th>Age</th>\n      <td>3</td>\n    </tr>\n    <tr>\n      <th>DateType</th>\n      <td>2</td>\n    </tr>\n    <tr>\n      <th>Date</th>\n      <td>2</td>\n    </tr>\n    <tr>\n      <th>Methadone</th>\n      <td>0</td>\n    </tr>\n    <tr>\n      <th>DeathCityGeo</th>\n      <td>0</td>\n    </tr>\n    <tr>\n      <th>AnyOpioid</th>\n      <td>0</td>\n    </tr>\n    <tr>\n      <th>OpiateNOS</th>\n      <td>0</td>\n    </tr>\n    <tr>\n      <th>Hydromorphone</th>\n      <td>0</td>\n    </tr>\n    <tr>\n      <th>Morphine_NotHeroin</th>\n      <td>0</td>\n    </tr>\n    <tr>\n      <th>Tramad</th>\n      <td>0</td>\n    </tr>\n    <tr>\n      <th>Amphet</th>\n      <td>0</td>\n    </tr>\n    <tr>\n      <th>Unnamed: 0</th>\n      <td>0</td>\n    </tr>\n    <tr>\n      <th>Benzodiazepine</th>\n      <td>0</td>\n    </tr>\n    <tr>\n      <th>Hydrocodone</th>\n      <td>0</td>\n    </tr>\n    <tr>\n      <th>Ethanol</th>\n      <td>0</td>\n    </tr>\n    <tr>\n      <th>Oxymorphone</th>\n      <td>0</td>\n    </tr>\n    <tr>\n      <th>Oxycodone</th>\n      <td>0</td>\n    </tr>\n    <tr>\n      <th>Fentanyl_Analogue</th>\n      <td>0</td>\n    </tr>\n    <tr>\n      <th>Fentanyl</th>\n      <td>0</td>\n    </tr>\n    <tr>\n      <th>Cocaine</th>\n      <td>0</td>\n    </tr>\n    <tr>\n      <th>ID</th>\n      <td>0</td>\n    </tr>\n    <tr>\n      <th>COD</th>\n      <td>0</td>\n    </tr>\n    <tr>\n      <th>Heroin</th>\n      <td>0</td>\n    </tr>\n  </tbody>\n</table>\n</div>"
     },
     "execution_count": 44,
     "metadata": {},
     "output_type": "execute_result"
    }
   ],
   "source": [
    "print(\"Number of missing values for each column:\")\n",
    "# show as a dataframe table with two columns and sort by number of missing values\n",
    "missing_values = df.isnull().sum().to_frame().sort_values(by=0, ascending=False)\n",
    "missing_values.columns = ['Number of missing values']\n",
    "#missing_values.sort_values(by='Number of missing values', ascending=False)\n",
    "missing_values"
   ],
   "metadata": {
    "collapsed": false,
    "ExecuteTime": {
     "start_time": "2023-04-13T23:25:36.536408Z",
     "end_time": "2023-04-13T23:25:36.664277Z"
    }
   }
  },
  {
   "cell_type": "code",
   "execution_count": 45,
   "outputs": [
    {
     "name": "stdout",
     "output_type": "stream",
     "text": [
      "Number of unique values for each column:\n"
     ]
    },
    {
     "data": {
      "text/plain": "                     Number of unique values\nUnnamed: 0                              5105\nID                                      5105\nDate                                    2098\nDateType                                   2\nAge                                       65\nSex                                        3\nRace                                      11\nResidenceCity                            370\nResidenceCounty                           84\nResidenceState                            26\nDeathCity                                222\nDeathCounty                                9\nLocation                                   6\nLocationifOther                          322\nDescriptionofInjury                      320\nInjuryPlace                               71\nInjuryCity                               234\nInjuryCounty                              12\nInjuryState                                3\nCOD                                     3193\nOtherSignifican                           92\nHeroin                                     2\nCocaine                                    2\nFentanyl                                   5\nFentanyl_Analogue                          2\nOxycodone                                  2\nOxymorphone                                2\nEthanol                                    2\nHydrocodone                                2\nBenzodiazepine                             2\nMethadone                                  2\nAmphet                                     2\nTramad                                     2\nMorphine_NotHeroin                         6\nHydromorphone                              2\nOther                                    134\nOpiateNOS                                  2\nAnyOpioid                                  3\nMannerofDeath                              5\nDeathCityGeo                             374\nResidenceCityGeo                         289\nInjuryCityGeo                            226",
      "text/html": "<div>\n<style scoped>\n    .dataframe tbody tr th:only-of-type {\n        vertical-align: middle;\n    }\n\n    .dataframe tbody tr th {\n        vertical-align: top;\n    }\n\n    .dataframe thead th {\n        text-align: right;\n    }\n</style>\n<table border=\"1\" class=\"dataframe\">\n  <thead>\n    <tr style=\"text-align: right;\">\n      <th></th>\n      <th>Number of unique values</th>\n    </tr>\n  </thead>\n  <tbody>\n    <tr>\n      <th>Unnamed: 0</th>\n      <td>5105</td>\n    </tr>\n    <tr>\n      <th>ID</th>\n      <td>5105</td>\n    </tr>\n    <tr>\n      <th>Date</th>\n      <td>2098</td>\n    </tr>\n    <tr>\n      <th>DateType</th>\n      <td>2</td>\n    </tr>\n    <tr>\n      <th>Age</th>\n      <td>65</td>\n    </tr>\n    <tr>\n      <th>Sex</th>\n      <td>3</td>\n    </tr>\n    <tr>\n      <th>Race</th>\n      <td>11</td>\n    </tr>\n    <tr>\n      <th>ResidenceCity</th>\n      <td>370</td>\n    </tr>\n    <tr>\n      <th>ResidenceCounty</th>\n      <td>84</td>\n    </tr>\n    <tr>\n      <th>ResidenceState</th>\n      <td>26</td>\n    </tr>\n    <tr>\n      <th>DeathCity</th>\n      <td>222</td>\n    </tr>\n    <tr>\n      <th>DeathCounty</th>\n      <td>9</td>\n    </tr>\n    <tr>\n      <th>Location</th>\n      <td>6</td>\n    </tr>\n    <tr>\n      <th>LocationifOther</th>\n      <td>322</td>\n    </tr>\n    <tr>\n      <th>DescriptionofInjury</th>\n      <td>320</td>\n    </tr>\n    <tr>\n      <th>InjuryPlace</th>\n      <td>71</td>\n    </tr>\n    <tr>\n      <th>InjuryCity</th>\n      <td>234</td>\n    </tr>\n    <tr>\n      <th>InjuryCounty</th>\n      <td>12</td>\n    </tr>\n    <tr>\n      <th>InjuryState</th>\n      <td>3</td>\n    </tr>\n    <tr>\n      <th>COD</th>\n      <td>3193</td>\n    </tr>\n    <tr>\n      <th>OtherSignifican</th>\n      <td>92</td>\n    </tr>\n    <tr>\n      <th>Heroin</th>\n      <td>2</td>\n    </tr>\n    <tr>\n      <th>Cocaine</th>\n      <td>2</td>\n    </tr>\n    <tr>\n      <th>Fentanyl</th>\n      <td>5</td>\n    </tr>\n    <tr>\n      <th>Fentanyl_Analogue</th>\n      <td>2</td>\n    </tr>\n    <tr>\n      <th>Oxycodone</th>\n      <td>2</td>\n    </tr>\n    <tr>\n      <th>Oxymorphone</th>\n      <td>2</td>\n    </tr>\n    <tr>\n      <th>Ethanol</th>\n      <td>2</td>\n    </tr>\n    <tr>\n      <th>Hydrocodone</th>\n      <td>2</td>\n    </tr>\n    <tr>\n      <th>Benzodiazepine</th>\n      <td>2</td>\n    </tr>\n    <tr>\n      <th>Methadone</th>\n      <td>2</td>\n    </tr>\n    <tr>\n      <th>Amphet</th>\n      <td>2</td>\n    </tr>\n    <tr>\n      <th>Tramad</th>\n      <td>2</td>\n    </tr>\n    <tr>\n      <th>Morphine_NotHeroin</th>\n      <td>6</td>\n    </tr>\n    <tr>\n      <th>Hydromorphone</th>\n      <td>2</td>\n    </tr>\n    <tr>\n      <th>Other</th>\n      <td>134</td>\n    </tr>\n    <tr>\n      <th>OpiateNOS</th>\n      <td>2</td>\n    </tr>\n    <tr>\n      <th>AnyOpioid</th>\n      <td>3</td>\n    </tr>\n    <tr>\n      <th>MannerofDeath</th>\n      <td>5</td>\n    </tr>\n    <tr>\n      <th>DeathCityGeo</th>\n      <td>374</td>\n    </tr>\n    <tr>\n      <th>ResidenceCityGeo</th>\n      <td>289</td>\n    </tr>\n    <tr>\n      <th>InjuryCityGeo</th>\n      <td>226</td>\n    </tr>\n  </tbody>\n</table>\n</div>"
     },
     "execution_count": 45,
     "metadata": {},
     "output_type": "execute_result"
    }
   ],
   "source": [
    "print(\"Number of unique values for each column:\")\n",
    "# show as a dataframe table with two columns\n",
    "unique_values = df.nunique().to_frame()\n",
    "unique_values.columns = ['Number of unique values']\n",
    "unique_values"
   ],
   "metadata": {
    "collapsed": false,
    "ExecuteTime": {
     "start_time": "2023-04-13T23:25:36.545435Z",
     "end_time": "2023-04-13T23:25:36.664972Z"
    }
   }
  },
  {
   "cell_type": "markdown",
   "source": [
    "# Data Cleaning and Normalization"
   ],
   "metadata": {
    "collapsed": false
   }
  },
  {
   "cell_type": "code",
   "execution_count": 46,
   "outputs": [
    {
     "name": "stdout",
     "output_type": "stream",
     "text": [
      "Number of unique values for each column:\n"
     ]
    },
    {
     "data": {
      "text/plain": "                     Number of unique values\nDateType                                   1\nTramad                                     2\nAmphet                                     2\nHeroin                                     2\nCocaine                                    2\nFentanyl_Analogue                          2\nOxycodone                                  2\nHydromorphone                              2\nOxymorphone                                2\nOpiateNOS                                  2\nHydrocodone                                2\nSex                                        2\nBenzodiazepine                             2\nMethadone                                  2\nEthanol                                    2\nFentanyl                                   3\nAnyOpioid                                  3\nInjuryState                                3\nMorphine_NotHeroin                         4\nOtherSignifican                            4\nMannerofDeath                              4\nLocation                                   5\nRace                                       7\nDeathCounty                                8\nInjuryCounty                              11\nResidenceState                            17\nResidenceCounty                           35\nOther                                     38\nInjuryPlace                               47\nAge                                       55\nDescriptionofInjury                       88\nLocationifOther                          116\nDeathCity                                159\nInjuryCityGeo                            177\nInjuryCity                               180\nResidenceCityGeo                         193\nResidenceCity                            211\nDeathCityGeo                             236\nDate                                     549\nCOD                                     1075\nID                                      1415\nUnnamed: 0                              1415",
      "text/html": "<div>\n<style scoped>\n    .dataframe tbody tr th:only-of-type {\n        vertical-align: middle;\n    }\n\n    .dataframe tbody tr th {\n        vertical-align: top;\n    }\n\n    .dataframe thead th {\n        text-align: right;\n    }\n</style>\n<table border=\"1\" class=\"dataframe\">\n  <thead>\n    <tr style=\"text-align: right;\">\n      <th></th>\n      <th>Number of unique values</th>\n    </tr>\n  </thead>\n  <tbody>\n    <tr>\n      <th>DateType</th>\n      <td>1</td>\n    </tr>\n    <tr>\n      <th>Tramad</th>\n      <td>2</td>\n    </tr>\n    <tr>\n      <th>Amphet</th>\n      <td>2</td>\n    </tr>\n    <tr>\n      <th>Heroin</th>\n      <td>2</td>\n    </tr>\n    <tr>\n      <th>Cocaine</th>\n      <td>2</td>\n    </tr>\n    <tr>\n      <th>Fentanyl_Analogue</th>\n      <td>2</td>\n    </tr>\n    <tr>\n      <th>Oxycodone</th>\n      <td>2</td>\n    </tr>\n    <tr>\n      <th>Hydromorphone</th>\n      <td>2</td>\n    </tr>\n    <tr>\n      <th>Oxymorphone</th>\n      <td>2</td>\n    </tr>\n    <tr>\n      <th>OpiateNOS</th>\n      <td>2</td>\n    </tr>\n    <tr>\n      <th>Hydrocodone</th>\n      <td>2</td>\n    </tr>\n    <tr>\n      <th>Sex</th>\n      <td>2</td>\n    </tr>\n    <tr>\n      <th>Benzodiazepine</th>\n      <td>2</td>\n    </tr>\n    <tr>\n      <th>Methadone</th>\n      <td>2</td>\n    </tr>\n    <tr>\n      <th>Ethanol</th>\n      <td>2</td>\n    </tr>\n    <tr>\n      <th>Fentanyl</th>\n      <td>3</td>\n    </tr>\n    <tr>\n      <th>AnyOpioid</th>\n      <td>3</td>\n    </tr>\n    <tr>\n      <th>InjuryState</th>\n      <td>3</td>\n    </tr>\n    <tr>\n      <th>Morphine_NotHeroin</th>\n      <td>4</td>\n    </tr>\n    <tr>\n      <th>OtherSignifican</th>\n      <td>4</td>\n    </tr>\n    <tr>\n      <th>MannerofDeath</th>\n      <td>4</td>\n    </tr>\n    <tr>\n      <th>Location</th>\n      <td>5</td>\n    </tr>\n    <tr>\n      <th>Race</th>\n      <td>7</td>\n    </tr>\n    <tr>\n      <th>DeathCounty</th>\n      <td>8</td>\n    </tr>\n    <tr>\n      <th>InjuryCounty</th>\n      <td>11</td>\n    </tr>\n    <tr>\n      <th>ResidenceState</th>\n      <td>17</td>\n    </tr>\n    <tr>\n      <th>ResidenceCounty</th>\n      <td>35</td>\n    </tr>\n    <tr>\n      <th>Other</th>\n      <td>38</td>\n    </tr>\n    <tr>\n      <th>InjuryPlace</th>\n      <td>47</td>\n    </tr>\n    <tr>\n      <th>Age</th>\n      <td>55</td>\n    </tr>\n    <tr>\n      <th>DescriptionofInjury</th>\n      <td>88</td>\n    </tr>\n    <tr>\n      <th>LocationifOther</th>\n      <td>116</td>\n    </tr>\n    <tr>\n      <th>DeathCity</th>\n      <td>159</td>\n    </tr>\n    <tr>\n      <th>InjuryCityGeo</th>\n      <td>177</td>\n    </tr>\n    <tr>\n      <th>InjuryCity</th>\n      <td>180</td>\n    </tr>\n    <tr>\n      <th>ResidenceCityGeo</th>\n      <td>193</td>\n    </tr>\n    <tr>\n      <th>ResidenceCity</th>\n      <td>211</td>\n    </tr>\n    <tr>\n      <th>DeathCityGeo</th>\n      <td>236</td>\n    </tr>\n    <tr>\n      <th>Date</th>\n      <td>549</td>\n    </tr>\n    <tr>\n      <th>COD</th>\n      <td>1075</td>\n    </tr>\n    <tr>\n      <th>ID</th>\n      <td>1415</td>\n    </tr>\n    <tr>\n      <th>Unnamed: 0</th>\n      <td>1415</td>\n    </tr>\n  </tbody>\n</table>\n</div>"
     },
     "execution_count": 46,
     "metadata": {},
     "output_type": "execute_result"
    }
   ],
   "source": [
    "# filter out columns Date, DataType, Age, Sex, Race with missing values\n",
    "df_ = df.replace(['Unknow', 'Unknown', 'nan'], np.nan)\n",
    "filtered_df = df_.dropna(subset=['Date', 'DateType', 'Age', 'Sex', 'Race', 'InjuryState'])\n",
    "print(\"Number of unique values for each column:\")\n",
    "unique_values_filtered = filtered_df.nunique().to_frame().sort_values(by=0, ascending=True)\n",
    "unique_values_filtered.columns = ['Number of unique values']\n",
    "unique_values_filtered"
   ],
   "metadata": {
    "collapsed": false,
    "ExecuteTime": {
     "start_time": "2023-04-13T23:25:36.562290Z",
     "end_time": "2023-04-13T23:25:36.671493Z"
    }
   }
  },
  {
   "cell_type": "code",
   "execution_count": 47,
   "outputs": [
    {
     "data": {
      "text/plain": "                Column                         Unique Values\n0             DateType                                 [1.0]\n1                  Sex                        [Female, Male]\n2          InjuryState                 [CT, NY, CONNECTICUT]\n3               Heroin                                [0, 1]\n4              Cocaine                                [0, 1]\n5             Fentanyl                           [0, 1, 1-A]\n6    Fentanyl_Analogue                            [0.0, 1.0]\n7            Oxycodone                                [0, 1]\n8          Oxymorphone                                [0, 1]\n9              Ethanol                                [0, 1]\n10         Hydrocodone                                [0, 1]\n11      Benzodiazepine                                [0, 1]\n12           Methadone                                [1, 0]\n13              Amphet                                [0, 1]\n14              Tramad                                [0, 1]\n15  Morphine_NotHeroin  [0, STOLE MEDS, 1, NO RX BUT STRAWS]\n16       Hydromorphone                                [0, 1]\n17           OpiateNOS                                [0, 1]\n18           AnyOpioid                             [1, 0, N]",
      "text/html": "<div>\n<style scoped>\n    .dataframe tbody tr th:only-of-type {\n        vertical-align: middle;\n    }\n\n    .dataframe tbody tr th {\n        vertical-align: top;\n    }\n\n    .dataframe thead th {\n        text-align: right;\n    }\n</style>\n<table border=\"1\" class=\"dataframe\">\n  <thead>\n    <tr style=\"text-align: right;\">\n      <th></th>\n      <th>Column</th>\n      <th>Unique Values</th>\n    </tr>\n  </thead>\n  <tbody>\n    <tr>\n      <th>0</th>\n      <td>DateType</td>\n      <td>[1.0]</td>\n    </tr>\n    <tr>\n      <th>1</th>\n      <td>Sex</td>\n      <td>[Female, Male]</td>\n    </tr>\n    <tr>\n      <th>2</th>\n      <td>InjuryState</td>\n      <td>[CT, NY, CONNECTICUT]</td>\n    </tr>\n    <tr>\n      <th>3</th>\n      <td>Heroin</td>\n      <td>[0, 1]</td>\n    </tr>\n    <tr>\n      <th>4</th>\n      <td>Cocaine</td>\n      <td>[0, 1]</td>\n    </tr>\n    <tr>\n      <th>5</th>\n      <td>Fentanyl</td>\n      <td>[0, 1, 1-A]</td>\n    </tr>\n    <tr>\n      <th>6</th>\n      <td>Fentanyl_Analogue</td>\n      <td>[0.0, 1.0]</td>\n    </tr>\n    <tr>\n      <th>7</th>\n      <td>Oxycodone</td>\n      <td>[0, 1]</td>\n    </tr>\n    <tr>\n      <th>8</th>\n      <td>Oxymorphone</td>\n      <td>[0, 1]</td>\n    </tr>\n    <tr>\n      <th>9</th>\n      <td>Ethanol</td>\n      <td>[0, 1]</td>\n    </tr>\n    <tr>\n      <th>10</th>\n      <td>Hydrocodone</td>\n      <td>[0, 1]</td>\n    </tr>\n    <tr>\n      <th>11</th>\n      <td>Benzodiazepine</td>\n      <td>[0, 1]</td>\n    </tr>\n    <tr>\n      <th>12</th>\n      <td>Methadone</td>\n      <td>[1, 0]</td>\n    </tr>\n    <tr>\n      <th>13</th>\n      <td>Amphet</td>\n      <td>[0, 1]</td>\n    </tr>\n    <tr>\n      <th>14</th>\n      <td>Tramad</td>\n      <td>[0, 1]</td>\n    </tr>\n    <tr>\n      <th>15</th>\n      <td>Morphine_NotHeroin</td>\n      <td>[0, STOLE MEDS, 1, NO RX BUT STRAWS]</td>\n    </tr>\n    <tr>\n      <th>16</th>\n      <td>Hydromorphone</td>\n      <td>[0, 1]</td>\n    </tr>\n    <tr>\n      <th>17</th>\n      <td>OpiateNOS</td>\n      <td>[0, 1]</td>\n    </tr>\n    <tr>\n      <th>18</th>\n      <td>AnyOpioid</td>\n      <td>[1, 0, N]</td>\n    </tr>\n  </tbody>\n</table>\n</div>"
     },
     "metadata": {},
     "output_type": "display_data"
    }
   ],
   "source": [
    "unique_values_data = []\n",
    "\n",
    "for column in filtered_df.columns:\n",
    "    unique_values = filtered_df[column].unique()\n",
    "    if len(unique_values) < 5:\n",
    "        unique_values_data.append([column, unique_values])\n",
    "\n",
    "unique_values_df = pd.DataFrame(unique_values_data, columns=['Column', 'Unique Values'])\n",
    "display(unique_values_df)\n"
   ],
   "metadata": {
    "collapsed": false,
    "ExecuteTime": {
     "start_time": "2023-04-13T23:25:36.616661Z",
     "end_time": "2023-04-13T23:25:36.671638Z"
    }
   }
  },
  {
   "cell_type": "code",
   "execution_count": 48,
   "outputs": [
    {
     "data": {
      "text/plain": "Acute Fentanyl Intoxication                                                                           56\nAcute Heroin Intoxication                                                                             32\nAcute Heroin Toxicity                                                                                 21\nAcute Intoxication due to the Combined Effects of Fentanyl and Heroin                                 18\nAcute Cocaine Intoxication                                                                            14\n                                                                                                      ..\nAcute Intoxication Combined Effects of Ethanol, Fentanyl, and Heroin                                   1\nFentanyl, Heroin, and Cocaine.                                                                         1\nMultidrug Toxicity Including Ethanol, Cocaine, Cocaethylene, Fentanyl, Acetyl Fentanyl, and Heroin     1\nMultidrug Toxicity Including Cocaine, Fentanyl, Methadone, and Buprenorphine                           1\nACUTE COMBINED FENTANYL, METHADONE, ALCOHOL AND COCAINE TOXICITIES                                     1\nName: COD, Length: 1075, dtype: int64"
     },
     "execution_count": 48,
     "metadata": {},
     "output_type": "execute_result"
    }
   ],
   "source": [
    "filtered_df['COD'].value_counts()"
   ],
   "metadata": {
    "collapsed": false,
    "ExecuteTime": {
     "start_time": "2023-04-13T23:25:36.616834Z",
     "end_time": "2023-04-13T23:25:36.671713Z"
    }
   }
  },
  {
   "cell_type": "markdown",
   "source": [
    "# Race normalization\n",
    "I'm not a racist. I just happened to graduate with a degree in pharmaceutical education, and I know that race plays an important role in real pharmaceutical research, as there can be differences in biochemistry and metabolism between different racial groups."
   ],
   "metadata": {
    "collapsed": false
   }
  },
  {
   "cell_type": "code",
   "execution_count": 49,
   "outputs": [
    {
     "name": "stdout",
     "output_type": "stream",
     "text": [
      "Race Before normalization:\n",
      "---------------------------------\n",
      "White              1145\n",
      "Hispanic, White     147\n",
      "Black               101\n",
      "Hispanic, Black      10\n",
      "Asian Indian          6\n",
      "Asian, Other          4\n",
      "Name: Race, dtype: int64\n",
      "\n",
      "Race After normalization:\n",
      "---------------------------------\n",
      "White    1292\n",
      "Black     111\n",
      "Asian      10\n",
      "Name: NormalizedRace, dtype: int64\n"
     ]
    }
   ],
   "source": [
    "def normalize_race(race):\n",
    "    if 'White' in race:\n",
    "        return 'White'\n",
    "    elif 'Black' in race:\n",
    "        return 'Black'\n",
    "    elif 'Asian' in race:\n",
    "        return 'Asian'\n",
    "    else:\n",
    "        return 'Other'\n",
    "\n",
    "filtered_df['NormalizedRace'] = filtered_df['Race'].apply(normalize_race)\n",
    "filtered_df = filtered_df[filtered_df['NormalizedRace'] != 'Other']\n",
    "\n",
    "print('Race Before normalization:')\n",
    "print('---------------------------------')\n",
    "print(filtered_df['Race'].value_counts())\n",
    "print('')\n",
    "print('Race After normalization:')\n",
    "print('---------------------------------')\n",
    "print(filtered_df['NormalizedRace'].value_counts())"
   ],
   "metadata": {
    "collapsed": false,
    "ExecuteTime": {
     "start_time": "2023-04-13T23:25:36.616917Z",
     "end_time": "2023-04-13T23:25:36.671749Z"
    }
   }
  },
  {
   "cell_type": "code",
   "execution_count": 50,
   "outputs": [
    {
     "name": "stdout",
     "output_type": "stream",
     "text": [
      "Numeric column statistics:\n",
      "        Unnamed: 0     DateType          Age       Heroin      Cocaine  \\\n",
      "count  5105.000000  5103.000000  5102.000000  5105.000000  5105.000000   \n",
      "mean   2552.000000     0.446992    41.964916     0.495397     0.297943   \n",
      "std    1473.830893     0.497231    12.336639     0.500028     0.457399   \n",
      "min       0.000000     0.000000    14.000000     0.000000     0.000000   \n",
      "25%    1276.000000     0.000000    32.000000     0.000000     0.000000   \n",
      "50%    2552.000000     0.000000    42.000000     0.000000     0.000000   \n",
      "75%    3828.000000     1.000000    52.000000     1.000000     1.000000   \n",
      "max    5104.000000     1.000000    87.000000     1.000000     1.000000   \n",
      "\n",
      "       Fentanyl_Analogue    Oxycodone  Oxymorphone      Ethanol  Hydrocodone  \\\n",
      "count        5105.000000  5105.000000  5105.000000  5105.000000  5105.000000   \n",
      "mean            0.076200     0.118903     0.021156     0.244270     0.023115   \n",
      "std             0.265344     0.323706     0.143917     0.429696     0.150282   \n",
      "min             0.000000     0.000000     0.000000     0.000000     0.000000   \n",
      "25%             0.000000     0.000000     0.000000     0.000000     0.000000   \n",
      "50%             0.000000     0.000000     0.000000     0.000000     0.000000   \n",
      "75%             0.000000     0.000000     0.000000     0.000000     0.000000   \n",
      "max             1.000000     1.000000     1.000000     1.000000     1.000000   \n",
      "\n",
      "       Benzodiazepine    Methadone       Amphet       Tramad  Hydromorphone  \\\n",
      "count     5105.000000  5105.000000  5105.000000  5105.000000    5105.000000   \n",
      "mean         0.263075     0.092850     0.031146     0.025465       0.004897   \n",
      "std          0.440346     0.290251     0.173729     0.157549       0.069815   \n",
      "min          0.000000     0.000000     0.000000     0.000000       0.000000   \n",
      "25%          0.000000     0.000000     0.000000     0.000000       0.000000   \n",
      "50%          0.000000     0.000000     0.000000     0.000000       0.000000   \n",
      "75%          1.000000     0.000000     0.000000     0.000000       0.000000   \n",
      "max          1.000000     1.000000     1.000000     1.000000       1.000000   \n",
      "\n",
      "         OpiateNOS  \n",
      "count  5105.000000  \n",
      "mean      0.017238  \n",
      "std       0.130170  \n",
      "min       0.000000  \n",
      "25%       0.000000  \n",
      "50%       0.000000  \n",
      "75%       0.000000  \n",
      "max       1.000000  \n"
     ]
    }
   ],
   "source": [
    "numeric_columns = df.describe()\n",
    "print(\"Numeric column statistics:\")\n",
    "print(numeric_columns)"
   ],
   "metadata": {
    "collapsed": false,
    "ExecuteTime": {
     "start_time": "2023-04-13T23:25:36.617045Z",
     "end_time": "2023-04-13T23:25:36.671781Z"
    }
   }
  },
  {
   "cell_type": "markdown",
   "source": [
    "# Feature Engineering"
   ],
   "metadata": {
    "collapsed": false
   }
  },
  {
   "cell_type": "code",
   "execution_count": 51,
   "outputs": [
    {
     "data": {
      "text/plain": "    Unnamed: 0       ID                    Date  DateType   Age     Sex  \\\n21          21  15-0263  06/02/2015 12:00:00 AM       1.0  39.0  Female   \n25          25  17-0817  10/13/2017 12:00:00 AM       1.0  25.0    Male   \n34          34  17-0907  11/16/2017 12:00:00 AM       1.0  40.0    Male   \n35          35  15-0475  09/14/2015 12:00:00 AM       1.0  51.0    Male   \n38          38  15-0687  12/07/2015 12:00:00 AM       1.0  56.0    Male   \n\n     Race ResidenceCity ResidenceCounty ResidenceState  ... Other OpiateNOS  \\\n21  White       ANSONIA       NEW HAVEN             CT  ...   NaN         0   \n25  White       MERIDEN       NEW HAVEN             CT  ...   NaN         0   \n34  Black     NEW HAVEN       NEW HAVEN             CT  ...   NaN         0   \n35  White    MIDDLETOWN       MIDDLESEX             CT  ...   NaN         0   \n38  Black     WATERBURY       NEW HAVEN             CT  ...   NaN         0   \n\n   AnyOpioid MannerofDeath                             DeathCityGeo  \\\n21         1      Accident       Derby, CT\\n(41.322959, -73.089594)   \n25         0      Accident       Meriden, CT\\n(41.537589, -72.8011)   \n34         0      Accident   New Haven, CT\\n(41.308252, -72.924161)   \n35         1      Accident  MIDDLETOWN, CT\\n(41.544654, -72.651713)   \n38         0      accident   Waterbury, CT\\n(41.554261, -73.043069)   \n\n                           ResidenceCityGeo  \\\n21      ANSONIA, CT\\n(41.34198, -73.078296)   \n25       MERIDEN, CT\\n(41.537589, -72.8011)   \n34   NEW HAVEN, CT\\n(41.308252, -72.924161)   \n35  MIDDLETOWN, CT\\n(41.544654, -72.651713)   \n38   WATERBURY, CT\\n(41.554261, -73.043069)   \n\n                              InjuryCityGeo NormalizedRace   DrugType  \\\n21      ANSONIA, CT\\n(41.34198, -73.078296)          White  Methadone   \n25       MERIDEN, CT\\n(41.537589, -72.8011)          White     Heroin   \n34   NEW HAVEN, CT\\n(41.308252, -72.924161)          Black     Heroin   \n35  MIDDLETOWN, CT\\n(41.544654, -72.651713)          White    Ethanol   \n38   WATERBURY, CT\\n(41.554261, -73.043069)          Black    Cocaine   \n\n   GeneralDrugType  \n21          Opioid  \n25          Opioid  \n34          Opioid  \n35      Depressant  \n38       Stimulant  \n\n[5 rows x 45 columns]",
      "text/html": "<div>\n<style scoped>\n    .dataframe tbody tr th:only-of-type {\n        vertical-align: middle;\n    }\n\n    .dataframe tbody tr th {\n        vertical-align: top;\n    }\n\n    .dataframe thead th {\n        text-align: right;\n    }\n</style>\n<table border=\"1\" class=\"dataframe\">\n  <thead>\n    <tr style=\"text-align: right;\">\n      <th></th>\n      <th>Unnamed: 0</th>\n      <th>ID</th>\n      <th>Date</th>\n      <th>DateType</th>\n      <th>Age</th>\n      <th>Sex</th>\n      <th>Race</th>\n      <th>ResidenceCity</th>\n      <th>ResidenceCounty</th>\n      <th>ResidenceState</th>\n      <th>...</th>\n      <th>Other</th>\n      <th>OpiateNOS</th>\n      <th>AnyOpioid</th>\n      <th>MannerofDeath</th>\n      <th>DeathCityGeo</th>\n      <th>ResidenceCityGeo</th>\n      <th>InjuryCityGeo</th>\n      <th>NormalizedRace</th>\n      <th>DrugType</th>\n      <th>GeneralDrugType</th>\n    </tr>\n  </thead>\n  <tbody>\n    <tr>\n      <th>21</th>\n      <td>21</td>\n      <td>15-0263</td>\n      <td>06/02/2015 12:00:00 AM</td>\n      <td>1.0</td>\n      <td>39.0</td>\n      <td>Female</td>\n      <td>White</td>\n      <td>ANSONIA</td>\n      <td>NEW HAVEN</td>\n      <td>CT</td>\n      <td>...</td>\n      <td>NaN</td>\n      <td>0</td>\n      <td>1</td>\n      <td>Accident</td>\n      <td>Derby, CT\\n(41.322959, -73.089594)</td>\n      <td>ANSONIA, CT\\n(41.34198, -73.078296)</td>\n      <td>ANSONIA, CT\\n(41.34198, -73.078296)</td>\n      <td>White</td>\n      <td>Methadone</td>\n      <td>Opioid</td>\n    </tr>\n    <tr>\n      <th>25</th>\n      <td>25</td>\n      <td>17-0817</td>\n      <td>10/13/2017 12:00:00 AM</td>\n      <td>1.0</td>\n      <td>25.0</td>\n      <td>Male</td>\n      <td>White</td>\n      <td>MERIDEN</td>\n      <td>NEW HAVEN</td>\n      <td>CT</td>\n      <td>...</td>\n      <td>NaN</td>\n      <td>0</td>\n      <td>0</td>\n      <td>Accident</td>\n      <td>Meriden, CT\\n(41.537589, -72.8011)</td>\n      <td>MERIDEN, CT\\n(41.537589, -72.8011)</td>\n      <td>MERIDEN, CT\\n(41.537589, -72.8011)</td>\n      <td>White</td>\n      <td>Heroin</td>\n      <td>Opioid</td>\n    </tr>\n    <tr>\n      <th>34</th>\n      <td>34</td>\n      <td>17-0907</td>\n      <td>11/16/2017 12:00:00 AM</td>\n      <td>1.0</td>\n      <td>40.0</td>\n      <td>Male</td>\n      <td>Black</td>\n      <td>NEW HAVEN</td>\n      <td>NEW HAVEN</td>\n      <td>CT</td>\n      <td>...</td>\n      <td>NaN</td>\n      <td>0</td>\n      <td>0</td>\n      <td>Accident</td>\n      <td>New Haven, CT\\n(41.308252, -72.924161)</td>\n      <td>NEW HAVEN, CT\\n(41.308252, -72.924161)</td>\n      <td>NEW HAVEN, CT\\n(41.308252, -72.924161)</td>\n      <td>Black</td>\n      <td>Heroin</td>\n      <td>Opioid</td>\n    </tr>\n    <tr>\n      <th>35</th>\n      <td>35</td>\n      <td>15-0475</td>\n      <td>09/14/2015 12:00:00 AM</td>\n      <td>1.0</td>\n      <td>51.0</td>\n      <td>Male</td>\n      <td>White</td>\n      <td>MIDDLETOWN</td>\n      <td>MIDDLESEX</td>\n      <td>CT</td>\n      <td>...</td>\n      <td>NaN</td>\n      <td>0</td>\n      <td>1</td>\n      <td>Accident</td>\n      <td>MIDDLETOWN, CT\\n(41.544654, -72.651713)</td>\n      <td>MIDDLETOWN, CT\\n(41.544654, -72.651713)</td>\n      <td>MIDDLETOWN, CT\\n(41.544654, -72.651713)</td>\n      <td>White</td>\n      <td>Ethanol</td>\n      <td>Depressant</td>\n    </tr>\n    <tr>\n      <th>38</th>\n      <td>38</td>\n      <td>15-0687</td>\n      <td>12/07/2015 12:00:00 AM</td>\n      <td>1.0</td>\n      <td>56.0</td>\n      <td>Male</td>\n      <td>Black</td>\n      <td>WATERBURY</td>\n      <td>NEW HAVEN</td>\n      <td>CT</td>\n      <td>...</td>\n      <td>NaN</td>\n      <td>0</td>\n      <td>0</td>\n      <td>accident</td>\n      <td>Waterbury, CT\\n(41.554261, -73.043069)</td>\n      <td>WATERBURY, CT\\n(41.554261, -73.043069)</td>\n      <td>WATERBURY, CT\\n(41.554261, -73.043069)</td>\n      <td>Black</td>\n      <td>Cocaine</td>\n      <td>Stimulant</td>\n    </tr>\n  </tbody>\n</table>\n<p>5 rows × 45 columns</p>\n</div>"
     },
     "execution_count": 51,
     "metadata": {},
     "output_type": "execute_result"
    }
   ],
   "source": [
    "drug_columns = ['Heroin', 'Cocaine', 'Fentanyl', 'Fentanyl_Analogue', 'Oxycodone', 'Oxymorphone', 'Ethanol', 'Hydrocodone',\n",
    "                'Benzodiazepine', 'Methadone', 'Amphet', 'Tramad', 'Morphine_NotHeroin', 'Hydromorphone', 'Other',\n",
    "                'OpiateNOS', 'AnyOpioid']\n",
    "# Define a mapping dictionary for general drug categories\n",
    "drug_mapping = {\n",
    "    'Heroin': 'Opioid',\n",
    "    'Cocaine': 'Stimulant',\n",
    "    'Fentanyl': 'Opioid',\n",
    "    'Fentanyl_Analogue': 'Opioid',\n",
    "    'Oxycodone': 'Opioid',\n",
    "    'Oxymorphone': 'Opioid',\n",
    "    'Ethanol': 'Depressant',\n",
    "    'Hydrocodone': 'Opioid',\n",
    "    'Benzodiazepine': 'Depressant',\n",
    "    'Methadone': 'Opioid',\n",
    "    'Amphet': 'Stimulant',\n",
    "    'Tramad': 'Opioid',\n",
    "    'Morphine_NotHeroin': 'Opioid',\n",
    "    'Hydromorphone': 'Opioid',\n",
    "    'Other': 'Other',\n",
    "    'OpiateNOS': 'Opioid',\n",
    "    'AnyOpioid': 'Opioid'\n",
    "}\n",
    "def get_drug_type(row):\n",
    "    for col in drug_columns:\n",
    "        if row[col] == 1:\n",
    "            return col\n",
    "    return np.nan\n",
    "\n",
    "\n",
    "\n",
    "\n",
    "filtered_df['DrugType'] = filtered_df.apply(get_drug_type, axis=1)\n",
    "filtered_df = filtered_df.dropna(subset=['DrugType'])\n",
    "# Map the drug types to more general categories\n",
    "filtered_df['GeneralDrugType'] = filtered_df['DrugType'].map(drug_mapping)\n",
    "filtered_df.head()"
   ],
   "metadata": {
    "collapsed": false,
    "ExecuteTime": {
     "start_time": "2023-04-13T23:25:36.619602Z",
     "end_time": "2023-04-13T23:25:36.671887Z"
    }
   }
  },
  {
   "cell_type": "markdown",
   "source": [
    "# Data Visualization"
   ],
   "metadata": {
    "collapsed": false
   }
  },
  {
   "cell_type": "code",
   "execution_count": 52,
   "outputs": [
    {
     "data": {
      "text/plain": "<Figure size 1200x600 with 1 Axes>",
      "image/png": "[encoded data removed]"
     },
     "metadata": {},
     "output_type": "display_data"
    }
   ],
   "source": [
    "# Plotting histogram for the 'Age' column\n",
    "plt.figure(figsize=(12, 6))\n",
    "plt.hist(filtered_df['Age'], bins=range(0, 100, 5), alpha=0.75, edgecolor='black')\n",
    "plt.title('Age Distribution')\n",
    "plt.xlabel('Age')\n",
    "plt.ylabel('Frequency')\n",
    "plt.xticks(range(0, 100, 5))\n",
    "plt.show()"
   ],
   "metadata": {
    "collapsed": false,
    "ExecuteTime": {
     "start_time": "2023-04-13T23:25:36.651946Z",
     "end_time": "2023-04-13T23:25:36.791324Z"
    }
   }
  },
  {
   "cell_type": "code",
   "execution_count": 53,
   "outputs": [
    {
     "data": {
      "text/plain": "<Figure size 1800x600 with 3 Axes>",
      "image/png": "[encoded data removed]"
     },
     "metadata": {},
     "output_type": "display_data"
    }
   ],
   "source": [
    "\n",
    "# Male and female ratio\n",
    "sex_counts = filtered_df['Sex'].value_counts()\n",
    "\n",
    "# Racial ratio\n",
    "race_counts = filtered_df['NormalizedRace'].value_counts()\n",
    "\n",
    "# GeneralDrugType ratio\n",
    "general_drug_type_counts = filtered_df['GeneralDrugType'].value_counts()\n",
    "\n",
    "# DrugType ratio\n",
    "drug_type_counts = filtered_df['DrugType'].value_counts()\n",
    "\n",
    "# Displaying pie charts\n",
    "fig, (ax1, ax2, ax3) = plt.subplots(1, 3, figsize=(18, 6))\n",
    "\n",
    "ax1.pie(sex_counts, labels=sex_counts.index, autopct='%1.1f%%')\n",
    "ax1.set_title('Male and Female Ratio')\n",
    "\n",
    "ax2.pie(race_counts, labels=race_counts.index, autopct='%1.1f%%')\n",
    "ax2.set_title('Racial Ratio')\n",
    "\n",
    "ax3.pie(general_drug_type_counts, labels=general_drug_type_counts.index, autopct='%1.1f%%')\n",
    "ax3.set_title('General Drug Types Ratio')\n",
    "\n",
    "plt.show()"
   ],
   "metadata": {
    "collapsed": false,
    "ExecuteTime": {
     "start_time": "2023-04-13T23:25:36.789902Z",
     "end_time": "2023-04-13T23:25:36.849218Z"
    }
   }
  },
  {
   "cell_type": "code",
   "execution_count": 54,
   "outputs": [
    {
     "data": {
      "text/plain": "<Figure size 1200x600 with 1 Axes>",
      "image/png": "[encoded data removed]"
     },
     "metadata": {},
     "output_type": "display_data"
    }
   ],
   "source": [
    "# Separating male and female data\n",
    "male_data = filtered_df[filtered_df['Sex'] == 'Male']\n",
    "female_data = filtered_df[filtered_df['Sex'] == 'Female']\n",
    "\n",
    "# Plotting histograms for male and female age distribution\n",
    "plt.figure(figsize=(12, 6))\n",
    "\n",
    "plt.hist(male_data['Age'], bins=range(0, 100, 5), alpha=0.75, edgecolor='black', label='Male')\n",
    "plt.hist(female_data['Age'], bins=range(0, 100, 5), alpha=0.75, edgecolor='black', label='Female')\n",
    "\n",
    "plt.title('Age Distribution by Gender')\n",
    "plt.xlabel('Age')\n",
    "plt.ylabel('Frequency')\n",
    "plt.xticks(range(0, 100, 5))\n",
    "plt.legend()\n",
    "plt.show()\n"
   ],
   "metadata": {
    "collapsed": false,
    "ExecuteTime": {
     "start_time": "2023-04-13T23:25:36.858298Z",
     "end_time": "2023-04-13T23:25:37.027381Z"
    }
   }
  },
  {
   "cell_type": "markdown",
   "source": [
    "# Some additional Features engineering\n",
    "**DayOfWeek** - day of the week of the death, with Monday=0 and Sunday=6\n",
    "**MonthOfYear** - month of the death, with January=1 and December=12\n",
    "**AgeGroup** - age group of the deceased based on the Age feature\n",
    "**Sex_Age** - combination of Sex and Age, indicating the age and gender of the deceased."
   ],
   "metadata": {
    "collapsed": false
   }
  },
  {
   "cell_type": "code",
   "execution_count": 55,
   "outputs": [
    {
     "data": {
      "text/plain": "    Unnamed: 0       ID       Date  DateType   Age     Sex   Race  \\\n21          21  15-0263 2015-06-02       1.0  39.0  Female  White   \n25          25  17-0817 2017-10-13       1.0  25.0    Male  White   \n34          34  17-0907 2017-11-16       1.0  40.0    Male  Black   \n35          35  15-0475 2015-09-14       1.0  51.0    Male  White   \n38          38  15-0687 2015-12-07       1.0  56.0    Male  Black   \n\n   ResidenceCity ResidenceCounty ResidenceState  ... Sex_Age_Female_18-35  \\\n21       ANSONIA       NEW HAVEN             CT  ...                    0   \n25       MERIDEN       NEW HAVEN             CT  ...                    0   \n34     NEW HAVEN       NEW HAVEN             CT  ...                    0   \n35    MIDDLETOWN       MIDDLESEX             CT  ...                    0   \n38     WATERBURY       NEW HAVEN             CT  ...                    0   \n\n   Sex_Age_Female_36-50 Sex_Age_Female_51-65 Sex_Age_Female_65+  \\\n21                    1                    0                  0   \n25                    0                    0                  0   \n34                    0                    0                  0   \n35                    0                    0                  0   \n38                    0                    0                  0   \n\n   Sex_Age_Female_<18 Sex_Age_Male_18-35 Sex_Age_Male_36-50  \\\n21                  0                  0                  0   \n25                  0                  1                  0   \n34                  0                  0                  1   \n35                  0                  0                  0   \n38                  0                  0                  0   \n\n   Sex_Age_Male_51-65 Sex_Age_Male_65+ Sex_Age_Male_<18  \n21                  0                0                0  \n25                  0                0                0  \n34                  0                0                0  \n35                  1                0                0  \n38                  1                0                0  \n\n[5 rows x 69 columns]",
      "text/html": "<div>\n<style scoped>\n    .dataframe tbody tr th:only-of-type {\n        vertical-align: middle;\n    }\n\n    .dataframe tbody tr th {\n        vertical-align: top;\n    }\n\n    .dataframe thead th {\n        text-align: right;\n    }\n</style>\n<table border=\"1\" class=\"dataframe\">\n  <thead>\n    <tr style=\"text-align: right;\">\n      <th></th>\n      <th>Unnamed: 0</th>\n      <th>ID</th>\n      <th>Date</th>\n      <th>DateType</th>\n      <th>Age</th>\n      <th>Sex</th>\n      <th>Race</th>\n      <th>ResidenceCity</th>\n      <th>ResidenceCounty</th>\n      <th>ResidenceState</th>\n      <th>...</th>\n      <th>Sex_Age_Female_18-35</th>\n      <th>Sex_Age_Female_36-50</th>\n      <th>Sex_Age_Female_51-65</th>\n      <th>Sex_Age_Female_65+</th>\n      <th>Sex_Age_Female_&lt;18</th>\n      <th>Sex_Age_Male_18-35</th>\n      <th>Sex_Age_Male_36-50</th>\n      <th>Sex_Age_Male_51-65</th>\n      <th>Sex_Age_Male_65+</th>\n      <th>Sex_Age_Male_&lt;18</th>\n    </tr>\n  </thead>\n  <tbody>\n    <tr>\n      <th>21</th>\n      <td>21</td>\n      <td>15-0263</td>\n      <td>2015-06-02</td>\n      <td>1.0</td>\n      <td>39.0</td>\n      <td>Female</td>\n      <td>White</td>\n      <td>ANSONIA</td>\n      <td>NEW HAVEN</td>\n      <td>CT</td>\n      <td>...</td>\n      <td>0</td>\n      <td>1</td>\n      <td>0</td>\n      <td>0</td>\n      <td>0</td>\n      <td>0</td>\n      <td>0</td>\n      <td>0</td>\n      <td>0</td>\n      <td>0</td>\n    </tr>\n    <tr>\n      <th>25</th>\n      <td>25</td>\n      <td>17-0817</td>\n      <td>2017-10-13</td>\n      <td>1.0</td>\n      <td>25.0</td>\n      <td>Male</td>\n      <td>White</td>\n      <td>MERIDEN</td>\n      <td>NEW HAVEN</td>\n      <td>CT</td>\n      <td>...</td>\n      <td>0</td>\n      <td>0</td>\n      <td>0</td>\n      <td>0</td>\n      <td>0</td>\n      <td>1</td>\n      <td>0</td>\n      <td>0</td>\n      <td>0</td>\n      <td>0</td>\n    </tr>\n    <tr>\n      <th>34</th>\n      <td>34</td>\n      <td>17-0907</td>\n      <td>2017-11-16</td>\n      <td>1.0</td>\n      <td>40.0</td>\n      <td>Male</td>\n      <td>Black</td>\n      <td>NEW HAVEN</td>\n      <td>NEW HAVEN</td>\n      <td>CT</td>\n      <td>...</td>\n      <td>0</td>\n      <td>0</td>\n      <td>0</td>\n      <td>0</td>\n      <td>0</td>\n      <td>0</td>\n      <td>1</td>\n      <td>0</td>\n      <td>0</td>\n      <td>0</td>\n    </tr>\n    <tr>\n      <th>35</th>\n      <td>35</td>\n      <td>15-0475</td>\n      <td>2015-09-14</td>\n      <td>1.0</td>\n      <td>51.0</td>\n      <td>Male</td>\n      <td>White</td>\n      <td>MIDDLETOWN</td>\n      <td>MIDDLESEX</td>\n      <td>CT</td>\n      <td>...</td>\n      <td>0</td>\n      <td>0</td>\n      <td>0</td>\n      <td>0</td>\n      <td>0</td>\n      <td>0</td>\n      <td>0</td>\n      <td>1</td>\n      <td>0</td>\n      <td>0</td>\n    </tr>\n    <tr>\n      <th>38</th>\n      <td>38</td>\n      <td>15-0687</td>\n      <td>2015-12-07</td>\n      <td>1.0</td>\n      <td>56.0</td>\n      <td>Male</td>\n      <td>Black</td>\n      <td>WATERBURY</td>\n      <td>NEW HAVEN</td>\n      <td>CT</td>\n      <td>...</td>\n      <td>0</td>\n      <td>0</td>\n      <td>0</td>\n      <td>0</td>\n      <td>0</td>\n      <td>0</td>\n      <td>0</td>\n      <td>1</td>\n      <td>0</td>\n      <td>0</td>\n    </tr>\n  </tbody>\n</table>\n<p>5 rows × 69 columns</p>\n</div>"
     },
     "execution_count": 55,
     "metadata": {},
     "output_type": "execute_result"
    }
   ],
   "source": [
    "# Convert the 'Date' column to datetime\n",
    "filtered_df['Date'] = pd.to_datetime(filtered_df['Date'])\n",
    "\n",
    "# Extract the day of the week from the 'Date' column\n",
    "filtered_df['DayOfWeek'] = filtered_df['Date'].dt.dayofweek\n",
    "\n",
    "# Extract the month of the year from the 'Date' column\n",
    "filtered_df['MonthOfYear'] = filtered_df['Date'].dt.month\n",
    "\n",
    "# Create new features or transform existing ones\n",
    "bins = [0, 18, 35, 50, 65, np.inf]\n",
    "labels = ['<18', '18-35', '36-50', '51-65', '65+']\n",
    "filtered_df['AgeGroup'] = pd.cut(filtered_df['Age'], bins=bins, labels=labels)\n",
    "filtered_df['Sex_Age'] = filtered_df['Sex'] + '_' + filtered_df['AgeGroup'].astype(str)\n",
    "sex_dummies = pd.get_dummies(filtered_df['Sex'], prefix='Sex')\n",
    "race_dummies = pd.get_dummies(filtered_df['NormalizedRace'], prefix='Race')\n",
    "age_group_dummies = pd.get_dummies(filtered_df['AgeGroup'], prefix='AgeGroup')\n",
    "sex_age_dummies = pd.get_dummies(filtered_df['Sex_Age'], prefix='Sex_Age')\n",
    "filtered_df = pd.concat([filtered_df, sex_dummies, race_dummies, age_group_dummies, sex_age_dummies], axis=1)\n",
    "\n",
    "# Drop original categorical columns\n",
    "filtered_df.head()\n"
   ],
   "metadata": {
    "collapsed": false,
    "ExecuteTime": {
     "start_time": "2023-04-13T23:25:37.020892Z",
     "end_time": "2023-04-13T23:25:37.032215Z"
    }
   }
  },
  {
   "cell_type": "code",
   "execution_count": 55,
   "outputs": [],
   "source": [],
   "metadata": {
    "collapsed": false,
    "ExecuteTime": {
     "start_time": "2023-04-13T23:25:37.032690Z",
     "end_time": "2023-04-13T23:25:37.033990Z"
    }
   }
  },
  {
   "cell_type": "code",
   "execution_count": 56,
   "outputs": [
    {
     "name": "stdout",
     "output_type": "stream",
     "text": [
      "LogisticRegression accuracy: 0.705\n",
      "RandomForestClassifier accuracy: 0.625\n",
      "KNeighborsClassifier accuracy: 0.617\n"
     ]
    }
   ],
   "source": [
    "features = ['Age', 'AgeGroup', 'Sex', 'Sex_Age', 'NormalizedRace', 'DayOfWeek', 'MonthOfYear']\n",
    "target = 'GeneralDrugType'\n",
    "\n",
    "# One-hot encoding categorical features\n",
    "X = pd.get_dummies(filtered_df[features], drop_first=True)\n",
    "y = filtered_df[target]\n",
    "\n",
    "# Find columns with NaN values\n",
    "y.isna().sum()\n",
    "\n",
    "# Split the data into train and test sets\n",
    "X_train, X_test, y_train, y_test = train_test_split(X, y, test_size=0.2, random_state=42)\n",
    "\n",
    "# Create classifiers\n",
    "lr = LogisticRegression(max_iter=1000, random_state=42)\n",
    "rf = RandomForestClassifier(random_state=42)\n",
    "knn = KNeighborsClassifier()\n",
    "\n",
    "# Train and evaluate classifiers\n",
    "for classifier in [lr, rf, knn]:\n",
    "    classifier.fit(X_train, y_train)\n",
    "    y_pred = classifier.predict(X_test)\n",
    "    accuracy = accuracy_score(y_test, y_pred)\n",
    "    print(f\"{classifier.__class__.__name__} accuracy: {accuracy:.3f}\")\n"
   ],
   "metadata": {
    "collapsed": false,
    "ExecuteTime": {
     "start_time": "2023-04-13T23:25:37.036210Z",
     "end_time": "2023-04-13T23:25:37.233408Z"
    }
   }
  },
  {
   "cell_type": "markdown",
   "source": [
    "Based on the results, the Logistic Regression model has the highest accuracy (0.705) compared to the Random Forest Classifier (0.625) and the K-Nearest Neighbors Classifier (0.617)."
   ],
   "metadata": {
    "collapsed": false
   }
  },
  {
   "cell_type": "code",
   "execution_count": 57,
   "outputs": [
    {
     "name": "stdout",
     "output_type": "stream",
     "text": [
      "Optimal number of features:  2\n",
      "Feature ranking:\n",
      "\n",
      "1. Age: 18\n",
      "2. DayOfWeek: 17\n",
      "3. MonthOfYear: 16\n",
      "4. AgeGroup_18-35: 15\n",
      "5. AgeGroup_36-50: 14\n",
      "6. AgeGroup_51-65: 13\n",
      "7. AgeGroup_65+: 6\n",
      "8. Sex_Male: 9\n",
      "9. Sex_Age_Female_36-50: 5\n",
      "10. Sex_Age_Female_51-65: 3\n",
      "11. Sex_Age_Female_65+: 1\n",
      "12. Sex_Age_Female_<18: 2\n",
      "13. Sex_Age_Male_18-35: 7\n",
      "14. Sex_Age_Male_36-50: 11\n",
      "15. Sex_Age_Male_51-65: 12\n",
      "16. Sex_Age_Male_65+: 4\n",
      "17. Sex_Age_Male_<18: 10\n",
      "18. NormalizedRace_Black: 1\n",
      "19. NormalizedRace_White: 8\n"
     ]
    },
    {
     "data": {
      "text/plain": "<Figure size 640x480 with 1 Axes>",
      "image/png": "[encoded data removed]"
     },
     "metadata": {},
     "output_type": "display_data"
    }
   ],
   "source": [
    "# Create the logistic regression model\n",
    "lr = LogisticRegression(max_iter=1000, random_state=42)\n",
    "\n",
    "# Create the RFE object with cross-validation\n",
    "rfecv = RFECV(estimator=lr, step=1, cv=StratifiedKFold(5), scoring='accuracy')\n",
    "\n",
    "# Fit the RFE object to the data\n",
    "rfecv.fit(X, y)\n",
    "\n",
    "# Print the optimal number of features\n",
    "print(\"Optimal number of features: \", rfecv.n_features_)\n",
    "\n",
    "# Print the ranking of features\n",
    "print(\"Feature ranking:\\n\")\n",
    "for i, (feature, rank) in enumerate(zip(X.columns, rfecv.ranking_)):\n",
    "    print(f\"{i+1}. {feature}: {rank}\")\n",
    "\n",
    "plt.figure()\n",
    "plt.xlabel(\"Number of features selected\")\n",
    "plt.ylabel(\"Cross-validation score (accuracy)\")\n",
    "\n",
    "plt.plot(range(1, len(rfecv.cv_results_['mean_test_score']) + 1), rfecv.cv_results_['mean_test_score'])\n",
    "\n",
    "plt.show()"
   ],
   "metadata": {
    "collapsed": false,
    "ExecuteTime": {
     "start_time": "2023-04-13T23:25:37.235807Z",
     "end_time": "2023-04-13T23:25:39.290055Z"
    }
   }
  },
  {
   "cell_type": "markdown",
   "source": [
    "Based on the output, it seems that the most important features affecting the target variable are:\n",
    "Age\n",
    "DayOfWeek\n",
    "MonthOfYear\n",
    "AgeGroup_18-35\n",
    "AgeGroup_36-50"
   ],
   "metadata": {
    "collapsed": false
   }
  },
  {
   "cell_type": "code",
   "execution_count": 58,
   "outputs": [
    {
     "name": "stdout",
     "output_type": "stream",
     "text": [
      "LogisticRegression accuracy with top features: 0.693\n",
      "RandomForestClassifier accuracy with top features: 0.598\n",
      "KNeighborsClassifier accuracy with top features: 0.628\n"
     ]
    }
   ],
   "source": [
    "# Select the top features\n",
    "top_features = ['Age', 'DayOfWeek', 'MonthOfYear', 'AgeGroup_18-35', 'AgeGroup_36-50']\n",
    "X_top_features = X[top_features]\n",
    "\n",
    "# Split the data into train and test sets\n",
    "X_train, X_test, y_train, y_test = train_test_split(X_top_features, y, test_size=0.2, random_state=42)\n",
    "\n",
    "# Create classifiers\n",
    "lr = LogisticRegression(max_iter=1000, random_state=42)\n",
    "rf = RandomForestClassifier(random_state=42)\n",
    "knn = KNeighborsClassifier()\n",
    "\n",
    "# Train and evaluate classifiers with top features\n",
    "for classifier in [lr, rf, knn]:\n",
    "    classifier.fit(X_train, y_train)\n",
    "    y_pred = classifier.predict(X_test)\n",
    "    accuracy = accuracy_score(y_test, y_pred)\n",
    "    print(f\"{classifier.__class__.__name__} accuracy with top features: {accuracy:.3f}\")\n"
   ],
   "metadata": {
    "collapsed": false,
    "ExecuteTime": {
     "start_time": "2023-04-13T23:25:39.295287Z",
     "end_time": "2023-04-13T23:25:39.443288Z"
    }
   }
  },
  {
   "cell_type": "markdown",
   "source": [
    "the Logistic Regression model has the highest accuracy (0.705)"
   ],
   "metadata": {
    "collapsed": false
   }
  },
  {
   "cell_type": "code",
   "execution_count": 59,
   "outputs": [
    {
     "name": "stderr",
     "output_type": "stream",
     "text": [
      "/home/sash/.conda/envs/drug_overdose_deaths_analysis/lib/python3.10/site-packages/sklearn/linear_model/_logistic.py:1173: FutureWarning: `penalty='none'`has been deprecated in 1.2 and will be removed in 1.4. To keep the past behaviour, set `penalty=None`.\n",
      "  warnings.warn(\n",
      "/home/sash/.conda/envs/drug_overdose_deaths_analysis/lib/python3.10/site-packages/sklearn/linear_model/_logistic.py:1173: FutureWarning: `penalty='none'`has been deprecated in 1.2 and will be removed in 1.4. To keep the past behaviour, set `penalty=None`.\n",
      "  warnings.warn(\n",
      "/home/sash/.conda/envs/drug_overdose_deaths_analysis/lib/python3.10/site-packages/sklearn/linear_model/_logistic.py:1173: FutureWarning: `penalty='none'`has been deprecated in 1.2 and will be removed in 1.4. To keep the past behaviour, set `penalty=None`.\n",
      "  warnings.warn(\n",
      "/home/sash/.conda/envs/drug_overdose_deaths_analysis/lib/python3.10/site-packages/sklearn/linear_model/_logistic.py:1173: FutureWarning: `penalty='none'`has been deprecated in 1.2 and will be removed in 1.4. To keep the past behaviour, set `penalty=None`.\n",
      "  warnings.warn(\n",
      "/home/sash/.conda/envs/drug_overdose_deaths_analysis/lib/python3.10/site-packages/sklearn/linear_model/_logistic.py:1173: FutureWarning: `penalty='none'`has been deprecated in 1.2 and will be removed in 1.4. To keep the past behaviour, set `penalty=None`.\n",
      "  warnings.warn(\n",
      "/home/sash/.conda/envs/drug_overdose_deaths_analysis/lib/python3.10/site-packages/sklearn/linear_model/_logistic.py:1173: FutureWarning: `penalty='none'`has been deprecated in 1.2 and will be removed in 1.4. To keep the past behaviour, set `penalty=None`.\n",
      "  warnings.warn(\n",
      "/home/sash/.conda/envs/drug_overdose_deaths_analysis/lib/python3.10/site-packages/sklearn/linear_model/_logistic.py:1173: FutureWarning: `penalty='none'`has been deprecated in 1.2 and will be removed in 1.4. To keep the past behaviour, set `penalty=None`.\n",
      "  warnings.warn(\n",
      "/home/sash/.conda/envs/drug_overdose_deaths_analysis/lib/python3.10/site-packages/sklearn/linear_model/_logistic.py:1173: FutureWarning: `penalty='none'`has been deprecated in 1.2 and will be removed in 1.4. To keep the past behaviour, set `penalty=None`.\n",
      "  warnings.warn(\n",
      "/home/sash/.conda/envs/drug_overdose_deaths_analysis/lib/python3.10/site-packages/sklearn/linear_model/_logistic.py:1173: FutureWarning: `penalty='none'`has been deprecated in 1.2 and will be removed in 1.4. To keep the past behaviour, set `penalty=None`.\n",
      "  warnings.warn(\n",
      "/home/sash/.conda/envs/drug_overdose_deaths_analysis/lib/python3.10/site-packages/sklearn/linear_model/_logistic.py:1173: FutureWarning: `penalty='none'`has been deprecated in 1.2 and will be removed in 1.4. To keep the past behaviour, set `penalty=None`.\n",
      "  warnings.warn(\n",
      "/home/sash/.conda/envs/drug_overdose_deaths_analysis/lib/python3.10/site-packages/sklearn/linear_model/_logistic.py:1173: FutureWarning: `penalty='none'`has been deprecated in 1.2 and will be removed in 1.4. To keep the past behaviour, set `penalty=None`.\n",
      "  warnings.warn(\n",
      "/home/sash/.conda/envs/drug_overdose_deaths_analysis/lib/python3.10/site-packages/sklearn/linear_model/_logistic.py:1173: FutureWarning: `penalty='none'`has been deprecated in 1.2 and will be removed in 1.4. To keep the past behaviour, set `penalty=None`.\n",
      "  warnings.warn(\n",
      "/home/sash/.conda/envs/drug_overdose_deaths_analysis/lib/python3.10/site-packages/sklearn/linear_model/_logistic.py:1173: FutureWarning: `penalty='none'`has been deprecated in 1.2 and will be removed in 1.4. To keep the past behaviour, set `penalty=None`.\n",
      "  warnings.warn(\n",
      "/home/sash/.conda/envs/drug_overdose_deaths_analysis/lib/python3.10/site-packages/sklearn/linear_model/_logistic.py:1173: FutureWarning: `penalty='none'`has been deprecated in 1.2 and will be removed in 1.4. To keep the past behaviour, set `penalty=None`.\n",
      "  warnings.warn(\n",
      "/home/sash/.conda/envs/drug_overdose_deaths_analysis/lib/python3.10/site-packages/sklearn/linear_model/_logistic.py:1173: FutureWarning: `penalty='none'`has been deprecated in 1.2 and will be removed in 1.4. To keep the past behaviour, set `penalty=None`.\n",
      "  warnings.warn(\n",
      "/home/sash/.conda/envs/drug_overdose_deaths_analysis/lib/python3.10/site-packages/sklearn/linear_model/_logistic.py:1173: FutureWarning: `penalty='none'`has been deprecated in 1.2 and will be removed in 1.4. To keep the past behaviour, set `penalty=None`.\n",
      "  warnings.warn(\n",
      "/home/sash/.conda/envs/drug_overdose_deaths_analysis/lib/python3.10/site-packages/sklearn/linear_model/_logistic.py:1173: FutureWarning: `penalty='none'`has been deprecated in 1.2 and will be removed in 1.4. To keep the past behaviour, set `penalty=None`.\n",
      "  warnings.warn(\n",
      "/home/sash/.conda/envs/drug_overdose_deaths_analysis/lib/python3.10/site-packages/sklearn/linear_model/_logistic.py:1173: FutureWarning: `penalty='none'`has been deprecated in 1.2 and will be removed in 1.4. To keep the past behaviour, set `penalty=None`.\n",
      "  warnings.warn(\n",
      "/home/sash/.conda/envs/drug_overdose_deaths_analysis/lib/python3.10/site-packages/sklearn/linear_model/_logistic.py:1173: FutureWarning: `penalty='none'`has been deprecated in 1.2 and will be removed in 1.4. To keep the past behaviour, set `penalty=None`.\n",
      "  warnings.warn(\n",
      "/home/sash/.conda/envs/drug_overdose_deaths_analysis/lib/python3.10/site-packages/sklearn/linear_model/_logistic.py:1173: FutureWarning: `penalty='none'`has been deprecated in 1.2 and will be removed in 1.4. To keep the past behaviour, set `penalty=None`.\n",
      "  warnings.warn(\n",
      "/home/sash/.conda/envs/drug_overdose_deaths_analysis/lib/python3.10/site-packages/sklearn/linear_model/_logistic.py:1173: FutureWarning: `penalty='none'`has been deprecated in 1.2 and will be removed in 1.4. To keep the past behaviour, set `penalty=None`.\n",
      "  warnings.warn(\n",
      "/home/sash/.conda/envs/drug_overdose_deaths_analysis/lib/python3.10/site-packages/sklearn/linear_model/_logistic.py:1173: FutureWarning: `penalty='none'`has been deprecated in 1.2 and will be removed in 1.4. To keep the past behaviour, set `penalty=None`.\n",
      "  warnings.warn(\n",
      "/home/sash/.conda/envs/drug_overdose_deaths_analysis/lib/python3.10/site-packages/sklearn/linear_model/_logistic.py:1173: FutureWarning: `penalty='none'`has been deprecated in 1.2 and will be removed in 1.4. To keep the past behaviour, set `penalty=None`.\n",
      "  warnings.warn(\n",
      "/home/sash/.conda/envs/drug_overdose_deaths_analysis/lib/python3.10/site-packages/sklearn/linear_model/_logistic.py:1173: FutureWarning: `penalty='none'`has been deprecated in 1.2 and will be removed in 1.4. To keep the past behaviour, set `penalty=None`.\n",
      "  warnings.warn(\n",
      "/home/sash/.conda/envs/drug_overdose_deaths_analysis/lib/python3.10/site-packages/sklearn/linear_model/_logistic.py:1173: FutureWarning: `penalty='none'`has been deprecated in 1.2 and will be removed in 1.4. To keep the past behaviour, set `penalty=None`.\n",
      "  warnings.warn(\n",
      "/home/sash/.conda/envs/drug_overdose_deaths_analysis/lib/python3.10/site-packages/sklearn/linear_model/_logistic.py:1173: FutureWarning: `penalty='none'`has been deprecated in 1.2 and will be removed in 1.4. To keep the past behaviour, set `penalty=None`.\n",
      "  warnings.warn(\n",
      "/home/sash/.conda/envs/drug_overdose_deaths_analysis/lib/python3.10/site-packages/sklearn/linear_model/_logistic.py:1173: FutureWarning: `penalty='none'`has been deprecated in 1.2 and will be removed in 1.4. To keep the past behaviour, set `penalty=None`.\n",
      "  warnings.warn(\n",
      "/home/sash/.conda/envs/drug_overdose_deaths_analysis/lib/python3.10/site-packages/sklearn/linear_model/_logistic.py:1173: FutureWarning: `penalty='none'`has been deprecated in 1.2 and will be removed in 1.4. To keep the past behaviour, set `penalty=None`.\n",
      "  warnings.warn(\n",
      "/home/sash/.conda/envs/drug_overdose_deaths_analysis/lib/python3.10/site-packages/sklearn/linear_model/_logistic.py:1173: FutureWarning: `penalty='none'`has been deprecated in 1.2 and will be removed in 1.4. To keep the past behaviour, set `penalty=None`.\n",
      "  warnings.warn(\n",
      "/home/sash/.conda/envs/drug_overdose_deaths_analysis/lib/python3.10/site-packages/sklearn/linear_model/_logistic.py:1173: FutureWarning: `penalty='none'`has been deprecated in 1.2 and will be removed in 1.4. To keep the past behaviour, set `penalty=None`.\n",
      "  warnings.warn(\n",
      "/home/sash/.conda/envs/drug_overdose_deaths_analysis/lib/python3.10/site-packages/sklearn/linear_model/_logistic.py:1173: FutureWarning: `penalty='none'`has been deprecated in 1.2 and will be removed in 1.4. To keep the past behaviour, set `penalty=None`.\n",
      "  warnings.warn(\n",
      "/home/sash/.conda/envs/drug_overdose_deaths_analysis/lib/python3.10/site-packages/sklearn/linear_model/_logistic.py:1173: FutureWarning: `penalty='none'`has been deprecated in 1.2 and will be removed in 1.4. To keep the past behaviour, set `penalty=None`.\n",
      "  warnings.warn(\n",
      "/home/sash/.conda/envs/drug_overdose_deaths_analysis/lib/python3.10/site-packages/sklearn/linear_model/_logistic.py:1173: FutureWarning: `penalty='none'`has been deprecated in 1.2 and will be removed in 1.4. To keep the past behaviour, set `penalty=None`.\n",
      "  warnings.warn(\n",
      "/home/sash/.conda/envs/drug_overdose_deaths_analysis/lib/python3.10/site-packages/sklearn/linear_model/_logistic.py:1173: FutureWarning: `penalty='none'`has been deprecated in 1.2 and will be removed in 1.4. To keep the past behaviour, set `penalty=None`.\n",
      "  warnings.warn(\n",
      "/home/sash/.conda/envs/drug_overdose_deaths_analysis/lib/python3.10/site-packages/sklearn/linear_model/_logistic.py:1173: FutureWarning: `penalty='none'`has been deprecated in 1.2 and will be removed in 1.4. To keep the past behaviour, set `penalty=None`.\n",
      "  warnings.warn(\n",
      "/home/sash/.conda/envs/drug_overdose_deaths_analysis/lib/python3.10/site-packages/sklearn/linear_model/_logistic.py:1173: FutureWarning: `penalty='none'`has been deprecated in 1.2 and will be removed in 1.4. To keep the past behaviour, set `penalty=None`.\n",
      "  warnings.warn(\n",
      "/home/sash/.conda/envs/drug_overdose_deaths_analysis/lib/python3.10/site-packages/sklearn/linear_model/_logistic.py:1173: FutureWarning: `penalty='none'`has been deprecated in 1.2 and will be removed in 1.4. To keep the past behaviour, set `penalty=None`.\n",
      "  warnings.warn(\n",
      "/home/sash/.conda/envs/drug_overdose_deaths_analysis/lib/python3.10/site-packages/sklearn/linear_model/_logistic.py:1173: FutureWarning: `penalty='none'`has been deprecated in 1.2 and will be removed in 1.4. To keep the past behaviour, set `penalty=None`.\n",
      "  warnings.warn(\n",
      "/home/sash/.conda/envs/drug_overdose_deaths_analysis/lib/python3.10/site-packages/sklearn/linear_model/_logistic.py:1173: FutureWarning: `penalty='none'`has been deprecated in 1.2 and will be removed in 1.4. To keep the past behaviour, set `penalty=None`.\n",
      "  warnings.warn(\n",
      "/home/sash/.conda/envs/drug_overdose_deaths_analysis/lib/python3.10/site-packages/sklearn/linear_model/_logistic.py:1173: FutureWarning: `penalty='none'`has been deprecated in 1.2 and will be removed in 1.4. To keep the past behaviour, set `penalty=None`.\n",
      "  warnings.warn(\n",
      "/home/sash/.conda/envs/drug_overdose_deaths_analysis/lib/python3.10/site-packages/sklearn/linear_model/_logistic.py:1173: FutureWarning: `penalty='none'`has been deprecated in 1.2 and will be removed in 1.4. To keep the past behaviour, set `penalty=None`.\n",
      "  warnings.warn(\n",
      "/home/sash/.conda/envs/drug_overdose_deaths_analysis/lib/python3.10/site-packages/sklearn/linear_model/_logistic.py:1173: FutureWarning: `penalty='none'`has been deprecated in 1.2 and will be removed in 1.4. To keep the past behaviour, set `penalty=None`.\n",
      "  warnings.warn(\n",
      "/home/sash/.conda/envs/drug_overdose_deaths_analysis/lib/python3.10/site-packages/sklearn/linear_model/_logistic.py:1173: FutureWarning: `penalty='none'`has been deprecated in 1.2 and will be removed in 1.4. To keep the past behaviour, set `penalty=None`.\n",
      "  warnings.warn(\n",
      "/home/sash/.conda/envs/drug_overdose_deaths_analysis/lib/python3.10/site-packages/sklearn/linear_model/_logistic.py:1173: FutureWarning: `penalty='none'`has been deprecated in 1.2 and will be removed in 1.4. To keep the past behaviour, set `penalty=None`.\n",
      "  warnings.warn(\n",
      "/home/sash/.conda/envs/drug_overdose_deaths_analysis/lib/python3.10/site-packages/sklearn/linear_model/_logistic.py:1173: FutureWarning: `penalty='none'`has been deprecated in 1.2 and will be removed in 1.4. To keep the past behaviour, set `penalty=None`.\n",
      "  warnings.warn(\n",
      "/home/sash/.conda/envs/drug_overdose_deaths_analysis/lib/python3.10/site-packages/sklearn/linear_model/_logistic.py:1173: FutureWarning: `penalty='none'`has been deprecated in 1.2 and will be removed in 1.4. To keep the past behaviour, set `penalty=None`.\n",
      "  warnings.warn(\n",
      "/home/sash/.conda/envs/drug_overdose_deaths_analysis/lib/python3.10/site-packages/sklearn/linear_model/_logistic.py:1173: FutureWarning: `penalty='none'`has been deprecated in 1.2 and will be removed in 1.4. To keep the past behaviour, set `penalty=None`.\n",
      "  warnings.warn(\n",
      "/home/sash/.conda/envs/drug_overdose_deaths_analysis/lib/python3.10/site-packages/sklearn/linear_model/_logistic.py:1173: FutureWarning: `penalty='none'`has been deprecated in 1.2 and will be removed in 1.4. To keep the past behaviour, set `penalty=None`.\n",
      "  warnings.warn(\n",
      "/home/sash/.conda/envs/drug_overdose_deaths_analysis/lib/python3.10/site-packages/sklearn/linear_model/_logistic.py:1173: FutureWarning: `penalty='none'`has been deprecated in 1.2 and will be removed in 1.4. To keep the past behaviour, set `penalty=None`.\n",
      "  warnings.warn(\n",
      "/home/sash/.conda/envs/drug_overdose_deaths_analysis/lib/python3.10/site-packages/sklearn/linear_model/_logistic.py:1173: FutureWarning: `penalty='none'`has been deprecated in 1.2 and will be removed in 1.4. To keep the past behaviour, set `penalty=None`.\n",
      "  warnings.warn(\n",
      "/home/sash/.conda/envs/drug_overdose_deaths_analysis/lib/python3.10/site-packages/sklearn/linear_model/_logistic.py:1173: FutureWarning: `penalty='none'`has been deprecated in 1.2 and will be removed in 1.4. To keep the past behaviour, set `penalty=None`.\n",
      "  warnings.warn(\n",
      "/home/sash/.conda/envs/drug_overdose_deaths_analysis/lib/python3.10/site-packages/sklearn/linear_model/_logistic.py:1173: FutureWarning: `penalty='none'`has been deprecated in 1.2 and will be removed in 1.4. To keep the past behaviour, set `penalty=None`.\n",
      "  warnings.warn(\n",
      "/home/sash/.conda/envs/drug_overdose_deaths_analysis/lib/python3.10/site-packages/sklearn/linear_model/_logistic.py:1173: FutureWarning: `penalty='none'`has been deprecated in 1.2 and will be removed in 1.4. To keep the past behaviour, set `penalty=None`.\n",
      "  warnings.warn(\n",
      "/home/sash/.conda/envs/drug_overdose_deaths_analysis/lib/python3.10/site-packages/sklearn/linear_model/_logistic.py:1173: FutureWarning: `penalty='none'`has been deprecated in 1.2 and will be removed in 1.4. To keep the past behaviour, set `penalty=None`.\n",
      "  warnings.warn(\n",
      "/home/sash/.conda/envs/drug_overdose_deaths_analysis/lib/python3.10/site-packages/sklearn/linear_model/_logistic.py:1173: FutureWarning: `penalty='none'`has been deprecated in 1.2 and will be removed in 1.4. To keep the past behaviour, set `penalty=None`.\n",
      "  warnings.warn(\n",
      "/home/sash/.conda/envs/drug_overdose_deaths_analysis/lib/python3.10/site-packages/sklearn/linear_model/_logistic.py:1173: FutureWarning: `penalty='none'`has been deprecated in 1.2 and will be removed in 1.4. To keep the past behaviour, set `penalty=None`.\n",
      "  warnings.warn(\n",
      "/home/sash/.conda/envs/drug_overdose_deaths_analysis/lib/python3.10/site-packages/sklearn/linear_model/_logistic.py:1173: FutureWarning: `penalty='none'`has been deprecated in 1.2 and will be removed in 1.4. To keep the past behaviour, set `penalty=None`.\n",
      "  warnings.warn(\n",
      "/home/sash/.conda/envs/drug_overdose_deaths_analysis/lib/python3.10/site-packages/sklearn/linear_model/_logistic.py:1173: FutureWarning: `penalty='none'`has been deprecated in 1.2 and will be removed in 1.4. To keep the past behaviour, set `penalty=None`.\n",
      "  warnings.warn(\n",
      "/home/sash/.conda/envs/drug_overdose_deaths_analysis/lib/python3.10/site-packages/sklearn/linear_model/_logistic.py:1173: FutureWarning: `penalty='none'`has been deprecated in 1.2 and will be removed in 1.4. To keep the past behaviour, set `penalty=None`.\n",
      "  warnings.warn(\n",
      "/home/sash/.conda/envs/drug_overdose_deaths_analysis/lib/python3.10/site-packages/sklearn/linear_model/_logistic.py:1173: FutureWarning: `penalty='none'`has been deprecated in 1.2 and will be removed in 1.4. To keep the past behaviour, set `penalty=None`.\n",
      "  warnings.warn(\n",
      "/home/sash/.conda/envs/drug_overdose_deaths_analysis/lib/python3.10/site-packages/sklearn/linear_model/_logistic.py:1173: FutureWarning: `penalty='none'`has been deprecated in 1.2 and will be removed in 1.4. To keep the past behaviour, set `penalty=None`.\n",
      "  warnings.warn(\n",
      "/home/sash/.conda/envs/drug_overdose_deaths_analysis/lib/python3.10/site-packages/sklearn/linear_model/_logistic.py:1173: FutureWarning: `penalty='none'`has been deprecated in 1.2 and will be removed in 1.4. To keep the past behaviour, set `penalty=None`.\n",
      "  warnings.warn(\n",
      "/home/sash/.conda/envs/drug_overdose_deaths_analysis/lib/python3.10/site-packages/sklearn/linear_model/_logistic.py:1173: FutureWarning: `penalty='none'`has been deprecated in 1.2 and will be removed in 1.4. To keep the past behaviour, set `penalty=None`.\n",
      "  warnings.warn(\n",
      "/home/sash/.conda/envs/drug_overdose_deaths_analysis/lib/python3.10/site-packages/sklearn/linear_model/_logistic.py:1173: FutureWarning: `penalty='none'`has been deprecated in 1.2 and will be removed in 1.4. To keep the past behaviour, set `penalty=None`.\n",
      "  warnings.warn(\n",
      "/home/sash/.conda/envs/drug_overdose_deaths_analysis/lib/python3.10/site-packages/sklearn/linear_model/_logistic.py:1173: FutureWarning: `penalty='none'`has been deprecated in 1.2 and will be removed in 1.4. To keep the past behaviour, set `penalty=None`.\n",
      "  warnings.warn(\n",
      "/home/sash/.conda/envs/drug_overdose_deaths_analysis/lib/python3.10/site-packages/sklearn/linear_model/_logistic.py:1173: FutureWarning: `penalty='none'`has been deprecated in 1.2 and will be removed in 1.4. To keep the past behaviour, set `penalty=None`.\n",
      "  warnings.warn(\n",
      "/home/sash/.conda/envs/drug_overdose_deaths_analysis/lib/python3.10/site-packages/sklearn/linear_model/_logistic.py:1173: FutureWarning: `penalty='none'`has been deprecated in 1.2 and will be removed in 1.4. To keep the past behaviour, set `penalty=None`.\n",
      "  warnings.warn(\n",
      "/home/sash/.conda/envs/drug_overdose_deaths_analysis/lib/python3.10/site-packages/sklearn/linear_model/_logistic.py:1173: FutureWarning: `penalty='none'`has been deprecated in 1.2 and will be removed in 1.4. To keep the past behaviour, set `penalty=None`.\n",
      "  warnings.warn(\n",
      "/home/sash/.conda/envs/drug_overdose_deaths_analysis/lib/python3.10/site-packages/sklearn/linear_model/_logistic.py:1173: FutureWarning: `penalty='none'`has been deprecated in 1.2 and will be removed in 1.4. To keep the past behaviour, set `penalty=None`.\n",
      "  warnings.warn(\n",
      "/home/sash/.conda/envs/drug_overdose_deaths_analysis/lib/python3.10/site-packages/sklearn/linear_model/_logistic.py:1173: FutureWarning: `penalty='none'`has been deprecated in 1.2 and will be removed in 1.4. To keep the past behaviour, set `penalty=None`.\n",
      "  warnings.warn(\n",
      "/home/sash/.conda/envs/drug_overdose_deaths_analysis/lib/python3.10/site-packages/sklearn/linear_model/_logistic.py:1173: FutureWarning: `penalty='none'`has been deprecated in 1.2 and will be removed in 1.4. To keep the past behaviour, set `penalty=None`.\n",
      "  warnings.warn(\n",
      "/home/sash/.conda/envs/drug_overdose_deaths_analysis/lib/python3.10/site-packages/sklearn/linear_model/_logistic.py:1173: FutureWarning: `penalty='none'`has been deprecated in 1.2 and will be removed in 1.4. To keep the past behaviour, set `penalty=None`.\n",
      "  warnings.warn(\n",
      "/home/sash/.conda/envs/drug_overdose_deaths_analysis/lib/python3.10/site-packages/sklearn/linear_model/_logistic.py:1173: FutureWarning: `penalty='none'`has been deprecated in 1.2 and will be removed in 1.4. To keep the past behaviour, set `penalty=None`.\n",
      "  warnings.warn(\n",
      "/home/sash/.conda/envs/drug_overdose_deaths_analysis/lib/python3.10/site-packages/sklearn/linear_model/_logistic.py:1173: FutureWarning: `penalty='none'`has been deprecated in 1.2 and will be removed in 1.4. To keep the past behaviour, set `penalty=None`.\n",
      "  warnings.warn(\n",
      "/home/sash/.conda/envs/drug_overdose_deaths_analysis/lib/python3.10/site-packages/sklearn/linear_model/_logistic.py:1173: FutureWarning: `penalty='none'`has been deprecated in 1.2 and will be removed in 1.4. To keep the past behaviour, set `penalty=None`.\n",
      "  warnings.warn(\n",
      "/home/sash/.conda/envs/drug_overdose_deaths_analysis/lib/python3.10/site-packages/sklearn/linear_model/_logistic.py:1173: FutureWarning: `penalty='none'`has been deprecated in 1.2 and will be removed in 1.4. To keep the past behaviour, set `penalty=None`.\n",
      "  warnings.warn(\n",
      "/home/sash/.conda/envs/drug_overdose_deaths_analysis/lib/python3.10/site-packages/sklearn/linear_model/_logistic.py:1173: FutureWarning: `penalty='none'`has been deprecated in 1.2 and will be removed in 1.4. To keep the past behaviour, set `penalty=None`.\n",
      "  warnings.warn(\n",
      "/home/sash/.conda/envs/drug_overdose_deaths_analysis/lib/python3.10/site-packages/sklearn/linear_model/_logistic.py:1173: FutureWarning: `penalty='none'`has been deprecated in 1.2 and will be removed in 1.4. To keep the past behaviour, set `penalty=None`.\n",
      "  warnings.warn(\n",
      "/home/sash/.conda/envs/drug_overdose_deaths_analysis/lib/python3.10/site-packages/sklearn/linear_model/_logistic.py:1173: FutureWarning: `penalty='none'`has been deprecated in 1.2 and will be removed in 1.4. To keep the past behaviour, set `penalty=None`.\n",
      "  warnings.warn(\n",
      "/home/sash/.conda/envs/drug_overdose_deaths_analysis/lib/python3.10/site-packages/sklearn/linear_model/_logistic.py:1173: FutureWarning: `penalty='none'`has been deprecated in 1.2 and will be removed in 1.4. To keep the past behaviour, set `penalty=None`.\n",
      "  warnings.warn(\n",
      "/home/sash/.conda/envs/drug_overdose_deaths_analysis/lib/python3.10/site-packages/sklearn/linear_model/_logistic.py:1173: FutureWarning: `penalty='none'`has been deprecated in 1.2 and will be removed in 1.4. To keep the past behaviour, set `penalty=None`.\n",
      "  warnings.warn(\n",
      "/home/sash/.conda/envs/drug_overdose_deaths_analysis/lib/python3.10/site-packages/sklearn/linear_model/_logistic.py:1173: FutureWarning: `penalty='none'`has been deprecated in 1.2 and will be removed in 1.4. To keep the past behaviour, set `penalty=None`.\n",
      "  warnings.warn(\n",
      "/home/sash/.conda/envs/drug_overdose_deaths_analysis/lib/python3.10/site-packages/sklearn/linear_model/_logistic.py:1173: FutureWarning: `penalty='none'`has been deprecated in 1.2 and will be removed in 1.4. To keep the past behaviour, set `penalty=None`.\n",
      "  warnings.warn(\n",
      "/home/sash/.conda/envs/drug_overdose_deaths_analysis/lib/python3.10/site-packages/sklearn/linear_model/_logistic.py:1173: FutureWarning: `penalty='none'`has been deprecated in 1.2 and will be removed in 1.4. To keep the past behaviour, set `penalty=None`.\n",
      "  warnings.warn(\n",
      "/home/sash/.conda/envs/drug_overdose_deaths_analysis/lib/python3.10/site-packages/sklearn/linear_model/_logistic.py:1173: FutureWarning: `penalty='none'`has been deprecated in 1.2 and will be removed in 1.4. To keep the past behaviour, set `penalty=None`.\n",
      "  warnings.warn(\n",
      "/home/sash/.conda/envs/drug_overdose_deaths_analysis/lib/python3.10/site-packages/sklearn/linear_model/_logistic.py:1173: FutureWarning: `penalty='none'`has been deprecated in 1.2 and will be removed in 1.4. To keep the past behaviour, set `penalty=None`.\n",
      "  warnings.warn(\n",
      "/home/sash/.conda/envs/drug_overdose_deaths_analysis/lib/python3.10/site-packages/sklearn/linear_model/_logistic.py:1173: FutureWarning: `penalty='none'`has been deprecated in 1.2 and will be removed in 1.4. To keep the past behaviour, set `penalty=None`.\n",
      "  warnings.warn(\n",
      "/home/sash/.conda/envs/drug_overdose_deaths_analysis/lib/python3.10/site-packages/sklearn/linear_model/_logistic.py:1173: FutureWarning: `penalty='none'`has been deprecated in 1.2 and will be removed in 1.4. To keep the past behaviour, set `penalty=None`.\n",
      "  warnings.warn(\n",
      "/home/sash/.conda/envs/drug_overdose_deaths_analysis/lib/python3.10/site-packages/sklearn/linear_model/_logistic.py:1173: FutureWarning: `penalty='none'`has been deprecated in 1.2 and will be removed in 1.4. To keep the past behaviour, set `penalty=None`.\n",
      "  warnings.warn(\n",
      "/home/sash/.conda/envs/drug_overdose_deaths_analysis/lib/python3.10/site-packages/sklearn/linear_model/_logistic.py:1173: FutureWarning: `penalty='none'`has been deprecated in 1.2 and will be removed in 1.4. To keep the past behaviour, set `penalty=None`.\n",
      "  warnings.warn(\n",
      "/home/sash/.conda/envs/drug_overdose_deaths_analysis/lib/python3.10/site-packages/sklearn/linear_model/_logistic.py:1173: FutureWarning: `penalty='none'`has been deprecated in 1.2 and will be removed in 1.4. To keep the past behaviour, set `penalty=None`.\n",
      "  warnings.warn(\n",
      "/home/sash/.conda/envs/drug_overdose_deaths_analysis/lib/python3.10/site-packages/sklearn/linear_model/_logistic.py:1173: FutureWarning: `penalty='none'`has been deprecated in 1.2 and will be removed in 1.4. To keep the past behaviour, set `penalty=None`.\n",
      "  warnings.warn(\n",
      "/home/sash/.conda/envs/drug_overdose_deaths_analysis/lib/python3.10/site-packages/sklearn/linear_model/_logistic.py:1173: FutureWarning: `penalty='none'`has been deprecated in 1.2 and will be removed in 1.4. To keep the past behaviour, set `penalty=None`.\n",
      "  warnings.warn(\n",
      "/home/sash/.conda/envs/drug_overdose_deaths_analysis/lib/python3.10/site-packages/sklearn/linear_model/_logistic.py:1173: FutureWarning: `penalty='none'`has been deprecated in 1.2 and will be removed in 1.4. To keep the past behaviour, set `penalty=None`.\n",
      "  warnings.warn(\n",
      "/home/sash/.conda/envs/drug_overdose_deaths_analysis/lib/python3.10/site-packages/sklearn/linear_model/_logistic.py:1173: FutureWarning: `penalty='none'`has been deprecated in 1.2 and will be removed in 1.4. To keep the past behaviour, set `penalty=None`.\n",
      "  warnings.warn(\n",
      "/home/sash/.conda/envs/drug_overdose_deaths_analysis/lib/python3.10/site-packages/sklearn/linear_model/_logistic.py:1173: FutureWarning: `penalty='none'`has been deprecated in 1.2 and will be removed in 1.4. To keep the past behaviour, set `penalty=None`.\n",
      "  warnings.warn(\n",
      "/home/sash/.conda/envs/drug_overdose_deaths_analysis/lib/python3.10/site-packages/sklearn/linear_model/_logistic.py:1173: FutureWarning: `penalty='none'`has been deprecated in 1.2 and will be removed in 1.4. To keep the past behaviour, set `penalty=None`.\n",
      "  warnings.warn(\n",
      "/home/sash/.conda/envs/drug_overdose_deaths_analysis/lib/python3.10/site-packages/sklearn/linear_model/_logistic.py:1173: FutureWarning: `penalty='none'`has been deprecated in 1.2 and will be removed in 1.4. To keep the past behaviour, set `penalty=None`.\n",
      "  warnings.warn(\n",
      "/home/sash/.conda/envs/drug_overdose_deaths_analysis/lib/python3.10/site-packages/sklearn/linear_model/_logistic.py:1173: FutureWarning: `penalty='none'`has been deprecated in 1.2 and will be removed in 1.4. To keep the past behaviour, set `penalty=None`.\n",
      "  warnings.warn(\n",
      "/home/sash/.conda/envs/drug_overdose_deaths_analysis/lib/python3.10/site-packages/sklearn/linear_model/_logistic.py:1173: FutureWarning: `penalty='none'`has been deprecated in 1.2 and will be removed in 1.4. To keep the past behaviour, set `penalty=None`.\n",
      "  warnings.warn(\n",
      "/home/sash/.conda/envs/drug_overdose_deaths_analysis/lib/python3.10/site-packages/sklearn/linear_model/_logistic.py:1173: FutureWarning: `penalty='none'`has been deprecated in 1.2 and will be removed in 1.4. To keep the past behaviour, set `penalty=None`.\n",
      "  warnings.warn(\n",
      "/home/sash/.conda/envs/drug_overdose_deaths_analysis/lib/python3.10/site-packages/sklearn/linear_model/_logistic.py:1173: FutureWarning: `penalty='none'`has been deprecated in 1.2 and will be removed in 1.4. To keep the past behaviour, set `penalty=None`.\n",
      "  warnings.warn(\n",
      "/home/sash/.conda/envs/drug_overdose_deaths_analysis/lib/python3.10/site-packages/sklearn/linear_model/_logistic.py:1173: FutureWarning: `penalty='none'`has been deprecated in 1.2 and will be removed in 1.4. To keep the past behaviour, set `penalty=None`.\n",
      "  warnings.warn(\n",
      "/home/sash/.conda/envs/drug_overdose_deaths_analysis/lib/python3.10/site-packages/sklearn/linear_model/_logistic.py:1173: FutureWarning: `penalty='none'`has been deprecated in 1.2 and will be removed in 1.4. To keep the past behaviour, set `penalty=None`.\n",
      "  warnings.warn(\n",
      "/home/sash/.conda/envs/drug_overdose_deaths_analysis/lib/python3.10/site-packages/sklearn/linear_model/_logistic.py:1173: FutureWarning: `penalty='none'`has been deprecated in 1.2 and will be removed in 1.4. To keep the past behaviour, set `penalty=None`.\n",
      "  warnings.warn(\n",
      "/home/sash/.conda/envs/drug_overdose_deaths_analysis/lib/python3.10/site-packages/sklearn/linear_model/_logistic.py:1173: FutureWarning: `penalty='none'`has been deprecated in 1.2 and will be removed in 1.4. To keep the past behaviour, set `penalty=None`.\n",
      "  warnings.warn(\n",
      "/home/sash/.conda/envs/drug_overdose_deaths_analysis/lib/python3.10/site-packages/sklearn/linear_model/_logistic.py:1173: FutureWarning: `penalty='none'`has been deprecated in 1.2 and will be removed in 1.4. To keep the past behaviour, set `penalty=None`.\n",
      "  warnings.warn(\n",
      "/home/sash/.conda/envs/drug_overdose_deaths_analysis/lib/python3.10/site-packages/sklearn/linear_model/_logistic.py:1173: FutureWarning: `penalty='none'`has been deprecated in 1.2 and will be removed in 1.4. To keep the past behaviour, set `penalty=None`.\n",
      "  warnings.warn(\n",
      "/home/sash/.conda/envs/drug_overdose_deaths_analysis/lib/python3.10/site-packages/sklearn/linear_model/_logistic.py:1173: FutureWarning: `penalty='none'`has been deprecated in 1.2 and will be removed in 1.4. To keep the past behaviour, set `penalty=None`.\n",
      "  warnings.warn(\n",
      "/home/sash/.conda/envs/drug_overdose_deaths_analysis/lib/python3.10/site-packages/sklearn/linear_model/_logistic.py:1173: FutureWarning: `penalty='none'`has been deprecated in 1.2 and will be removed in 1.4. To keep the past behaviour, set `penalty=None`.\n",
      "  warnings.warn(\n",
      "/home/sash/.conda/envs/drug_overdose_deaths_analysis/lib/python3.10/site-packages/sklearn/linear_model/_logistic.py:1173: FutureWarning: `penalty='none'`has been deprecated in 1.2 and will be removed in 1.4. To keep the past behaviour, set `penalty=None`.\n",
      "  warnings.warn(\n",
      "/home/sash/.conda/envs/drug_overdose_deaths_analysis/lib/python3.10/site-packages/sklearn/linear_model/_logistic.py:1173: FutureWarning: `penalty='none'`has been deprecated in 1.2 and will be removed in 1.4. To keep the past behaviour, set `penalty=None`.\n",
      "  warnings.warn(\n",
      "/home/sash/.conda/envs/drug_overdose_deaths_analysis/lib/python3.10/site-packages/sklearn/linear_model/_logistic.py:1173: FutureWarning: `penalty='none'`has been deprecated in 1.2 and will be removed in 1.4. To keep the past behaviour, set `penalty=None`.\n",
      "  warnings.warn(\n",
      "/home/sash/.conda/envs/drug_overdose_deaths_analysis/lib/python3.10/site-packages/sklearn/linear_model/_logistic.py:1173: FutureWarning: `penalty='none'`has been deprecated in 1.2 and will be removed in 1.4. To keep the past behaviour, set `penalty=None`.\n",
      "  warnings.warn(\n",
      "/home/sash/.conda/envs/drug_overdose_deaths_analysis/lib/python3.10/site-packages/sklearn/linear_model/_logistic.py:1173: FutureWarning: `penalty='none'`has been deprecated in 1.2 and will be removed in 1.4. To keep the past behaviour, set `penalty=None`.\n",
      "  warnings.warn(\n",
      "/home/sash/.conda/envs/drug_overdose_deaths_analysis/lib/python3.10/site-packages/sklearn/linear_model/_logistic.py:1173: FutureWarning: `penalty='none'`has been deprecated in 1.2 and will be removed in 1.4. To keep the past behaviour, set `penalty=None`.\n",
      "  warnings.warn(\n",
      "/home/sash/.conda/envs/drug_overdose_deaths_analysis/lib/python3.10/site-packages/sklearn/linear_model/_logistic.py:1173: FutureWarning: `penalty='none'`has been deprecated in 1.2 and will be removed in 1.4. To keep the past behaviour, set `penalty=None`.\n",
      "  warnings.warn(\n",
      "/home/sash/.conda/envs/drug_overdose_deaths_analysis/lib/python3.10/site-packages/sklearn/linear_model/_logistic.py:1173: FutureWarning: `penalty='none'`has been deprecated in 1.2 and will be removed in 1.4. To keep the past behaviour, set `penalty=None`.\n",
      "  warnings.warn(\n",
      "/home/sash/.conda/envs/drug_overdose_deaths_analysis/lib/python3.10/site-packages/sklearn/linear_model/_logistic.py:1173: FutureWarning: `penalty='none'`has been deprecated in 1.2 and will be removed in 1.4. To keep the past behaviour, set `penalty=None`.\n",
      "  warnings.warn(\n",
      "/home/sash/.conda/envs/drug_overdose_deaths_analysis/lib/python3.10/site-packages/sklearn/linear_model/_logistic.py:1173: FutureWarning: `penalty='none'`has been deprecated in 1.2 and will be removed in 1.4. To keep the past behaviour, set `penalty=None`.\n",
      "  warnings.warn(\n",
      "/home/sash/.conda/envs/drug_overdose_deaths_analysis/lib/python3.10/site-packages/sklearn/linear_model/_logistic.py:1173: FutureWarning: `penalty='none'`has been deprecated in 1.2 and will be removed in 1.4. To keep the past behaviour, set `penalty=None`.\n",
      "  warnings.warn(\n",
      "/home/sash/.conda/envs/drug_overdose_deaths_analysis/lib/python3.10/site-packages/sklearn/linear_model/_logistic.py:1173: FutureWarning: `penalty='none'`has been deprecated in 1.2 and will be removed in 1.4. To keep the past behaviour, set `penalty=None`.\n",
      "  warnings.warn(\n",
      "/home/sash/.conda/envs/drug_overdose_deaths_analysis/lib/python3.10/site-packages/sklearn/linear_model/_logistic.py:1173: FutureWarning: `penalty='none'`has been deprecated in 1.2 and will be removed in 1.4. To keep the past behaviour, set `penalty=None`.\n",
      "  warnings.warn(\n",
      "/home/sash/.conda/envs/drug_overdose_deaths_analysis/lib/python3.10/site-packages/sklearn/linear_model/_logistic.py:1173: FutureWarning: `penalty='none'`has been deprecated in 1.2 and will be removed in 1.4. To keep the past behaviour, set `penalty=None`.\n",
      "  warnings.warn(\n",
      "/home/sash/.conda/envs/drug_overdose_deaths_analysis/lib/python3.10/site-packages/sklearn/linear_model/_logistic.py:1173: FutureWarning: `penalty='none'`has been deprecated in 1.2 and will be removed in 1.4. To keep the past behaviour, set `penalty=None`.\n",
      "  warnings.warn(\n",
      "/home/sash/.conda/envs/drug_overdose_deaths_analysis/lib/python3.10/site-packages/sklearn/linear_model/_logistic.py:1173: FutureWarning: `penalty='none'`has been deprecated in 1.2 and will be removed in 1.4. To keep the past behaviour, set `penalty=None`.\n",
      "  warnings.warn(\n",
      "/home/sash/.conda/envs/drug_overdose_deaths_analysis/lib/python3.10/site-packages/sklearn/linear_model/_logistic.py:1173: FutureWarning: `penalty='none'`has been deprecated in 1.2 and will be removed in 1.4. To keep the past behaviour, set `penalty=None`.\n",
      "  warnings.warn(\n",
      "/home/sash/.conda/envs/drug_overdose_deaths_analysis/lib/python3.10/site-packages/sklearn/linear_model/_logistic.py:1173: FutureWarning: `penalty='none'`has been deprecated in 1.2 and will be removed in 1.4. To keep the past behaviour, set `penalty=None`.\n",
      "  warnings.warn(\n",
      "/home/sash/.conda/envs/drug_overdose_deaths_analysis/lib/python3.10/site-packages/sklearn/linear_model/_logistic.py:1173: FutureWarning: `penalty='none'`has been deprecated in 1.2 and will be removed in 1.4. To keep the past behaviour, set `penalty=None`.\n",
      "  warnings.warn(\n",
      "/home/sash/.conda/envs/drug_overdose_deaths_analysis/lib/python3.10/site-packages/sklearn/linear_model/_logistic.py:1173: FutureWarning: `penalty='none'`has been deprecated in 1.2 and will be removed in 1.4. To keep the past behaviour, set `penalty=None`.\n",
      "  warnings.warn(\n",
      "/home/sash/.conda/envs/drug_overdose_deaths_analysis/lib/python3.10/site-packages/sklearn/linear_model/_logistic.py:1173: FutureWarning: `penalty='none'`has been deprecated in 1.2 and will be removed in 1.4. To keep the past behaviour, set `penalty=None`.\n",
      "  warnings.warn(\n",
      "/home/sash/.conda/envs/drug_overdose_deaths_analysis/lib/python3.10/site-packages/sklearn/linear_model/_logistic.py:1173: FutureWarning: `penalty='none'`has been deprecated in 1.2 and will be removed in 1.4. To keep the past behaviour, set `penalty=None`.\n",
      "  warnings.warn(\n",
      "/home/sash/.conda/envs/drug_overdose_deaths_analysis/lib/python3.10/site-packages/sklearn/linear_model/_logistic.py:1173: FutureWarning: `penalty='none'`has been deprecated in 1.2 and will be removed in 1.4. To keep the past behaviour, set `penalty=None`.\n",
      "  warnings.warn(\n",
      "/home/sash/.conda/envs/drug_overdose_deaths_analysis/lib/python3.10/site-packages/sklearn/linear_model/_logistic.py:1173: FutureWarning: `penalty='none'`has been deprecated in 1.2 and will be removed in 1.4. To keep the past behaviour, set `penalty=None`.\n",
      "  warnings.warn(\n",
      "/home/sash/.conda/envs/drug_overdose_deaths_analysis/lib/python3.10/site-packages/sklearn/linear_model/_logistic.py:1173: FutureWarning: `penalty='none'`has been deprecated in 1.2 and will be removed in 1.4. To keep the past behaviour, set `penalty=None`.\n",
      "  warnings.warn(\n",
      "/home/sash/.conda/envs/drug_overdose_deaths_analysis/lib/python3.10/site-packages/sklearn/linear_model/_logistic.py:1173: FutureWarning: `penalty='none'`has been deprecated in 1.2 and will be removed in 1.4. To keep the past behaviour, set `penalty=None`.\n",
      "  warnings.warn(\n",
      "/home/sash/.conda/envs/drug_overdose_deaths_analysis/lib/python3.10/site-packages/sklearn/linear_model/_logistic.py:1173: FutureWarning: `penalty='none'`has been deprecated in 1.2 and will be removed in 1.4. To keep the past behaviour, set `penalty=None`.\n",
      "  warnings.warn(\n",
      "/home/sash/.conda/envs/drug_overdose_deaths_analysis/lib/python3.10/site-packages/sklearn/linear_model/_logistic.py:1173: FutureWarning: `penalty='none'`has been deprecated in 1.2 and will be removed in 1.4. To keep the past behaviour, set `penalty=None`.\n",
      "  warnings.warn(\n",
      "/home/sash/.conda/envs/drug_overdose_deaths_analysis/lib/python3.10/site-packages/sklearn/linear_model/_logistic.py:1173: FutureWarning: `penalty='none'`has been deprecated in 1.2 and will be removed in 1.4. To keep the past behaviour, set `penalty=None`.\n",
      "  warnings.warn(\n",
      "/home/sash/.conda/envs/drug_overdose_deaths_analysis/lib/python3.10/site-packages/sklearn/linear_model/_logistic.py:1173: FutureWarning: `penalty='none'`has been deprecated in 1.2 and will be removed in 1.4. To keep the past behaviour, set `penalty=None`.\n",
      "  warnings.warn(\n",
      "/home/sash/.conda/envs/drug_overdose_deaths_analysis/lib/python3.10/site-packages/sklearn/linear_model/_logistic.py:1173: FutureWarning: `penalty='none'`has been deprecated in 1.2 and will be removed in 1.4. To keep the past behaviour, set `penalty=None`.\n",
      "  warnings.warn(\n",
      "/home/sash/.conda/envs/drug_overdose_deaths_analysis/lib/python3.10/site-packages/sklearn/linear_model/_logistic.py:1173: FutureWarning: `penalty='none'`has been deprecated in 1.2 and will be removed in 1.4. To keep the past behaviour, set `penalty=None`.\n",
      "  warnings.warn(\n",
      "/home/sash/.conda/envs/drug_overdose_deaths_analysis/lib/python3.10/site-packages/sklearn/linear_model/_logistic.py:1173: FutureWarning: `penalty='none'`has been deprecated in 1.2 and will be removed in 1.4. To keep the past behaviour, set `penalty=None`.\n",
      "  warnings.warn(\n",
      "/home/sash/.conda/envs/drug_overdose_deaths_analysis/lib/python3.10/site-packages/sklearn/linear_model/_logistic.py:1173: FutureWarning: `penalty='none'`has been deprecated in 1.2 and will be removed in 1.4. To keep the past behaviour, set `penalty=None`.\n",
      "  warnings.warn(\n",
      "/home/sash/.conda/envs/drug_overdose_deaths_analysis/lib/python3.10/site-packages/sklearn/linear_model/_logistic.py:1173: FutureWarning: `penalty='none'`has been deprecated in 1.2 and will be removed in 1.4. To keep the past behaviour, set `penalty=None`.\n",
      "  warnings.warn(\n",
      "/home/sash/.conda/envs/drug_overdose_deaths_analysis/lib/python3.10/site-packages/sklearn/linear_model/_logistic.py:1173: FutureWarning: `penalty='none'`has been deprecated in 1.2 and will be removed in 1.4. To keep the past behaviour, set `penalty=None`.\n",
      "  warnings.warn(\n",
      "/home/sash/.conda/envs/drug_overdose_deaths_analysis/lib/python3.10/site-packages/sklearn/linear_model/_logistic.py:1173: FutureWarning: `penalty='none'`has been deprecated in 1.2 and will be removed in 1.4. To keep the past behaviour, set `penalty=None`.\n",
      "  warnings.warn(\n",
      "/home/sash/.conda/envs/drug_overdose_deaths_analysis/lib/python3.10/site-packages/sklearn/linear_model/_logistic.py:1173: FutureWarning: `penalty='none'`has been deprecated in 1.2 and will be removed in 1.4. To keep the past behaviour, set `penalty=None`.\n",
      "  warnings.warn(\n",
      "/home/sash/.conda/envs/drug_overdose_deaths_analysis/lib/python3.10/site-packages/sklearn/linear_model/_logistic.py:1173: FutureWarning: `penalty='none'`has been deprecated in 1.2 and will be removed in 1.4. To keep the past behaviour, set `penalty=None`.\n",
      "  warnings.warn(\n",
      "/home/sash/.conda/envs/drug_overdose_deaths_analysis/lib/python3.10/site-packages/sklearn/linear_model/_logistic.py:1173: FutureWarning: `penalty='none'`has been deprecated in 1.2 and will be removed in 1.4. To keep the past behaviour, set `penalty=None`.\n",
      "  warnings.warn(\n",
      "/home/sash/.conda/envs/drug_overdose_deaths_analysis/lib/python3.10/site-packages/sklearn/linear_model/_logistic.py:1173: FutureWarning: `penalty='none'`has been deprecated in 1.2 and will be removed in 1.4. To keep the past behaviour, set `penalty=None`.\n",
      "  warnings.warn(\n",
      "/home/sash/.conda/envs/drug_overdose_deaths_analysis/lib/python3.10/site-packages/sklearn/linear_model/_logistic.py:1173: FutureWarning: `penalty='none'`has been deprecated in 1.2 and will be removed in 1.4. To keep the past behaviour, set `penalty=None`.\n",
      "  warnings.warn(\n",
      "/home/sash/.conda/envs/drug_overdose_deaths_analysis/lib/python3.10/site-packages/sklearn/linear_model/_logistic.py:1173: FutureWarning: `penalty='none'`has been deprecated in 1.2 and will be removed in 1.4. To keep the past behaviour, set `penalty=None`.\n",
      "  warnings.warn(\n",
      "/home/sash/.conda/envs/drug_overdose_deaths_analysis/lib/python3.10/site-packages/sklearn/linear_model/_logistic.py:1173: FutureWarning: `penalty='none'`has been deprecated in 1.2 and will be removed in 1.4. To keep the past behaviour, set `penalty=None`.\n",
      "  warnings.warn(\n",
      "/home/sash/.conda/envs/drug_overdose_deaths_analysis/lib/python3.10/site-packages/sklearn/linear_model/_logistic.py:1173: FutureWarning: `penalty='none'`has been deprecated in 1.2 and will be removed in 1.4. To keep the past behaviour, set `penalty=None`.\n",
      "  warnings.warn(\n",
      "/home/sash/.conda/envs/drug_overdose_deaths_analysis/lib/python3.10/site-packages/sklearn/linear_model/_logistic.py:1173: FutureWarning: `penalty='none'`has been deprecated in 1.2 and will be removed in 1.4. To keep the past behaviour, set `penalty=None`.\n",
      "  warnings.warn(\n",
      "/home/sash/.conda/envs/drug_overdose_deaths_analysis/lib/python3.10/site-packages/sklearn/linear_model/_logistic.py:1173: FutureWarning: `penalty='none'`has been deprecated in 1.2 and will be removed in 1.4. To keep the past behaviour, set `penalty=None`.\n",
      "  warnings.warn(\n",
      "/home/sash/.conda/envs/drug_overdose_deaths_analysis/lib/python3.10/site-packages/sklearn/linear_model/_logistic.py:1173: FutureWarning: `penalty='none'`has been deprecated in 1.2 and will be removed in 1.4. To keep the past behaviour, set `penalty=None`.\n",
      "  warnings.warn(\n",
      "/home/sash/.conda/envs/drug_overdose_deaths_analysis/lib/python3.10/site-packages/sklearn/linear_model/_logistic.py:1173: FutureWarning: `penalty='none'`has been deprecated in 1.2 and will be removed in 1.4. To keep the past behaviour, set `penalty=None`.\n",
      "  warnings.warn(\n",
      "/home/sash/.conda/envs/drug_overdose_deaths_analysis/lib/python3.10/site-packages/sklearn/linear_model/_logistic.py:1173: FutureWarning: `penalty='none'`has been deprecated in 1.2 and will be removed in 1.4. To keep the past behaviour, set `penalty=None`.\n",
      "  warnings.warn(\n",
      "/home/sash/.conda/envs/drug_overdose_deaths_analysis/lib/python3.10/site-packages/sklearn/linear_model/_logistic.py:1173: FutureWarning: `penalty='none'`has been deprecated in 1.2 and will be removed in 1.4. To keep the past behaviour, set `penalty=None`.\n",
      "  warnings.warn(\n",
      "/home/sash/.conda/envs/drug_overdose_deaths_analysis/lib/python3.10/site-packages/sklearn/linear_model/_logistic.py:1173: FutureWarning: `penalty='none'`has been deprecated in 1.2 and will be removed in 1.4. To keep the past behaviour, set `penalty=None`.\n",
      "  warnings.warn(\n",
      "/home/sash/.conda/envs/drug_overdose_deaths_analysis/lib/python3.10/site-packages/sklearn/linear_model/_logistic.py:1173: FutureWarning: `penalty='none'`has been deprecated in 1.2 and will be removed in 1.4. To keep the past behaviour, set `penalty=None`.\n",
      "  warnings.warn(\n",
      "/home/sash/.conda/envs/drug_overdose_deaths_analysis/lib/python3.10/site-packages/sklearn/linear_model/_logistic.py:1173: FutureWarning: `penalty='none'`has been deprecated in 1.2 and will be removed in 1.4. To keep the past behaviour, set `penalty=None`.\n",
      "  warnings.warn(\n",
      "/home/sash/.conda/envs/drug_overdose_deaths_analysis/lib/python3.10/site-packages/sklearn/linear_model/_logistic.py:1173: FutureWarning: `penalty='none'`has been deprecated in 1.2 and will be removed in 1.4. To keep the past behaviour, set `penalty=None`.\n",
      "  warnings.warn(\n",
      "/home/sash/.conda/envs/drug_overdose_deaths_analysis/lib/python3.10/site-packages/sklearn/linear_model/_logistic.py:1173: FutureWarning: `penalty='none'`has been deprecated in 1.2 and will be removed in 1.4. To keep the past behaviour, set `penalty=None`.\n",
      "  warnings.warn(\n",
      "/home/sash/.conda/envs/drug_overdose_deaths_analysis/lib/python3.10/site-packages/sklearn/linear_model/_logistic.py:1173: FutureWarning: `penalty='none'`has been deprecated in 1.2 and will be removed in 1.4. To keep the past behaviour, set `penalty=None`.\n",
      "  warnings.warn(\n",
      "/home/sash/.conda/envs/drug_overdose_deaths_analysis/lib/python3.10/site-packages/sklearn/linear_model/_logistic.py:1173: FutureWarning: `penalty='none'`has been deprecated in 1.2 and will be removed in 1.4. To keep the past behaviour, set `penalty=None`.\n",
      "  warnings.warn(\n",
      "/home/sash/.conda/envs/drug_overdose_deaths_analysis/lib/python3.10/site-packages/sklearn/linear_model/_logistic.py:1173: FutureWarning: `penalty='none'`has been deprecated in 1.2 and will be removed in 1.4. To keep the past behaviour, set `penalty=None`.\n",
      "  warnings.warn(\n",
      "/home/sash/.conda/envs/drug_overdose_deaths_analysis/lib/python3.10/site-packages/sklearn/linear_model/_logistic.py:1173: FutureWarning: `penalty='none'`has been deprecated in 1.2 and will be removed in 1.4. To keep the past behaviour, set `penalty=None`.\n",
      "  warnings.warn(\n",
      "/home/sash/.conda/envs/drug_overdose_deaths_analysis/lib/python3.10/site-packages/sklearn/linear_model/_logistic.py:1173: FutureWarning: `penalty='none'`has been deprecated in 1.2 and will be removed in 1.4. To keep the past behaviour, set `penalty=None`.\n",
      "  warnings.warn(\n",
      "/home/sash/.conda/envs/drug_overdose_deaths_analysis/lib/python3.10/site-packages/sklearn/linear_model/_logistic.py:1173: FutureWarning: `penalty='none'`has been deprecated in 1.2 and will be removed in 1.4. To keep the past behaviour, set `penalty=None`.\n",
      "  warnings.warn(\n",
      "/home/sash/.conda/envs/drug_overdose_deaths_analysis/lib/python3.10/site-packages/sklearn/linear_model/_logistic.py:1173: FutureWarning: `penalty='none'`has been deprecated in 1.2 and will be removed in 1.4. To keep the past behaviour, set `penalty=None`.\n",
      "  warnings.warn(\n",
      "/home/sash/.conda/envs/drug_overdose_deaths_analysis/lib/python3.10/site-packages/sklearn/linear_model/_logistic.py:1173: FutureWarning: `penalty='none'`has been deprecated in 1.2 and will be removed in 1.4. To keep the past behaviour, set `penalty=None`.\n",
      "  warnings.warn(\n",
      "/home/sash/.conda/envs/drug_overdose_deaths_analysis/lib/python3.10/site-packages/sklearn/linear_model/_logistic.py:1173: FutureWarning: `penalty='none'`has been deprecated in 1.2 and will be removed in 1.4. To keep the past behaviour, set `penalty=None`.\n",
      "  warnings.warn(\n",
      "/home/sash/.conda/envs/drug_overdose_deaths_analysis/lib/python3.10/site-packages/sklearn/linear_model/_logistic.py:1173: FutureWarning: `penalty='none'`has been deprecated in 1.2 and will be removed in 1.4. To keep the past behaviour, set `penalty=None`.\n",
      "  warnings.warn(\n",
      "/home/sash/.conda/envs/drug_overdose_deaths_analysis/lib/python3.10/site-packages/sklearn/linear_model/_logistic.py:1173: FutureWarning: `penalty='none'`has been deprecated in 1.2 and will be removed in 1.4. To keep the past behaviour, set `penalty=None`.\n",
      "  warnings.warn(\n",
      "/home/sash/.conda/envs/drug_overdose_deaths_analysis/lib/python3.10/site-packages/sklearn/linear_model/_logistic.py:1173: FutureWarning: `penalty='none'`has been deprecated in 1.2 and will be removed in 1.4. To keep the past behaviour, set `penalty=None`.\n",
      "  warnings.warn(\n",
      "/home/sash/.conda/envs/drug_overdose_deaths_analysis/lib/python3.10/site-packages/sklearn/linear_model/_logistic.py:1173: FutureWarning: `penalty='none'`has been deprecated in 1.2 and will be removed in 1.4. To keep the past behaviour, set `penalty=None`.\n",
      "  warnings.warn(\n",
      "/home/sash/.conda/envs/drug_overdose_deaths_analysis/lib/python3.10/site-packages/sklearn/linear_model/_logistic.py:1173: FutureWarning: `penalty='none'`has been deprecated in 1.2 and will be removed in 1.4. To keep the past behaviour, set `penalty=None`.\n",
      "  warnings.warn(\n",
      "/home/sash/.conda/envs/drug_overdose_deaths_analysis/lib/python3.10/site-packages/sklearn/linear_model/_logistic.py:1173: FutureWarning: `penalty='none'`has been deprecated in 1.2 and will be removed in 1.4. To keep the past behaviour, set `penalty=None`.\n",
      "  warnings.warn(\n",
      "/home/sash/.conda/envs/drug_overdose_deaths_analysis/lib/python3.10/site-packages/sklearn/linear_model/_logistic.py:1173: FutureWarning: `penalty='none'`has been deprecated in 1.2 and will be removed in 1.4. To keep the past behaviour, set `penalty=None`.\n",
      "  warnings.warn(\n",
      "/home/sash/.conda/envs/drug_overdose_deaths_analysis/lib/python3.10/site-packages/sklearn/linear_model/_logistic.py:1173: FutureWarning: `penalty='none'`has been deprecated in 1.2 and will be removed in 1.4. To keep the past behaviour, set `penalty=None`.\n",
      "  warnings.warn(\n",
      "/home/sash/.conda/envs/drug_overdose_deaths_analysis/lib/python3.10/site-packages/sklearn/linear_model/_logistic.py:1173: FutureWarning: `penalty='none'`has been deprecated in 1.2 and will be removed in 1.4. To keep the past behaviour, set `penalty=None`.\n",
      "  warnings.warn(\n",
      "/home/sash/.conda/envs/drug_overdose_deaths_analysis/lib/python3.10/site-packages/sklearn/linear_model/_logistic.py:1173: FutureWarning: `penalty='none'`has been deprecated in 1.2 and will be removed in 1.4. To keep the past behaviour, set `penalty=None`.\n",
      "  warnings.warn(\n",
      "/home/sash/.conda/envs/drug_overdose_deaths_analysis/lib/python3.10/site-packages/sklearn/linear_model/_logistic.py:1173: FutureWarning: `penalty='none'`has been deprecated in 1.2 and will be removed in 1.4. To keep the past behaviour, set `penalty=None`.\n",
      "  warnings.warn(\n",
      "/home/sash/.conda/envs/drug_overdose_deaths_analysis/lib/python3.10/site-packages/sklearn/linear_model/_logistic.py:1173: FutureWarning: `penalty='none'`has been deprecated in 1.2 and will be removed in 1.4. To keep the past behaviour, set `penalty=None`.\n",
      "  warnings.warn(\n",
      "/home/sash/.conda/envs/drug_overdose_deaths_analysis/lib/python3.10/site-packages/sklearn/linear_model/_logistic.py:1173: FutureWarning: `penalty='none'`has been deprecated in 1.2 and will be removed in 1.4. To keep the past behaviour, set `penalty=None`.\n",
      "  warnings.warn(\n",
      "/home/sash/.conda/envs/drug_overdose_deaths_analysis/lib/python3.10/site-packages/sklearn/linear_model/_logistic.py:1173: FutureWarning: `penalty='none'`has been deprecated in 1.2 and will be removed in 1.4. To keep the past behaviour, set `penalty=None`.\n",
      "  warnings.warn(\n",
      "/home/sash/.conda/envs/drug_overdose_deaths_analysis/lib/python3.10/site-packages/sklearn/linear_model/_logistic.py:1173: FutureWarning: `penalty='none'`has been deprecated in 1.2 and will be removed in 1.4. To keep the past behaviour, set `penalty=None`.\n",
      "  warnings.warn(\n",
      "/home/sash/.conda/envs/drug_overdose_deaths_analysis/lib/python3.10/site-packages/sklearn/linear_model/_logistic.py:1173: FutureWarning: `penalty='none'`has been deprecated in 1.2 and will be removed in 1.4. To keep the past behaviour, set `penalty=None`.\n",
      "  warnings.warn(\n",
      "/home/sash/.conda/envs/drug_overdose_deaths_analysis/lib/python3.10/site-packages/sklearn/linear_model/_logistic.py:1173: FutureWarning: `penalty='none'`has been deprecated in 1.2 and will be removed in 1.4. To keep the past behaviour, set `penalty=None`.\n",
      "  warnings.warn(\n",
      "/home/sash/.conda/envs/drug_overdose_deaths_analysis/lib/python3.10/site-packages/sklearn/linear_model/_logistic.py:1173: FutureWarning: `penalty='none'`has been deprecated in 1.2 and will be removed in 1.4. To keep the past behaviour, set `penalty=None`.\n",
      "  warnings.warn(\n",
      "/home/sash/.conda/envs/drug_overdose_deaths_analysis/lib/python3.10/site-packages/sklearn/linear_model/_logistic.py:1173: FutureWarning: `penalty='none'`has been deprecated in 1.2 and will be removed in 1.4. To keep the past behaviour, set `penalty=None`.\n",
      "  warnings.warn(\n",
      "/home/sash/.conda/envs/drug_overdose_deaths_analysis/lib/python3.10/site-packages/sklearn/linear_model/_logistic.py:1173: FutureWarning: `penalty='none'`has been deprecated in 1.2 and will be removed in 1.4. To keep the past behaviour, set `penalty=None`.\n",
      "  warnings.warn(\n",
      "/home/sash/.conda/envs/drug_overdose_deaths_analysis/lib/python3.10/site-packages/sklearn/linear_model/_logistic.py:1173: FutureWarning: `penalty='none'`has been deprecated in 1.2 and will be removed in 1.4. To keep the past behaviour, set `penalty=None`.\n",
      "  warnings.warn(\n",
      "/home/sash/.conda/envs/drug_overdose_deaths_analysis/lib/python3.10/site-packages/sklearn/linear_model/_logistic.py:1173: FutureWarning: `penalty='none'`has been deprecated in 1.2 and will be removed in 1.4. To keep the past behaviour, set `penalty=None`.\n",
      "  warnings.warn(\n",
      "/home/sash/.conda/envs/drug_overdose_deaths_analysis/lib/python3.10/site-packages/sklearn/linear_model/_logistic.py:1173: FutureWarning: `penalty='none'`has been deprecated in 1.2 and will be removed in 1.4. To keep the past behaviour, set `penalty=None`.\n",
      "  warnings.warn(\n",
      "/home/sash/.conda/envs/drug_overdose_deaths_analysis/lib/python3.10/site-packages/sklearn/linear_model/_logistic.py:1173: FutureWarning: `penalty='none'`has been deprecated in 1.2 and will be removed in 1.4. To keep the past behaviour, set `penalty=None`.\n",
      "  warnings.warn(\n",
      "/home/sash/.conda/envs/drug_overdose_deaths_analysis/lib/python3.10/site-packages/sklearn/linear_model/_logistic.py:1173: FutureWarning: `penalty='none'`has been deprecated in 1.2 and will be removed in 1.4. To keep the past behaviour, set `penalty=None`.\n",
      "  warnings.warn(\n",
      "/home/sash/.conda/envs/drug_overdose_deaths_analysis/lib/python3.10/site-packages/sklearn/linear_model/_logistic.py:1173: FutureWarning: `penalty='none'`has been deprecated in 1.2 and will be removed in 1.4. To keep the past behaviour, set `penalty=None`.\n",
      "  warnings.warn(\n",
      "/home/sash/.conda/envs/drug_overdose_deaths_analysis/lib/python3.10/site-packages/sklearn/linear_model/_logistic.py:1173: FutureWarning: `penalty='none'`has been deprecated in 1.2 and will be removed in 1.4. To keep the past behaviour, set `penalty=None`.\n",
      "  warnings.warn(\n",
      "/home/sash/.conda/envs/drug_overdose_deaths_analysis/lib/python3.10/site-packages/sklearn/linear_model/_logistic.py:1173: FutureWarning: `penalty='none'`has been deprecated in 1.2 and will be removed in 1.4. To keep the past behaviour, set `penalty=None`.\n",
      "  warnings.warn(\n",
      "/home/sash/.conda/envs/drug_overdose_deaths_analysis/lib/python3.10/site-packages/sklearn/linear_model/_logistic.py:1173: FutureWarning: `penalty='none'`has been deprecated in 1.2 and will be removed in 1.4. To keep the past behaviour, set `penalty=None`.\n",
      "  warnings.warn(\n",
      "/home/sash/.conda/envs/drug_overdose_deaths_analysis/lib/python3.10/site-packages/sklearn/linear_model/_logistic.py:1173: FutureWarning: `penalty='none'`has been deprecated in 1.2 and will be removed in 1.4. To keep the past behaviour, set `penalty=None`.\n",
      "  warnings.warn(\n",
      "/home/sash/.conda/envs/drug_overdose_deaths_analysis/lib/python3.10/site-packages/sklearn/linear_model/_logistic.py:1173: FutureWarning: `penalty='none'`has been deprecated in 1.2 and will be removed in 1.4. To keep the past behaviour, set `penalty=None`.\n",
      "  warnings.warn(\n",
      "/home/sash/.conda/envs/drug_overdose_deaths_analysis/lib/python3.10/site-packages/sklearn/linear_model/_logistic.py:1173: FutureWarning: `penalty='none'`has been deprecated in 1.2 and will be removed in 1.4. To keep the past behaviour, set `penalty=None`.\n",
      "  warnings.warn(\n",
      "/home/sash/.conda/envs/drug_overdose_deaths_analysis/lib/python3.10/site-packages/sklearn/linear_model/_logistic.py:1173: FutureWarning: `penalty='none'`has been deprecated in 1.2 and will be removed in 1.4. To keep the past behaviour, set `penalty=None`.\n",
      "  warnings.warn(\n",
      "/home/sash/.conda/envs/drug_overdose_deaths_analysis/lib/python3.10/site-packages/sklearn/linear_model/_logistic.py:1173: FutureWarning: `penalty='none'`has been deprecated in 1.2 and will be removed in 1.4. To keep the past behaviour, set `penalty=None`.\n",
      "  warnings.warn(\n",
      "/home/sash/.conda/envs/drug_overdose_deaths_analysis/lib/python3.10/site-packages/sklearn/linear_model/_logistic.py:1173: FutureWarning: `penalty='none'`has been deprecated in 1.2 and will be removed in 1.4. To keep the past behaviour, set `penalty=None`.\n",
      "  warnings.warn(\n",
      "/home/sash/.conda/envs/drug_overdose_deaths_analysis/lib/python3.10/site-packages/sklearn/linear_model/_logistic.py:1173: FutureWarning: `penalty='none'`has been deprecated in 1.2 and will be removed in 1.4. To keep the past behaviour, set `penalty=None`.\n",
      "  warnings.warn(\n",
      "/home/sash/.conda/envs/drug_overdose_deaths_analysis/lib/python3.10/site-packages/sklearn/linear_model/_logistic.py:1173: FutureWarning: `penalty='none'`has been deprecated in 1.2 and will be removed in 1.4. To keep the past behaviour, set `penalty=None`.\n",
      "  warnings.warn(\n",
      "/home/sash/.conda/envs/drug_overdose_deaths_analysis/lib/python3.10/site-packages/sklearn/linear_model/_logistic.py:1173: FutureWarning: `penalty='none'`has been deprecated in 1.2 and will be removed in 1.4. To keep the past behaviour, set `penalty=None`.\n",
      "  warnings.warn(\n",
      "/home/sash/.conda/envs/drug_overdose_deaths_analysis/lib/python3.10/site-packages/sklearn/linear_model/_logistic.py:1173: FutureWarning: `penalty='none'`has been deprecated in 1.2 and will be removed in 1.4. To keep the past behaviour, set `penalty=None`.\n",
      "  warnings.warn(\n",
      "/home/sash/.conda/envs/drug_overdose_deaths_analysis/lib/python3.10/site-packages/sklearn/linear_model/_logistic.py:1173: FutureWarning: `penalty='none'`has been deprecated in 1.2 and will be removed in 1.4. To keep the past behaviour, set `penalty=None`.\n",
      "  warnings.warn(\n",
      "/home/sash/.conda/envs/drug_overdose_deaths_analysis/lib/python3.10/site-packages/sklearn/linear_model/_logistic.py:1173: FutureWarning: `penalty='none'`has been deprecated in 1.2 and will be removed in 1.4. To keep the past behaviour, set `penalty=None`.\n",
      "  warnings.warn(\n",
      "/home/sash/.conda/envs/drug_overdose_deaths_analysis/lib/python3.10/site-packages/sklearn/linear_model/_logistic.py:1173: FutureWarning: `penalty='none'`has been deprecated in 1.2 and will be removed in 1.4. To keep the past behaviour, set `penalty=None`.\n",
      "  warnings.warn(\n",
      "/home/sash/.conda/envs/drug_overdose_deaths_analysis/lib/python3.10/site-packages/sklearn/linear_model/_logistic.py:1173: FutureWarning: `penalty='none'`has been deprecated in 1.2 and will be removed in 1.4. To keep the past behaviour, set `penalty=None`.\n",
      "  warnings.warn(\n",
      "/home/sash/.conda/envs/drug_overdose_deaths_analysis/lib/python3.10/site-packages/sklearn/linear_model/_logistic.py:1173: FutureWarning: `penalty='none'`has been deprecated in 1.2 and will be removed in 1.4. To keep the past behaviour, set `penalty=None`.\n",
      "  warnings.warn(\n",
      "/home/sash/.conda/envs/drug_overdose_deaths_analysis/lib/python3.10/site-packages/sklearn/linear_model/_logistic.py:1173: FutureWarning: `penalty='none'`has been deprecated in 1.2 and will be removed in 1.4. To keep the past behaviour, set `penalty=None`.\n",
      "  warnings.warn(\n",
      "/home/sash/.conda/envs/drug_overdose_deaths_analysis/lib/python3.10/site-packages/sklearn/linear_model/_logistic.py:1173: FutureWarning: `penalty='none'`has been deprecated in 1.2 and will be removed in 1.4. To keep the past behaviour, set `penalty=None`.\n",
      "  warnings.warn(\n",
      "/home/sash/.conda/envs/drug_overdose_deaths_analysis/lib/python3.10/site-packages/sklearn/linear_model/_logistic.py:1173: FutureWarning: `penalty='none'`has been deprecated in 1.2 and will be removed in 1.4. To keep the past behaviour, set `penalty=None`.\n",
      "  warnings.warn(\n",
      "/home/sash/.conda/envs/drug_overdose_deaths_analysis/lib/python3.10/site-packages/sklearn/linear_model/_logistic.py:1173: FutureWarning: `penalty='none'`has been deprecated in 1.2 and will be removed in 1.4. To keep the past behaviour, set `penalty=None`.\n",
      "  warnings.warn(\n",
      "/home/sash/.conda/envs/drug_overdose_deaths_analysis/lib/python3.10/site-packages/sklearn/linear_model/_logistic.py:1173: FutureWarning: `penalty='none'`has been deprecated in 1.2 and will be removed in 1.4. To keep the past behaviour, set `penalty=None`.\n",
      "  warnings.warn(\n",
      "/home/sash/.conda/envs/drug_overdose_deaths_analysis/lib/python3.10/site-packages/sklearn/linear_model/_logistic.py:1173: FutureWarning: `penalty='none'`has been deprecated in 1.2 and will be removed in 1.4. To keep the past behaviour, set `penalty=None`.\n",
      "  warnings.warn(\n",
      "/home/sash/.conda/envs/drug_overdose_deaths_analysis/lib/python3.10/site-packages/sklearn/linear_model/_logistic.py:1173: FutureWarning: `penalty='none'`has been deprecated in 1.2 and will be removed in 1.4. To keep the past behaviour, set `penalty=None`.\n",
      "  warnings.warn(\n",
      "/home/sash/.conda/envs/drug_overdose_deaths_analysis/lib/python3.10/site-packages/sklearn/linear_model/_logistic.py:1173: FutureWarning: `penalty='none'`has been deprecated in 1.2 and will be removed in 1.4. To keep the past behaviour, set `penalty=None`.\n",
      "  warnings.warn(\n",
      "/home/sash/.conda/envs/drug_overdose_deaths_analysis/lib/python3.10/site-packages/sklearn/linear_model/_logistic.py:1173: FutureWarning: `penalty='none'`has been deprecated in 1.2 and will be removed in 1.4. To keep the past behaviour, set `penalty=None`.\n",
      "  warnings.warn(\n",
      "/home/sash/.conda/envs/drug_overdose_deaths_analysis/lib/python3.10/site-packages/sklearn/linear_model/_logistic.py:1173: FutureWarning: `penalty='none'`has been deprecated in 1.2 and will be removed in 1.4. To keep the past behaviour, set `penalty=None`.\n",
      "  warnings.warn(\n",
      "/home/sash/.conda/envs/drug_overdose_deaths_analysis/lib/python3.10/site-packages/sklearn/linear_model/_logistic.py:1173: FutureWarning: `penalty='none'`has been deprecated in 1.2 and will be removed in 1.4. To keep the past behaviour, set `penalty=None`.\n",
      "  warnings.warn(\n",
      "/home/sash/.conda/envs/drug_overdose_deaths_analysis/lib/python3.10/site-packages/sklearn/linear_model/_logistic.py:1173: FutureWarning: `penalty='none'`has been deprecated in 1.2 and will be removed in 1.4. To keep the past behaviour, set `penalty=None`.\n",
      "  warnings.warn(\n",
      "/home/sash/.conda/envs/drug_overdose_deaths_analysis/lib/python3.10/site-packages/sklearn/linear_model/_logistic.py:1173: FutureWarning: `penalty='none'`has been deprecated in 1.2 and will be removed in 1.4. To keep the past behaviour, set `penalty=None`.\n",
      "  warnings.warn(\n",
      "/home/sash/.conda/envs/drug_overdose_deaths_analysis/lib/python3.10/site-packages/sklearn/linear_model/_logistic.py:1173: FutureWarning: `penalty='none'`has been deprecated in 1.2 and will be removed in 1.4. To keep the past behaviour, set `penalty=None`.\n",
      "  warnings.warn(\n",
      "/home/sash/.conda/envs/drug_overdose_deaths_analysis/lib/python3.10/site-packages/sklearn/linear_model/_logistic.py:1173: FutureWarning: `penalty='none'`has been deprecated in 1.2 and will be removed in 1.4. To keep the past behaviour, set `penalty=None`.\n",
      "  warnings.warn(\n",
      "/home/sash/.conda/envs/drug_overdose_deaths_analysis/lib/python3.10/site-packages/sklearn/linear_model/_logistic.py:1173: FutureWarning: `penalty='none'`has been deprecated in 1.2 and will be removed in 1.4. To keep the past behaviour, set `penalty=None`.\n",
      "  warnings.warn(\n",
      "/home/sash/.conda/envs/drug_overdose_deaths_analysis/lib/python3.10/site-packages/sklearn/linear_model/_logistic.py:1173: FutureWarning: `penalty='none'`has been deprecated in 1.2 and will be removed in 1.4. To keep the past behaviour, set `penalty=None`.\n",
      "  warnings.warn(\n",
      "/home/sash/.conda/envs/drug_overdose_deaths_analysis/lib/python3.10/site-packages/sklearn/linear_model/_logistic.py:1173: FutureWarning: `penalty='none'`has been deprecated in 1.2 and will be removed in 1.4. To keep the past behaviour, set `penalty=None`.\n",
      "  warnings.warn(\n",
      "/home/sash/.conda/envs/drug_overdose_deaths_analysis/lib/python3.10/site-packages/sklearn/linear_model/_logistic.py:1173: FutureWarning: `penalty='none'`has been deprecated in 1.2 and will be removed in 1.4. To keep the past behaviour, set `penalty=None`.\n",
      "  warnings.warn(\n",
      "/home/sash/.conda/envs/drug_overdose_deaths_analysis/lib/python3.10/site-packages/sklearn/linear_model/_logistic.py:1173: FutureWarning: `penalty='none'`has been deprecated in 1.2 and will be removed in 1.4. To keep the past behaviour, set `penalty=None`.\n",
      "  warnings.warn(\n",
      "/home/sash/.conda/envs/drug_overdose_deaths_analysis/lib/python3.10/site-packages/sklearn/linear_model/_logistic.py:1173: FutureWarning: `penalty='none'`has been deprecated in 1.2 and will be removed in 1.4. To keep the past behaviour, set `penalty=None`.\n",
      "  warnings.warn(\n",
      "/home/sash/.conda/envs/drug_overdose_deaths_analysis/lib/python3.10/site-packages/sklearn/linear_model/_logistic.py:1173: FutureWarning: `penalty='none'`has been deprecated in 1.2 and will be removed in 1.4. To keep the past behaviour, set `penalty=None`.\n",
      "  warnings.warn(\n",
      "/home/sash/.conda/envs/drug_overdose_deaths_analysis/lib/python3.10/site-packages/sklearn/linear_model/_logistic.py:1173: FutureWarning: `penalty='none'`has been deprecated in 1.2 and will be removed in 1.4. To keep the past behaviour, set `penalty=None`.\n",
      "  warnings.warn(\n",
      "/home/sash/.conda/envs/drug_overdose_deaths_analysis/lib/python3.10/site-packages/sklearn/linear_model/_logistic.py:1173: FutureWarning: `penalty='none'`has been deprecated in 1.2 and will be removed in 1.4. To keep the past behaviour, set `penalty=None`.\n",
      "  warnings.warn(\n",
      "/home/sash/.conda/envs/drug_overdose_deaths_analysis/lib/python3.10/site-packages/sklearn/linear_model/_logistic.py:1173: FutureWarning: `penalty='none'`has been deprecated in 1.2 and will be removed in 1.4. To keep the past behaviour, set `penalty=None`.\n",
      "  warnings.warn(\n",
      "/home/sash/.conda/envs/drug_overdose_deaths_analysis/lib/python3.10/site-packages/sklearn/linear_model/_logistic.py:1173: FutureWarning: `penalty='none'`has been deprecated in 1.2 and will be removed in 1.4. To keep the past behaviour, set `penalty=None`.\n",
      "  warnings.warn(\n",
      "/home/sash/.conda/envs/drug_overdose_deaths_analysis/lib/python3.10/site-packages/sklearn/linear_model/_logistic.py:1173: FutureWarning: `penalty='none'`has been deprecated in 1.2 and will be removed in 1.4. To keep the past behaviour, set `penalty=None`.\n",
      "  warnings.warn(\n",
      "/home/sash/.conda/envs/drug_overdose_deaths_analysis/lib/python3.10/site-packages/sklearn/linear_model/_logistic.py:1173: FutureWarning: `penalty='none'`has been deprecated in 1.2 and will be removed in 1.4. To keep the past behaviour, set `penalty=None`.\n",
      "  warnings.warn(\n",
      "/home/sash/.conda/envs/drug_overdose_deaths_analysis/lib/python3.10/site-packages/sklearn/linear_model/_logistic.py:1173: FutureWarning: `penalty='none'`has been deprecated in 1.2 and will be removed in 1.4. To keep the past behaviour, set `penalty=None`.\n",
      "  warnings.warn(\n",
      "/home/sash/.conda/envs/drug_overdose_deaths_analysis/lib/python3.10/site-packages/sklearn/linear_model/_logistic.py:1173: FutureWarning: `penalty='none'`has been deprecated in 1.2 and will be removed in 1.4. To keep the past behaviour, set `penalty=None`.\n",
      "  warnings.warn(\n",
      "/home/sash/.conda/envs/drug_overdose_deaths_analysis/lib/python3.10/site-packages/sklearn/linear_model/_logistic.py:1173: FutureWarning: `penalty='none'`has been deprecated in 1.2 and will be removed in 1.4. To keep the past behaviour, set `penalty=None`.\n",
      "  warnings.warn(\n",
      "/home/sash/.conda/envs/drug_overdose_deaths_analysis/lib/python3.10/site-packages/sklearn/linear_model/_logistic.py:1173: FutureWarning: `penalty='none'`has been deprecated in 1.2 and will be removed in 1.4. To keep the past behaviour, set `penalty=None`.\n",
      "  warnings.warn(\n",
      "/home/sash/.conda/envs/drug_overdose_deaths_analysis/lib/python3.10/site-packages/sklearn/linear_model/_logistic.py:1173: FutureWarning: `penalty='none'`has been deprecated in 1.2 and will be removed in 1.4. To keep the past behaviour, set `penalty=None`.\n",
      "  warnings.warn(\n",
      "/home/sash/.conda/envs/drug_overdose_deaths_analysis/lib/python3.10/site-packages/sklearn/linear_model/_logistic.py:1173: FutureWarning: `penalty='none'`has been deprecated in 1.2 and will be removed in 1.4. To keep the past behaviour, set `penalty=None`.\n",
      "  warnings.warn(\n",
      "/home/sash/.conda/envs/drug_overdose_deaths_analysis/lib/python3.10/site-packages/sklearn/linear_model/_logistic.py:1173: FutureWarning: `penalty='none'`has been deprecated in 1.2 and will be removed in 1.4. To keep the past behaviour, set `penalty=None`.\n",
      "  warnings.warn(\n",
      "/home/sash/.conda/envs/drug_overdose_deaths_analysis/lib/python3.10/site-packages/sklearn/linear_model/_logistic.py:1173: FutureWarning: `penalty='none'`has been deprecated in 1.2 and will be removed in 1.4. To keep the past behaviour, set `penalty=None`.\n",
      "  warnings.warn(\n",
      "/home/sash/.conda/envs/drug_overdose_deaths_analysis/lib/python3.10/site-packages/sklearn/linear_model/_logistic.py:1173: FutureWarning: `penalty='none'`has been deprecated in 1.2 and will be removed in 1.4. To keep the past behaviour, set `penalty=None`.\n",
      "  warnings.warn(\n",
      "/home/sash/.conda/envs/drug_overdose_deaths_analysis/lib/python3.10/site-packages/sklearn/linear_model/_logistic.py:1173: FutureWarning: `penalty='none'`has been deprecated in 1.2 and will be removed in 1.4. To keep the past behaviour, set `penalty=None`.\n",
      "  warnings.warn(\n",
      "/home/sash/.conda/envs/drug_overdose_deaths_analysis/lib/python3.10/site-packages/sklearn/linear_model/_logistic.py:1173: FutureWarning: `penalty='none'`has been deprecated in 1.2 and will be removed in 1.4. To keep the past behaviour, set `penalty=None`.\n",
      "  warnings.warn(\n",
      "/home/sash/.conda/envs/drug_overdose_deaths_analysis/lib/python3.10/site-packages/sklearn/linear_model/_logistic.py:1173: FutureWarning: `penalty='none'`has been deprecated in 1.2 and will be removed in 1.4. To keep the past behaviour, set `penalty=None`.\n",
      "  warnings.warn(\n",
      "/home/sash/.conda/envs/drug_overdose_deaths_analysis/lib/python3.10/site-packages/sklearn/linear_model/_logistic.py:1173: FutureWarning: `penalty='none'`has been deprecated in 1.2 and will be removed in 1.4. To keep the past behaviour, set `penalty=None`.\n",
      "  warnings.warn(\n",
      "/home/sash/.conda/envs/drug_overdose_deaths_analysis/lib/python3.10/site-packages/sklearn/linear_model/_logistic.py:1173: FutureWarning: `penalty='none'`has been deprecated in 1.2 and will be removed in 1.4. To keep the past behaviour, set `penalty=None`.\n",
      "  warnings.warn(\n",
      "/home/sash/.conda/envs/drug_overdose_deaths_analysis/lib/python3.10/site-packages/sklearn/linear_model/_logistic.py:1173: FutureWarning: `penalty='none'`has been deprecated in 1.2 and will be removed in 1.4. To keep the past behaviour, set `penalty=None`.\n",
      "  warnings.warn(\n",
      "/home/sash/.conda/envs/drug_overdose_deaths_analysis/lib/python3.10/site-packages/sklearn/linear_model/_logistic.py:1173: FutureWarning: `penalty='none'`has been deprecated in 1.2 and will be removed in 1.4. To keep the past behaviour, set `penalty=None`.\n",
      "  warnings.warn(\n",
      "/home/sash/.conda/envs/drug_overdose_deaths_analysis/lib/python3.10/site-packages/sklearn/linear_model/_logistic.py:1173: FutureWarning: `penalty='none'`has been deprecated in 1.2 and will be removed in 1.4. To keep the past behaviour, set `penalty=None`.\n",
      "  warnings.warn(\n",
      "/home/sash/.conda/envs/drug_overdose_deaths_analysis/lib/python3.10/site-packages/sklearn/linear_model/_logistic.py:1173: FutureWarning: `penalty='none'`has been deprecated in 1.2 and will be removed in 1.4. To keep the past behaviour, set `penalty=None`.\n",
      "  warnings.warn(\n",
      "/home/sash/.conda/envs/drug_overdose_deaths_analysis/lib/python3.10/site-packages/sklearn/linear_model/_logistic.py:1173: FutureWarning: `penalty='none'`has been deprecated in 1.2 and will be removed in 1.4. To keep the past behaviour, set `penalty=None`.\n",
      "  warnings.warn(\n",
      "/home/sash/.conda/envs/drug_overdose_deaths_analysis/lib/python3.10/site-packages/sklearn/linear_model/_logistic.py:1173: FutureWarning: `penalty='none'`has been deprecated in 1.2 and will be removed in 1.4. To keep the past behaviour, set `penalty=None`.\n",
      "  warnings.warn(\n",
      "/home/sash/.conda/envs/drug_overdose_deaths_analysis/lib/python3.10/site-packages/sklearn/linear_model/_logistic.py:1173: FutureWarning: `penalty='none'`has been deprecated in 1.2 and will be removed in 1.4. To keep the past behaviour, set `penalty=None`.\n",
      "  warnings.warn(\n",
      "/home/sash/.conda/envs/drug_overdose_deaths_analysis/lib/python3.10/site-packages/sklearn/linear_model/_logistic.py:1173: FutureWarning: `penalty='none'`has been deprecated in 1.2 and will be removed in 1.4. To keep the past behaviour, set `penalty=None`.\n",
      "  warnings.warn(\n",
      "/home/sash/.conda/envs/drug_overdose_deaths_analysis/lib/python3.10/site-packages/sklearn/linear_model/_logistic.py:1173: FutureWarning: `penalty='none'`has been deprecated in 1.2 and will be removed in 1.4. To keep the past behaviour, set `penalty=None`.\n",
      "  warnings.warn(\n",
      "/home/sash/.conda/envs/drug_overdose_deaths_analysis/lib/python3.10/site-packages/sklearn/linear_model/_logistic.py:1173: FutureWarning: `penalty='none'`has been deprecated in 1.2 and will be removed in 1.4. To keep the past behaviour, set `penalty=None`.\n",
      "  warnings.warn(\n",
      "/home/sash/.conda/envs/drug_overdose_deaths_analysis/lib/python3.10/site-packages/sklearn/linear_model/_logistic.py:1173: FutureWarning: `penalty='none'`has been deprecated in 1.2 and will be removed in 1.4. To keep the past behaviour, set `penalty=None`.\n",
      "  warnings.warn(\n",
      "/home/sash/.conda/envs/drug_overdose_deaths_analysis/lib/python3.10/site-packages/sklearn/linear_model/_logistic.py:1173: FutureWarning: `penalty='none'`has been deprecated in 1.2 and will be removed in 1.4. To keep the past behaviour, set `penalty=None`.\n",
      "  warnings.warn(\n",
      "/home/sash/.conda/envs/drug_overdose_deaths_analysis/lib/python3.10/site-packages/sklearn/linear_model/_logistic.py:1173: FutureWarning: `penalty='none'`has been deprecated in 1.2 and will be removed in 1.4. To keep the past behaviour, set `penalty=None`.\n",
      "  warnings.warn(\n",
      "/home/sash/.conda/envs/drug_overdose_deaths_analysis/lib/python3.10/site-packages/sklearn/linear_model/_logistic.py:1173: FutureWarning: `penalty='none'`has been deprecated in 1.2 and will be removed in 1.4. To keep the past behaviour, set `penalty=None`.\n",
      "  warnings.warn(\n",
      "/home/sash/.conda/envs/drug_overdose_deaths_analysis/lib/python3.10/site-packages/sklearn/linear_model/_logistic.py:1173: FutureWarning: `penalty='none'`has been deprecated in 1.2 and will be removed in 1.4. To keep the past behaviour, set `penalty=None`.\n",
      "  warnings.warn(\n",
      "/home/sash/.conda/envs/drug_overdose_deaths_analysis/lib/python3.10/site-packages/sklearn/linear_model/_logistic.py:1173: FutureWarning: `penalty='none'`has been deprecated in 1.2 and will be removed in 1.4. To keep the past behaviour, set `penalty=None`.\n",
      "  warnings.warn(\n",
      "/home/sash/.conda/envs/drug_overdose_deaths_analysis/lib/python3.10/site-packages/sklearn/linear_model/_logistic.py:1173: FutureWarning: `penalty='none'`has been deprecated in 1.2 and will be removed in 1.4. To keep the past behaviour, set `penalty=None`.\n",
      "  warnings.warn(\n",
      "/home/sash/.conda/envs/drug_overdose_deaths_analysis/lib/python3.10/site-packages/sklearn/linear_model/_logistic.py:1173: FutureWarning: `penalty='none'`has been deprecated in 1.2 and will be removed in 1.4. To keep the past behaviour, set `penalty=None`.\n",
      "  warnings.warn(\n",
      "/home/sash/.conda/envs/drug_overdose_deaths_analysis/lib/python3.10/site-packages/sklearn/linear_model/_logistic.py:1173: FutureWarning: `penalty='none'`has been deprecated in 1.2 and will be removed in 1.4. To keep the past behaviour, set `penalty=None`.\n",
      "  warnings.warn(\n",
      "/home/sash/.conda/envs/drug_overdose_deaths_analysis/lib/python3.10/site-packages/sklearn/linear_model/_logistic.py:1173: FutureWarning: `penalty='none'`has been deprecated in 1.2 and will be removed in 1.4. To keep the past behaviour, set `penalty=None`.\n",
      "  warnings.warn(\n",
      "/home/sash/.conda/envs/drug_overdose_deaths_analysis/lib/python3.10/site-packages/sklearn/linear_model/_logistic.py:1173: FutureWarning: `penalty='none'`has been deprecated in 1.2 and will be removed in 1.4. To keep the past behaviour, set `penalty=None`.\n",
      "  warnings.warn(\n",
      "/home/sash/.conda/envs/drug_overdose_deaths_analysis/lib/python3.10/site-packages/sklearn/linear_model/_logistic.py:1173: FutureWarning: `penalty='none'`has been deprecated in 1.2 and will be removed in 1.4. To keep the past behaviour, set `penalty=None`.\n",
      "  warnings.warn(\n",
      "/home/sash/.conda/envs/drug_overdose_deaths_analysis/lib/python3.10/site-packages/sklearn/linear_model/_logistic.py:1173: FutureWarning: `penalty='none'`has been deprecated in 1.2 and will be removed in 1.4. To keep the past behaviour, set `penalty=None`.\n",
      "  warnings.warn(\n",
      "/home/sash/.conda/envs/drug_overdose_deaths_analysis/lib/python3.10/site-packages/sklearn/linear_model/_logistic.py:1173: FutureWarning: `penalty='none'`has been deprecated in 1.2 and will be removed in 1.4. To keep the past behaviour, set `penalty=None`.\n",
      "  warnings.warn(\n",
      "/home/sash/.conda/envs/drug_overdose_deaths_analysis/lib/python3.10/site-packages/sklearn/linear_model/_logistic.py:1173: FutureWarning: `penalty='none'`has been deprecated in 1.2 and will be removed in 1.4. To keep the past behaviour, set `penalty=None`.\n",
      "  warnings.warn(\n",
      "/home/sash/.conda/envs/drug_overdose_deaths_analysis/lib/python3.10/site-packages/sklearn/linear_model/_logistic.py:1173: FutureWarning: `penalty='none'`has been deprecated in 1.2 and will be removed in 1.4. To keep the past behaviour, set `penalty=None`.\n",
      "  warnings.warn(\n",
      "/home/sash/.conda/envs/drug_overdose_deaths_analysis/lib/python3.10/site-packages/sklearn/linear_model/_logistic.py:1173: FutureWarning: `penalty='none'`has been deprecated in 1.2 and will be removed in 1.4. To keep the past behaviour, set `penalty=None`.\n",
      "  warnings.warn(\n",
      "/home/sash/.conda/envs/drug_overdose_deaths_analysis/lib/python3.10/site-packages/sklearn/linear_model/_logistic.py:1173: FutureWarning: `penalty='none'`has been deprecated in 1.2 and will be removed in 1.4. To keep the past behaviour, set `penalty=None`.\n",
      "  warnings.warn(\n",
      "/home/sash/.conda/envs/drug_overdose_deaths_analysis/lib/python3.10/site-packages/sklearn/linear_model/_logistic.py:1173: FutureWarning: `penalty='none'`has been deprecated in 1.2 and will be removed in 1.4. To keep the past behaviour, set `penalty=None`.\n",
      "  warnings.warn(\n",
      "/home/sash/.conda/envs/drug_overdose_deaths_analysis/lib/python3.10/site-packages/sklearn/linear_model/_logistic.py:1173: FutureWarning: `penalty='none'`has been deprecated in 1.2 and will be removed in 1.4. To keep the past behaviour, set `penalty=None`.\n",
      "  warnings.warn(\n",
      "/home/sash/.conda/envs/drug_overdose_deaths_analysis/lib/python3.10/site-packages/sklearn/linear_model/_logistic.py:1173: FutureWarning: `penalty='none'`has been deprecated in 1.2 and will be removed in 1.4. To keep the past behaviour, set `penalty=None`.\n",
      "  warnings.warn(\n",
      "/home/sash/.conda/envs/drug_overdose_deaths_analysis/lib/python3.10/site-packages/sklearn/linear_model/_logistic.py:1173: FutureWarning: `penalty='none'`has been deprecated in 1.2 and will be removed in 1.4. To keep the past behaviour, set `penalty=None`.\n",
      "  warnings.warn(\n",
      "/home/sash/.conda/envs/drug_overdose_deaths_analysis/lib/python3.10/site-packages/sklearn/linear_model/_logistic.py:1173: FutureWarning: `penalty='none'`has been deprecated in 1.2 and will be removed in 1.4. To keep the past behaviour, set `penalty=None`.\n",
      "  warnings.warn(\n",
      "/home/sash/.conda/envs/drug_overdose_deaths_analysis/lib/python3.10/site-packages/sklearn/linear_model/_logistic.py:1173: FutureWarning: `penalty='none'`has been deprecated in 1.2 and will be removed in 1.4. To keep the past behaviour, set `penalty=None`.\n",
      "  warnings.warn(\n",
      "/home/sash/.conda/envs/drug_overdose_deaths_analysis/lib/python3.10/site-packages/sklearn/linear_model/_logistic.py:1173: FutureWarning: `penalty='none'`has been deprecated in 1.2 and will be removed in 1.4. To keep the past behaviour, set `penalty=None`.\n",
      "  warnings.warn(\n",
      "/home/sash/.conda/envs/drug_overdose_deaths_analysis/lib/python3.10/site-packages/sklearn/linear_model/_logistic.py:1173: FutureWarning: `penalty='none'`has been deprecated in 1.2 and will be removed in 1.4. To keep the past behaviour, set `penalty=None`.\n",
      "  warnings.warn(\n",
      "/home/sash/.conda/envs/drug_overdose_deaths_analysis/lib/python3.10/site-packages/sklearn/linear_model/_logistic.py:1173: FutureWarning: `penalty='none'`has been deprecated in 1.2 and will be removed in 1.4. To keep the past behaviour, set `penalty=None`.\n",
      "  warnings.warn(\n",
      "/home/sash/.conda/envs/drug_overdose_deaths_analysis/lib/python3.10/site-packages/sklearn/linear_model/_logistic.py:1173: FutureWarning: `penalty='none'`has been deprecated in 1.2 and will be removed in 1.4. To keep the past behaviour, set `penalty=None`.\n",
      "  warnings.warn(\n",
      "/home/sash/.conda/envs/drug_overdose_deaths_analysis/lib/python3.10/site-packages/sklearn/linear_model/_logistic.py:1173: FutureWarning: `penalty='none'`has been deprecated in 1.2 and will be removed in 1.4. To keep the past behaviour, set `penalty=None`.\n",
      "  warnings.warn(\n",
      "/home/sash/.conda/envs/drug_overdose_deaths_analysis/lib/python3.10/site-packages/sklearn/linear_model/_logistic.py:1173: FutureWarning: `penalty='none'`has been deprecated in 1.2 and will be removed in 1.4. To keep the past behaviour, set `penalty=None`.\n",
      "  warnings.warn(\n",
      "/home/sash/.conda/envs/drug_overdose_deaths_analysis/lib/python3.10/site-packages/sklearn/linear_model/_logistic.py:1173: FutureWarning: `penalty='none'`has been deprecated in 1.2 and will be removed in 1.4. To keep the past behaviour, set `penalty=None`.\n",
      "  warnings.warn(\n",
      "/home/sash/.conda/envs/drug_overdose_deaths_analysis/lib/python3.10/site-packages/sklearn/linear_model/_logistic.py:1173: FutureWarning: `penalty='none'`has been deprecated in 1.2 and will be removed in 1.4. To keep the past behaviour, set `penalty=None`.\n",
      "  warnings.warn(\n",
      "/home/sash/.conda/envs/drug_overdose_deaths_analysis/lib/python3.10/site-packages/sklearn/linear_model/_logistic.py:1173: FutureWarning: `penalty='none'`has been deprecated in 1.2 and will be removed in 1.4. To keep the past behaviour, set `penalty=None`.\n",
      "  warnings.warn(\n",
      "/home/sash/.conda/envs/drug_overdose_deaths_analysis/lib/python3.10/site-packages/sklearn/linear_model/_logistic.py:1173: FutureWarning: `penalty='none'`has been deprecated in 1.2 and will be removed in 1.4. To keep the past behaviour, set `penalty=None`.\n",
      "  warnings.warn(\n",
      "/home/sash/.conda/envs/drug_overdose_deaths_analysis/lib/python3.10/site-packages/sklearn/linear_model/_logistic.py:1173: FutureWarning: `penalty='none'`has been deprecated in 1.2 and will be removed in 1.4. To keep the past behaviour, set `penalty=None`.\n",
      "  warnings.warn(\n",
      "/home/sash/.conda/envs/drug_overdose_deaths_analysis/lib/python3.10/site-packages/sklearn/linear_model/_logistic.py:1173: FutureWarning: `penalty='none'`has been deprecated in 1.2 and will be removed in 1.4. To keep the past behaviour, set `penalty=None`.\n",
      "  warnings.warn(\n",
      "/home/sash/.conda/envs/drug_overdose_deaths_analysis/lib/python3.10/site-packages/sklearn/linear_model/_logistic.py:1173: FutureWarning: `penalty='none'`has been deprecated in 1.2 and will be removed in 1.4. To keep the past behaviour, set `penalty=None`.\n",
      "  warnings.warn(\n",
      "/home/sash/.conda/envs/drug_overdose_deaths_analysis/lib/python3.10/site-packages/sklearn/linear_model/_logistic.py:1173: FutureWarning: `penalty='none'`has been deprecated in 1.2 and will be removed in 1.4. To keep the past behaviour, set `penalty=None`.\n",
      "  warnings.warn(\n",
      "/home/sash/.conda/envs/drug_overdose_deaths_analysis/lib/python3.10/site-packages/sklearn/linear_model/_logistic.py:1173: FutureWarning: `penalty='none'`has been deprecated in 1.2 and will be removed in 1.4. To keep the past behaviour, set `penalty=None`.\n",
      "  warnings.warn(\n",
      "/home/sash/.conda/envs/drug_overdose_deaths_analysis/lib/python3.10/site-packages/sklearn/linear_model/_logistic.py:1173: FutureWarning: `penalty='none'`has been deprecated in 1.2 and will be removed in 1.4. To keep the past behaviour, set `penalty=None`.\n",
      "  warnings.warn(\n",
      "/home/sash/.conda/envs/drug_overdose_deaths_analysis/lib/python3.10/site-packages/sklearn/linear_model/_logistic.py:1173: FutureWarning: `penalty='none'`has been deprecated in 1.2 and will be removed in 1.4. To keep the past behaviour, set `penalty=None`.\n",
      "  warnings.warn(\n",
      "/home/sash/.conda/envs/drug_overdose_deaths_analysis/lib/python3.10/site-packages/sklearn/linear_model/_logistic.py:1173: FutureWarning: `penalty='none'`has been deprecated in 1.2 and will be removed in 1.4. To keep the past behaviour, set `penalty=None`.\n",
      "  warnings.warn(\n",
      "/home/sash/.conda/envs/drug_overdose_deaths_analysis/lib/python3.10/site-packages/sklearn/linear_model/_logistic.py:1173: FutureWarning: `penalty='none'`has been deprecated in 1.2 and will be removed in 1.4. To keep the past behaviour, set `penalty=None`.\n",
      "  warnings.warn(\n",
      "/home/sash/.conda/envs/drug_overdose_deaths_analysis/lib/python3.10/site-packages/sklearn/linear_model/_logistic.py:1173: FutureWarning: `penalty='none'`has been deprecated in 1.2 and will be removed in 1.4. To keep the past behaviour, set `penalty=None`.\n",
      "  warnings.warn(\n",
      "/home/sash/.conda/envs/drug_overdose_deaths_analysis/lib/python3.10/site-packages/sklearn/linear_model/_logistic.py:1173: FutureWarning: `penalty='none'`has been deprecated in 1.2 and will be removed in 1.4. To keep the past behaviour, set `penalty=None`.\n",
      "  warnings.warn(\n",
      "/home/sash/.conda/envs/drug_overdose_deaths_analysis/lib/python3.10/site-packages/sklearn/linear_model/_logistic.py:1173: FutureWarning: `penalty='none'`has been deprecated in 1.2 and will be removed in 1.4. To keep the past behaviour, set `penalty=None`.\n",
      "  warnings.warn(\n",
      "/home/sash/.conda/envs/drug_overdose_deaths_analysis/lib/python3.10/site-packages/sklearn/linear_model/_logistic.py:1173: FutureWarning: `penalty='none'`has been deprecated in 1.2 and will be removed in 1.4. To keep the past behaviour, set `penalty=None`.\n",
      "  warnings.warn(\n",
      "/home/sash/.conda/envs/drug_overdose_deaths_analysis/lib/python3.10/site-packages/sklearn/linear_model/_logistic.py:1173: FutureWarning: `penalty='none'`has been deprecated in 1.2 and will be removed in 1.4. To keep the past behaviour, set `penalty=None`.\n",
      "  warnings.warn(\n",
      "/home/sash/.conda/envs/drug_overdose_deaths_analysis/lib/python3.10/site-packages/sklearn/linear_model/_logistic.py:1173: FutureWarning: `penalty='none'`has been deprecated in 1.2 and will be removed in 1.4. To keep the past behaviour, set `penalty=None`.\n",
      "  warnings.warn(\n",
      "/home/sash/.conda/envs/drug_overdose_deaths_analysis/lib/python3.10/site-packages/sklearn/linear_model/_logistic.py:1173: FutureWarning: `penalty='none'`has been deprecated in 1.2 and will be removed in 1.4. To keep the past behaviour, set `penalty=None`.\n",
      "  warnings.warn(\n",
      "/home/sash/.conda/envs/drug_overdose_deaths_analysis/lib/python3.10/site-packages/sklearn/linear_model/_logistic.py:1173: FutureWarning: `penalty='none'`has been deprecated in 1.2 and will be removed in 1.4. To keep the past behaviour, set `penalty=None`.\n",
      "  warnings.warn(\n",
      "/home/sash/.conda/envs/drug_overdose_deaths_analysis/lib/python3.10/site-packages/sklearn/linear_model/_logistic.py:1173: FutureWarning: `penalty='none'`has been deprecated in 1.2 and will be removed in 1.4. To keep the past behaviour, set `penalty=None`.\n",
      "  warnings.warn(\n",
      "/home/sash/.conda/envs/drug_overdose_deaths_analysis/lib/python3.10/site-packages/sklearn/linear_model/_logistic.py:1173: FutureWarning: `penalty='none'`has been deprecated in 1.2 and will be removed in 1.4. To keep the past behaviour, set `penalty=None`.\n",
      "  warnings.warn(\n",
      "/home/sash/.conda/envs/drug_overdose_deaths_analysis/lib/python3.10/site-packages/sklearn/linear_model/_logistic.py:1173: FutureWarning: `penalty='none'`has been deprecated in 1.2 and will be removed in 1.4. To keep the past behaviour, set `penalty=None`.\n",
      "  warnings.warn(\n",
      "/home/sash/.conda/envs/drug_overdose_deaths_analysis/lib/python3.10/site-packages/sklearn/linear_model/_logistic.py:1173: FutureWarning: `penalty='none'`has been deprecated in 1.2 and will be removed in 1.4. To keep the past behaviour, set `penalty=None`.\n",
      "  warnings.warn(\n",
      "/home/sash/.conda/envs/drug_overdose_deaths_analysis/lib/python3.10/site-packages/sklearn/linear_model/_logistic.py:1173: FutureWarning: `penalty='none'`has been deprecated in 1.2 and will be removed in 1.4. To keep the past behaviour, set `penalty=None`.\n",
      "  warnings.warn(\n",
      "/home/sash/.conda/envs/drug_overdose_deaths_analysis/lib/python3.10/site-packages/sklearn/linear_model/_logistic.py:1173: FutureWarning: `penalty='none'`has been deprecated in 1.2 and will be removed in 1.4. To keep the past behaviour, set `penalty=None`.\n",
      "  warnings.warn(\n",
      "/home/sash/.conda/envs/drug_overdose_deaths_analysis/lib/python3.10/site-packages/sklearn/linear_model/_logistic.py:1173: FutureWarning: `penalty='none'`has been deprecated in 1.2 and will be removed in 1.4. To keep the past behaviour, set `penalty=None`.\n",
      "  warnings.warn(\n",
      "/home/sash/.conda/envs/drug_overdose_deaths_analysis/lib/python3.10/site-packages/sklearn/linear_model/_logistic.py:1173: FutureWarning: `penalty='none'`has been deprecated in 1.2 and will be removed in 1.4. To keep the past behaviour, set `penalty=None`.\n",
      "  warnings.warn(\n",
      "/home/sash/.conda/envs/drug_overdose_deaths_analysis/lib/python3.10/site-packages/sklearn/linear_model/_logistic.py:1173: FutureWarning: `penalty='none'`has been deprecated in 1.2 and will be removed in 1.4. To keep the past behaviour, set `penalty=None`.\n",
      "  warnings.warn(\n",
      "/home/sash/.conda/envs/drug_overdose_deaths_analysis/lib/python3.10/site-packages/sklearn/linear_model/_logistic.py:1173: FutureWarning: `penalty='none'`has been deprecated in 1.2 and will be removed in 1.4. To keep the past behaviour, set `penalty=None`.\n",
      "  warnings.warn(\n",
      "/home/sash/.conda/envs/drug_overdose_deaths_analysis/lib/python3.10/site-packages/sklearn/linear_model/_logistic.py:1173: FutureWarning: `penalty='none'`has been deprecated in 1.2 and will be removed in 1.4. To keep the past behaviour, set `penalty=None`.\n",
      "  warnings.warn(\n",
      "/home/sash/.conda/envs/drug_overdose_deaths_analysis/lib/python3.10/site-packages/sklearn/linear_model/_logistic.py:1173: FutureWarning: `penalty='none'`has been deprecated in 1.2 and will be removed in 1.4. To keep the past behaviour, set `penalty=None`.\n",
      "  warnings.warn(\n",
      "/home/sash/.conda/envs/drug_overdose_deaths_analysis/lib/python3.10/site-packages/sklearn/linear_model/_logistic.py:1173: FutureWarning: `penalty='none'`has been deprecated in 1.2 and will be removed in 1.4. To keep the past behaviour, set `penalty=None`.\n",
      "  warnings.warn(\n",
      "/home/sash/.conda/envs/drug_overdose_deaths_analysis/lib/python3.10/site-packages/sklearn/linear_model/_logistic.py:1173: FutureWarning: `penalty='none'`has been deprecated in 1.2 and will be removed in 1.4. To keep the past behaviour, set `penalty=None`.\n",
      "  warnings.warn(\n",
      "/home/sash/.conda/envs/drug_overdose_deaths_analysis/lib/python3.10/site-packages/sklearn/linear_model/_logistic.py:1173: FutureWarning: `penalty='none'`has been deprecated in 1.2 and will be removed in 1.4. To keep the past behaviour, set `penalty=None`.\n",
      "  warnings.warn(\n",
      "/home/sash/.conda/envs/drug_overdose_deaths_analysis/lib/python3.10/site-packages/sklearn/linear_model/_logistic.py:1173: FutureWarning: `penalty='none'`has been deprecated in 1.2 and will be removed in 1.4. To keep the past behaviour, set `penalty=None`.\n",
      "  warnings.warn(\n",
      "/home/sash/.conda/envs/drug_overdose_deaths_analysis/lib/python3.10/site-packages/sklearn/linear_model/_logistic.py:1173: FutureWarning: `penalty='none'`has been deprecated in 1.2 and will be removed in 1.4. To keep the past behaviour, set `penalty=None`.\n",
      "  warnings.warn(\n",
      "/home/sash/.conda/envs/drug_overdose_deaths_analysis/lib/python3.10/site-packages/sklearn/linear_model/_logistic.py:1173: FutureWarning: `penalty='none'`has been deprecated in 1.2 and will be removed in 1.4. To keep the past behaviour, set `penalty=None`.\n",
      "  warnings.warn(\n",
      "/home/sash/.conda/envs/drug_overdose_deaths_analysis/lib/python3.10/site-packages/sklearn/linear_model/_logistic.py:1173: FutureWarning: `penalty='none'`has been deprecated in 1.2 and will be removed in 1.4. To keep the past behaviour, set `penalty=None`.\n",
      "  warnings.warn(\n",
      "/home/sash/.conda/envs/drug_overdose_deaths_analysis/lib/python3.10/site-packages/sklearn/linear_model/_logistic.py:1173: FutureWarning: `penalty='none'`has been deprecated in 1.2 and will be removed in 1.4. To keep the past behaviour, set `penalty=None`.\n",
      "  warnings.warn(\n",
      "/home/sash/.conda/envs/drug_overdose_deaths_analysis/lib/python3.10/site-packages/sklearn/linear_model/_logistic.py:1173: FutureWarning: `penalty='none'`has been deprecated in 1.2 and will be removed in 1.4. To keep the past behaviour, set `penalty=None`.\n",
      "  warnings.warn(\n",
      "/home/sash/.conda/envs/drug_overdose_deaths_analysis/lib/python3.10/site-packages/sklearn/linear_model/_logistic.py:1173: FutureWarning: `penalty='none'`has been deprecated in 1.2 and will be removed in 1.4. To keep the past behaviour, set `penalty=None`.\n",
      "  warnings.warn(\n",
      "/home/sash/.conda/envs/drug_overdose_deaths_analysis/lib/python3.10/site-packages/sklearn/linear_model/_logistic.py:1173: FutureWarning: `penalty='none'`has been deprecated in 1.2 and will be removed in 1.4. To keep the past behaviour, set `penalty=None`.\n",
      "  warnings.warn(\n",
      "/home/sash/.conda/envs/drug_overdose_deaths_analysis/lib/python3.10/site-packages/sklearn/linear_model/_logistic.py:1173: FutureWarning: `penalty='none'`has been deprecated in 1.2 and will be removed in 1.4. To keep the past behaviour, set `penalty=None`.\n",
      "  warnings.warn(\n",
      "/home/sash/.conda/envs/drug_overdose_deaths_analysis/lib/python3.10/site-packages/sklearn/linear_model/_logistic.py:1173: FutureWarning: `penalty='none'`has been deprecated in 1.2 and will be removed in 1.4. To keep the past behaviour, set `penalty=None`.\n",
      "  warnings.warn(\n",
      "/home/sash/.conda/envs/drug_overdose_deaths_analysis/lib/python3.10/site-packages/sklearn/linear_model/_logistic.py:1173: FutureWarning: `penalty='none'`has been deprecated in 1.2 and will be removed in 1.4. To keep the past behaviour, set `penalty=None`.\n",
      "  warnings.warn(\n",
      "/home/sash/.conda/envs/drug_overdose_deaths_analysis/lib/python3.10/site-packages/sklearn/linear_model/_logistic.py:1173: FutureWarning: `penalty='none'`has been deprecated in 1.2 and will be removed in 1.4. To keep the past behaviour, set `penalty=None`.\n",
      "  warnings.warn(\n",
      "/home/sash/.conda/envs/drug_overdose_deaths_analysis/lib/python3.10/site-packages/sklearn/linear_model/_logistic.py:1173: FutureWarning: `penalty='none'`has been deprecated in 1.2 and will be removed in 1.4. To keep the past behaviour, set `penalty=None`.\n",
      "  warnings.warn(\n",
      "/home/sash/.conda/envs/drug_overdose_deaths_analysis/lib/python3.10/site-packages/sklearn/linear_model/_logistic.py:1173: FutureWarning: `penalty='none'`has been deprecated in 1.2 and will be removed in 1.4. To keep the past behaviour, set `penalty=None`.\n",
      "  warnings.warn(\n",
      "/home/sash/.conda/envs/drug_overdose_deaths_analysis/lib/python3.10/site-packages/sklearn/linear_model/_logistic.py:1173: FutureWarning: `penalty='none'`has been deprecated in 1.2 and will be removed in 1.4. To keep the past behaviour, set `penalty=None`.\n",
      "  warnings.warn(\n",
      "/home/sash/.conda/envs/drug_overdose_deaths_analysis/lib/python3.10/site-packages/sklearn/linear_model/_logistic.py:1173: FutureWarning: `penalty='none'`has been deprecated in 1.2 and will be removed in 1.4. To keep the past behaviour, set `penalty=None`.\n",
      "  warnings.warn(\n",
      "/home/sash/.conda/envs/drug_overdose_deaths_analysis/lib/python3.10/site-packages/sklearn/linear_model/_logistic.py:1173: FutureWarning: `penalty='none'`has been deprecated in 1.2 and will be removed in 1.4. To keep the past behaviour, set `penalty=None`.\n",
      "  warnings.warn(\n",
      "/home/sash/.conda/envs/drug_overdose_deaths_analysis/lib/python3.10/site-packages/sklearn/linear_model/_logistic.py:1173: FutureWarning: `penalty='none'`has been deprecated in 1.2 and will be removed in 1.4. To keep the past behaviour, set `penalty=None`.\n",
      "  warnings.warn(\n",
      "/home/sash/.conda/envs/drug_overdose_deaths_analysis/lib/python3.10/site-packages/sklearn/linear_model/_logistic.py:1173: FutureWarning: `penalty='none'`has been deprecated in 1.2 and will be removed in 1.4. To keep the past behaviour, set `penalty=None`.\n",
      "  warnings.warn(\n",
      "/home/sash/.conda/envs/drug_overdose_deaths_analysis/lib/python3.10/site-packages/sklearn/linear_model/_logistic.py:1173: FutureWarning: `penalty='none'`has been deprecated in 1.2 and will be removed in 1.4. To keep the past behaviour, set `penalty=None`.\n",
      "  warnings.warn(\n",
      "/home/sash/.conda/envs/drug_overdose_deaths_analysis/lib/python3.10/site-packages/sklearn/linear_model/_logistic.py:1173: FutureWarning: `penalty='none'`has been deprecated in 1.2 and will be removed in 1.4. To keep the past behaviour, set `penalty=None`.\n",
      "  warnings.warn(\n",
      "/home/sash/.conda/envs/drug_overdose_deaths_analysis/lib/python3.10/site-packages/sklearn/linear_model/_logistic.py:1173: FutureWarning: `penalty='none'`has been deprecated in 1.2 and will be removed in 1.4. To keep the past behaviour, set `penalty=None`.\n",
      "  warnings.warn(\n",
      "/home/sash/.conda/envs/drug_overdose_deaths_analysis/lib/python3.10/site-packages/sklearn/linear_model/_logistic.py:1173: FutureWarning: `penalty='none'`has been deprecated in 1.2 and will be removed in 1.4. To keep the past behaviour, set `penalty=None`.\n",
      "  warnings.warn(\n",
      "/home/sash/.conda/envs/drug_overdose_deaths_analysis/lib/python3.10/site-packages/sklearn/linear_model/_logistic.py:1173: FutureWarning: `penalty='none'`has been deprecated in 1.2 and will be removed in 1.4. To keep the past behaviour, set `penalty=None`.\n",
      "  warnings.warn(\n",
      "/home/sash/.conda/envs/drug_overdose_deaths_analysis/lib/python3.10/site-packages/sklearn/linear_model/_logistic.py:1173: FutureWarning: `penalty='none'`has been deprecated in 1.2 and will be removed in 1.4. To keep the past behaviour, set `penalty=None`.\n",
      "  warnings.warn(\n",
      "/home/sash/.conda/envs/drug_overdose_deaths_analysis/lib/python3.10/site-packages/sklearn/linear_model/_logistic.py:1173: FutureWarning: `penalty='none'`has been deprecated in 1.2 and will be removed in 1.4. To keep the past behaviour, set `penalty=None`.\n",
      "  warnings.warn(\n",
      "/home/sash/.conda/envs/drug_overdose_deaths_analysis/lib/python3.10/site-packages/sklearn/linear_model/_logistic.py:1173: FutureWarning: `penalty='none'`has been deprecated in 1.2 and will be removed in 1.4. To keep the past behaviour, set `penalty=None`.\n",
      "  warnings.warn(\n",
      "/home/sash/.conda/envs/drug_overdose_deaths_analysis/lib/python3.10/site-packages/sklearn/linear_model/_logistic.py:1173: FutureWarning: `penalty='none'`has been deprecated in 1.2 and will be removed in 1.4. To keep the past behaviour, set `penalty=None`.\n",
      "  warnings.warn(\n",
      "/home/sash/.conda/envs/drug_overdose_deaths_analysis/lib/python3.10/site-packages/sklearn/linear_model/_logistic.py:1173: FutureWarning: `penalty='none'`has been deprecated in 1.2 and will be removed in 1.4. To keep the past behaviour, set `penalty=None`.\n",
      "  warnings.warn(\n",
      "/home/sash/.conda/envs/drug_overdose_deaths_analysis/lib/python3.10/site-packages/sklearn/linear_model/_logistic.py:1173: FutureWarning: `penalty='none'`has been deprecated in 1.2 and will be removed in 1.4. To keep the past behaviour, set `penalty=None`.\n",
      "  warnings.warn(\n",
      "/home/sash/.conda/envs/drug_overdose_deaths_analysis/lib/python3.10/site-packages/sklearn/linear_model/_logistic.py:1173: FutureWarning: `penalty='none'`has been deprecated in 1.2 and will be removed in 1.4. To keep the past behaviour, set `penalty=None`.\n",
      "  warnings.warn(\n",
      "/home/sash/.conda/envs/drug_overdose_deaths_analysis/lib/python3.10/site-packages/sklearn/linear_model/_logistic.py:1173: FutureWarning: `penalty='none'`has been deprecated in 1.2 and will be removed in 1.4. To keep the past behaviour, set `penalty=None`.\n",
      "  warnings.warn(\n",
      "/home/sash/.conda/envs/drug_overdose_deaths_analysis/lib/python3.10/site-packages/sklearn/linear_model/_logistic.py:1173: FutureWarning: `penalty='none'`has been deprecated in 1.2 and will be removed in 1.4. To keep the past behaviour, set `penalty=None`.\n",
      "  warnings.warn(\n",
      "/home/sash/.conda/envs/drug_overdose_deaths_analysis/lib/python3.10/site-packages/sklearn/linear_model/_logistic.py:1173: FutureWarning: `penalty='none'`has been deprecated in 1.2 and will be removed in 1.4. To keep the past behaviour, set `penalty=None`.\n",
      "  warnings.warn(\n",
      "/home/sash/.conda/envs/drug_overdose_deaths_analysis/lib/python3.10/site-packages/sklearn/linear_model/_logistic.py:1173: FutureWarning: `penalty='none'`has been deprecated in 1.2 and will be removed in 1.4. To keep the past behaviour, set `penalty=None`.\n",
      "  warnings.warn(\n",
      "/home/sash/.conda/envs/drug_overdose_deaths_analysis/lib/python3.10/site-packages/sklearn/linear_model/_logistic.py:1173: FutureWarning: `penalty='none'`has been deprecated in 1.2 and will be removed in 1.4. To keep the past behaviour, set `penalty=None`.\n",
      "  warnings.warn(\n",
      "/home/sash/.conda/envs/drug_overdose_deaths_analysis/lib/python3.10/site-packages/sklearn/linear_model/_logistic.py:1173: FutureWarning: `penalty='none'`has been deprecated in 1.2 and will be removed in 1.4. To keep the past behaviour, set `penalty=None`.\n",
      "  warnings.warn(\n",
      "/home/sash/.conda/envs/drug_overdose_deaths_analysis/lib/python3.10/site-packages/sklearn/linear_model/_logistic.py:1173: FutureWarning: `penalty='none'`has been deprecated in 1.2 and will be removed in 1.4. To keep the past behaviour, set `penalty=None`.\n",
      "  warnings.warn(\n",
      "/home/sash/.conda/envs/drug_overdose_deaths_analysis/lib/python3.10/site-packages/sklearn/linear_model/_logistic.py:1173: FutureWarning: `penalty='none'`has been deprecated in 1.2 and will be removed in 1.4. To keep the past behaviour, set `penalty=None`.\n",
      "  warnings.warn(\n",
      "/home/sash/.conda/envs/drug_overdose_deaths_analysis/lib/python3.10/site-packages/sklearn/linear_model/_logistic.py:1173: FutureWarning: `penalty='none'`has been deprecated in 1.2 and will be removed in 1.4. To keep the past behaviour, set `penalty=None`.\n",
      "  warnings.warn(\n",
      "/home/sash/.conda/envs/drug_overdose_deaths_analysis/lib/python3.10/site-packages/sklearn/linear_model/_logistic.py:1173: FutureWarning: `penalty='none'`has been deprecated in 1.2 and will be removed in 1.4. To keep the past behaviour, set `penalty=None`.\n",
      "  warnings.warn(\n",
      "/home/sash/.conda/envs/drug_overdose_deaths_analysis/lib/python3.10/site-packages/sklearn/linear_model/_logistic.py:1173: FutureWarning: `penalty='none'`has been deprecated in 1.2 and will be removed in 1.4. To keep the past behaviour, set `penalty=None`.\n",
      "  warnings.warn(\n",
      "/home/sash/.conda/envs/drug_overdose_deaths_analysis/lib/python3.10/site-packages/sklearn/linear_model/_logistic.py:1173: FutureWarning: `penalty='none'`has been deprecated in 1.2 and will be removed in 1.4. To keep the past behaviour, set `penalty=None`.\n",
      "  warnings.warn(\n",
      "/home/sash/.conda/envs/drug_overdose_deaths_analysis/lib/python3.10/site-packages/sklearn/linear_model/_logistic.py:1173: FutureWarning: `penalty='none'`has been deprecated in 1.2 and will be removed in 1.4. To keep the past behaviour, set `penalty=None`.\n",
      "  warnings.warn(\n",
      "/home/sash/.conda/envs/drug_overdose_deaths_analysis/lib/python3.10/site-packages/sklearn/linear_model/_logistic.py:1173: FutureWarning: `penalty='none'`has been deprecated in 1.2 and will be removed in 1.4. To keep the past behaviour, set `penalty=None`.\n",
      "  warnings.warn(\n",
      "/home/sash/.conda/envs/drug_overdose_deaths_analysis/lib/python3.10/site-packages/sklearn/linear_model/_logistic.py:1173: FutureWarning: `penalty='none'`has been deprecated in 1.2 and will be removed in 1.4. To keep the past behaviour, set `penalty=None`.\n",
      "  warnings.warn(\n",
      "/home/sash/.conda/envs/drug_overdose_deaths_analysis/lib/python3.10/site-packages/sklearn/linear_model/_logistic.py:1173: FutureWarning: `penalty='none'`has been deprecated in 1.2 and will be removed in 1.4. To keep the past behaviour, set `penalty=None`.\n",
      "  warnings.warn(\n",
      "/home/sash/.conda/envs/drug_overdose_deaths_analysis/lib/python3.10/site-packages/sklearn/linear_model/_logistic.py:1173: FutureWarning: `penalty='none'`has been deprecated in 1.2 and will be removed in 1.4. To keep the past behaviour, set `penalty=None`.\n",
      "  warnings.warn(\n",
      "/home/sash/.conda/envs/drug_overdose_deaths_analysis/lib/python3.10/site-packages/sklearn/linear_model/_logistic.py:1173: FutureWarning: `penalty='none'`has been deprecated in 1.2 and will be removed in 1.4. To keep the past behaviour, set `penalty=None`.\n",
      "  warnings.warn(\n",
      "/home/sash/.conda/envs/drug_overdose_deaths_analysis/lib/python3.10/site-packages/sklearn/linear_model/_logistic.py:1173: FutureWarning: `penalty='none'`has been deprecated in 1.2 and will be removed in 1.4. To keep the past behaviour, set `penalty=None`.\n",
      "  warnings.warn(\n",
      "/home/sash/.conda/envs/drug_overdose_deaths_analysis/lib/python3.10/site-packages/sklearn/linear_model/_logistic.py:1173: FutureWarning: `penalty='none'`has been deprecated in 1.2 and will be removed in 1.4. To keep the past behaviour, set `penalty=None`.\n",
      "  warnings.warn(\n",
      "/home/sash/.conda/envs/drug_overdose_deaths_analysis/lib/python3.10/site-packages/sklearn/linear_model/_logistic.py:1173: FutureWarning: `penalty='none'`has been deprecated in 1.2 and will be removed in 1.4. To keep the past behaviour, set `penalty=None`.\n",
      "  warnings.warn(\n",
      "/home/sash/.conda/envs/drug_overdose_deaths_analysis/lib/python3.10/site-packages/sklearn/linear_model/_logistic.py:1173: FutureWarning: `penalty='none'`has been deprecated in 1.2 and will be removed in 1.4. To keep the past behaviour, set `penalty=None`.\n",
      "  warnings.warn(\n",
      "/home/sash/.conda/envs/drug_overdose_deaths_analysis/lib/python3.10/site-packages/sklearn/linear_model/_logistic.py:1173: FutureWarning: `penalty='none'`has been deprecated in 1.2 and will be removed in 1.4. To keep the past behaviour, set `penalty=None`.\n",
      "  warnings.warn(\n",
      "/home/sash/.conda/envs/drug_overdose_deaths_analysis/lib/python3.10/site-packages/sklearn/linear_model/_logistic.py:1173: FutureWarning: `penalty='none'`has been deprecated in 1.2 and will be removed in 1.4. To keep the past behaviour, set `penalty=None`.\n",
      "  warnings.warn(\n",
      "/home/sash/.conda/envs/drug_overdose_deaths_analysis/lib/python3.10/site-packages/sklearn/linear_model/_logistic.py:1173: FutureWarning: `penalty='none'`has been deprecated in 1.2 and will be removed in 1.4. To keep the past behaviour, set `penalty=None`.\n",
      "  warnings.warn(\n",
      "/home/sash/.conda/envs/drug_overdose_deaths_analysis/lib/python3.10/site-packages/sklearn/linear_model/_logistic.py:1173: FutureWarning: `penalty='none'`has been deprecated in 1.2 and will be removed in 1.4. To keep the past behaviour, set `penalty=None`.\n",
      "  warnings.warn(\n",
      "/home/sash/.conda/envs/drug_overdose_deaths_analysis/lib/python3.10/site-packages/sklearn/linear_model/_logistic.py:1173: FutureWarning: `penalty='none'`has been deprecated in 1.2 and will be removed in 1.4. To keep the past behaviour, set `penalty=None`.\n",
      "  warnings.warn(\n",
      "/home/sash/.conda/envs/drug_overdose_deaths_analysis/lib/python3.10/site-packages/sklearn/linear_model/_logistic.py:1173: FutureWarning: `penalty='none'`has been deprecated in 1.2 and will be removed in 1.4. To keep the past behaviour, set `penalty=None`.\n",
      "  warnings.warn(\n",
      "/home/sash/.conda/envs/drug_overdose_deaths_analysis/lib/python3.10/site-packages/sklearn/linear_model/_logistic.py:1173: FutureWarning: `penalty='none'`has been deprecated in 1.2 and will be removed in 1.4. To keep the past behaviour, set `penalty=None`.\n",
      "  warnings.warn(\n",
      "/home/sash/.conda/envs/drug_overdose_deaths_analysis/lib/python3.10/site-packages/sklearn/linear_model/_logistic.py:1173: FutureWarning: `penalty='none'`has been deprecated in 1.2 and will be removed in 1.4. To keep the past behaviour, set `penalty=None`.\n",
      "  warnings.warn(\n"
     ]
    },
    {
     "name": "stdout",
     "output_type": "stream",
     "text": [
      "------------------------------------------------------------\n",
      "Best Parameters: {'C': 0.0001, 'penalty': 'l1', 'solver': 'liblinear'}\n",
      "Best Score: 0.6750000000000002\n",
      "------------------------------------------------------------\n",
      "Logistic Regression accuracy with best parameters: 0.693\n",
      "------------------------------------------------------------\n"
     ]
    },
    {
     "name": "stderr",
     "output_type": "stream",
     "text": [
      "/home/sash/.conda/envs/drug_overdose_deaths_analysis/lib/python3.10/site-packages/sklearn/linear_model/_logistic.py:1173: FutureWarning: `penalty='none'`has been deprecated in 1.2 and will be removed in 1.4. To keep the past behaviour, set `penalty=None`.\n",
      "  warnings.warn(\n",
      "/home/sash/.conda/envs/drug_overdose_deaths_analysis/lib/python3.10/site-packages/sklearn/linear_model/_logistic.py:1173: FutureWarning: `penalty='none'`has been deprecated in 1.2 and will be removed in 1.4. To keep the past behaviour, set `penalty=None`.\n",
      "  warnings.warn(\n"
     ]
    }
   ],
   "source": [
    "# Define the parameter grid for Logistic Regression\n",
    "\n",
    "param_grid = {\n",
    "    'penalty': ['l1', 'l2', 'elasticnet', 'none'],\n",
    "    'C': np.logspace(-4, 4, 20),\n",
    "    'solver': ['newton-cg', 'lbfgs', 'liblinear', 'sag', 'saga']\n",
    "}\n",
    "\n",
    "# Perform Grid Search with Cross Validation\n",
    "grid_search_lr = GridSearchCV(LogisticRegression(max_iter=1000, random_state=42), param_grid, cv=5, scoring='accuracy', n_jobs=-1)\n",
    "grid_search_lr.fit(X_train, y_train)\n",
    "\n",
    "# Get the best parameters and best score\n",
    "print('-' * 60)\n",
    "print(\"Best Parameters:\", grid_search_lr.best_params_)\n",
    "print(\"Best Score:\", grid_search_lr.best_score_)\n",
    "print('-' * 60)\n",
    "\n",
    "# Evaluate the best model on the test set\n",
    "best_lr = grid_search_lr.best_estimator_\n",
    "y_pred = best_lr.predict(X_test)\n",
    "accuracy = accuracy_score(y_test, y_pred)\n",
    "print(f\"Logistic Regression accuracy with best parameters: {accuracy:.3f}\")\n",
    "print('-' * 60)\n"
   ],
   "metadata": {
    "collapsed": false,
    "ExecuteTime": {
     "start_time": "2023-04-13T23:25:39.446334Z",
     "end_time": "2023-04-13T23:25:45.551692Z"
    }
   }
  },
  {
   "cell_type": "code",
   "execution_count": 60,
   "outputs": [
    {
     "name": "stdout",
     "output_type": "stream",
     "text": [
      "Logistic Regression accuracy with best parameters: 0.693\n"
     ]
    }
   ],
   "source": [
    "features = ['Age', 'DayOfWeek']\n",
    "target = 'GeneralDrugType'\n",
    "\n",
    "# One-hot encode categorical features\n",
    "X = pd.get_dummies(filtered_df[features], drop_first=True)\n",
    "y = filtered_df[target]\n",
    "\n",
    "# Split the data into train and test sets\n",
    "X_train, X_test, y_train, y_test = train_test_split(X, y, test_size=0.2, random_state=42)\n",
    "\n",
    "# Train a logistic regression model with best parameters\n",
    "model = LogisticRegression(C=0.0001, penalty='l1', solver='liblinear', max_iter=1000, random_state=42)\n",
    "model.fit(X_train, y_train)\n",
    "\n",
    "# Use the trained model to make predictions on test data\n",
    "y_pred = model.predict(X_test)\n",
    "\n",
    "# Evaluate the accuracy of the model\n",
    "accuracy = accuracy_score(y_test, y_pred)\n",
    "print(f\"Logistic Regression accuracy with best parameters: {accuracy:.3f}\")"
   ],
   "metadata": {
    "collapsed": false,
    "ExecuteTime": {
     "start_time": "2023-04-13T23:25:45.555322Z",
     "end_time": "2023-04-13T23:25:45.557841Z"
    }
   }
  },
  {
   "cell_type": "markdown",
   "source": [
    "Ця курсова робота була спробою серйозного наукового відкриття :)), та стала додатковою мотивацією для вивчення датасайнс. Я дослідив набір даних про смерті від передозування наркотиками в США та провів аналіз, щоб виявити закономірності у цих даних.\n",
    "\n",
    "Незважаючи на те, що моя робота не є закінченою, я вважаю, що вона стала хорошою платформою для подальших досліджень. Було цікаво досліджувати зв'язок між смертю від наркотиків та віком людини, порою року та дня неділі. Тут пропущенно більш тонкий підбір параметрів та наочна візуалізація за браком часу по особистих причинах."
   ],
   "metadata": {
    "collapsed": false
   }
  }
 ],
 "metadata": {
  "kernelspec": {
   "display_name": "Python 3",
   "language": "python",
   "name": "python3"
  },
  "language_info": {
   "codemirror_mode": {
    "name": "ipython",
    "version": 2
   },
   "file_extension": ".py",
   "mimetype": "text/x-python",
   "name": "python",
   "nbconvert_exporter": "python",
   "pygments_lexer": "ipython2",
   "version": "2.7.6"
  }
 },
 "nbformat": 4,
 "nbformat_minor": 0
}
